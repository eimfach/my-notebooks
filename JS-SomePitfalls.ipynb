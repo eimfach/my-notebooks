{
  "cells": [
    {
      "cell_type": "markdown",
      "source": [
        "# Some pitfalls in Javascript"
      ],
      "metadata": {
        "collapsed": false,
        "outputHidden": false,
        "inputHidden": false
      }
    },
    {
      "cell_type": "markdown",
      "source": [
        "### 1. The more simple ones"
      ],
      "metadata": {}
    },
    {
      "cell_type": "markdown",
      "source": [
        "#### Use of undefined variables\n",
        "\n",
        "Due to the fact that variables declared using ```var``` are hoisted, which means that the point of declaration moves to the very beginning of the current (function) scope no matter where in the scope the variable actually is declared. But that does noet apply for the variable definition, which assigns a value, only when the line of code was actually executed. You will get no error here, because it defaults to ```undefined```. ES2015 introduced ```let``` and ```const```, they will throw a ReferenceError and have block scope instead of function scope.\n",
        "\nMy opinion: Once you can use let and const in your environment you should avoid using var. Also always use const first, when you know you won't reassign a value."
      ],
      "metadata": {}
    },
    {
      "cell_type": "code",
      "source": [
        "var people = [\"Simon\", \"Bob\", \"Sam\"]\n",
        "var rows = []\n",
        "for (var i = 0; i < people.length; i++) {\n",
        "  rows.push({name: people[i], groupId: groupId})\n",
        "}\n",
        "var groupId = 1\n",
        "console.log(rows)"
      ],
      "outputs": [
        {
          "output_type": "stream",
          "name": "stdout",
          "text": [
            "[ { name: 'Simon', groupId: undefined },\n",
            "  { name: 'Bob', groupId: undefined },\n",
            "  { name: 'Sam', groupId: undefined } ]\n"
          ]
        }
      ],
      "execution_count": 2,
      "metadata": {
        "collapsed": false,
        "outputHidden": false,
        "inputHidden": false
      }
    },
    {
      "cell_type": "code",
      "source": [
        "{\n",
        "    const people = [\"Simon\", \"Bob\", \"Sam\"]\n",
        "    const rows = []\n",
        "    for (let i = 0; i < people.length; i++) {\n",
        "      rows.push({name: people[i], groupId: groupId})\n",
        "    }\n",
        "    const groupId = 1\n",
        "    console.log(rows)\n",
        "}\n"
      ],
      "outputs": [
        {
          "output_type": "error",
          "ename": "ReferenceError",
          "evalue": "groupId is not defined",
          "traceback": [
            "evalmachine.<anonymous>:5",
            "      rows.push({name: people[i], groupId: groupId})",
            "                                           ^",
            "",
            "ReferenceError: groupId is not defined",
            "    at evalmachine.<anonymous>:5:44",
            "    at Script.runInThisContext (vm.js:91:20)",
            "    at Object.runInThisContext (vm.js:298:38)",
            "    at run ([eval]:1054:15)",
            "    at onRunRequest ([eval]:888:18)",
            "    at onMessage ([eval]:848:13)",
            "    at process.emit (events.js:182:13)",
            "    at emit (internal/child_process.js:811:12)",
            "    at process._tickCallback (internal/process/next_tick.js:63:19)"
          ]
        }
      ],
      "execution_count": 3,
      "metadata": {
        "collapsed": false,
        "outputHidden": false,
        "inputHidden": false
      }
    }
  ],
  "metadata": {
    "kernel_info": {
      "name": "node_nteract"
    },
    "language_info": {
      "name": "javascript",
      "version": "10.2.0",
      "mimetype": "application/javascript",
      "file_extension": ".js"
    },
    "kernelspec": {
      "name": "node_nteract",
      "language": "javascript",
      "display_name": "Node.js (nteract)"
    },
    "nteract": {
      "version": "0.12.1"
    }
  },
  "nbformat": 4,
  "nbformat_minor": 4
}