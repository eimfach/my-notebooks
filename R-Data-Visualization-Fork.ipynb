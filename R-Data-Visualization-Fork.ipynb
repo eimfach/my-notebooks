{
  "cells": [
    {
      "cell_type": "markdown",
      "source": [
        "# Data Science - Professional Cerificate Program - Havard University"
      ],
      "metadata": {}
    },
    {
      "cell_type": "markdown",
      "source": [
        "## Data Science: Visualization"
      ],
      "metadata": {}
    },
    {
      "cell_type": "markdown",
      "source": [
        "(Insert Preface ...)"
      ],
      "metadata": {}
    },
    {
      "cell_type": "code",
      "source": [
        "install.packages(\"dslabs\")"
      ],
      "outputs": [
        {
          "output_type": "stream",
          "name": "stderr",
          "text": [
            "also installing the dependencies 'colorspace', 'assertthat', 'fansi', 'utf8', 'labeling', 'munsell', 'RColorBrewer', 'cli', 'pillar', 'gtable', 'lazyeval', 'plyr', 'reshape2', 'rlang', 'scales', 'tibble', 'viridisLite', 'ggplot2'\n",
            "\n"
          ]
        },
        {
          "output_type": "stream",
          "name": "stdout",
          "text": [
            "\n",
            "The downloaded binary packages are in\n",
            "\t/var/folders/yn/drbqv39s3s3b7z8kvqnz7wym0000gn/T//RtmpIRskcw/downloaded_packages\n"
          ]
        }
      ],
      "execution_count": 1,
      "metadata": {
        "collapsed": false,
        "outputHidden": true,
        "inputHidden": false
      }
    },
    {
      "cell_type": "code",
      "source": [
        "library(dslabs)\n",
        "data(murders)"
      ],
      "outputs": [],
      "execution_count": 2,
      "metadata": {
        "collapsed": false,
        "outputHidden": false,
        "inputHidden": false
      }
    }
  ],
  "metadata": {
    "kernel_info": {
      "name": "ir"
    },
    "language_info": {
      "name": "R",
      "codemirror_mode": "r",
      "pygments_lexer": "r",
      "mimetype": "text/x-r-source",
      "file_extension": ".r",
      "version": "3.5.1"
    },
    "kernelspec": {
      "name": "ir",
      "language": "R",
      "display_name": "R"
    },
    "nteract": {
      "version": "0.11.7"
    }
  },
  "nbformat": 4,
  "nbformat_minor": 4
}