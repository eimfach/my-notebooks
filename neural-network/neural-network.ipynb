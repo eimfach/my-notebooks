{
  "cells": [
    {
      "cell_type": "markdown",
      "source": [
        "# Neural Network with Python"
      ],
      "metadata": {
        "nteract": {
          "transient": {
            "deleting": false
          }
        }
      }
    },
    {
      "cell_type": "markdown",
      "source": [
        "Notes:\n",
        "\n",
        "- PyTorch as a replacement for NumPy to use the power of GPUs ? ( research: only cuda support ...)\n",
        "- [PyTorch vs. NumPy](https://medium.com/python-pandemonium/how-pytorch-will-replace-numpy-2df48427f56d)\n",
        "- `Text -> Topic` is a good purpose for neural networks\n",
        "- [Interactive Topics on Machine learning using python](https://engmrk.com)\n",
        "- [Master Thesis - Machine Learning Based Recommendation Systems](https://engmrk.com/module-18-machine-learning-based-recommendation-systems/?utm_campaign=News&utm_medium=Community&utm_source=DataCamp.com)\n",
        "- [Use a cloud gpu freely within kaggle.com](https://www.kaggle.com/dansbecker/running-kaggle-kernels-with-a-gpu)\n",
        "- [Machine Learning Datasets - Tensorflow](https://www.tensorflow.org/datasets/overview)\n",
        "  - Note that tensorflow-datasets expects you to have TensorFlow already installed, and currently depends on tensorflow (or tensorflow-gpu) >= 1.15.0.\n",
        "- [How to get and use MNIST data in Tensorflow](https://hyunyoung2.github.io/2018/01/18/How_To_Get_And_Use_MNIST_In_Tensorflow/)\n",
        "- [Overview of Basic Numpy Operations](https://www.pluralsight.com/guides/overview-basic-numpy-operations)\n",
        "- [Practical Text Classification With Python and Keras](https://realpython.com/python-keras-text-classification/#introducing-keras)"
      ],
      "metadata": {
        "nteract": {
          "transient": {
            "deleting": false
          }
        }
      }
    },
    {
      "cell_type": "code",
      "source": [
        "import matplotlib.pyplot\n",
        "import numpy\n",
        "import scipy\n",
        "import scipy.special\n",
        "import imageio\n",
        "import glob\n",
        "import zipfile\n",
        "%matplotlib inline"
      ],
      "outputs": [
        {
          "output_type": "error",
          "ename": "ModuleNotFoundError",
          "evalue": "No module named 'imageio'",
          "traceback": [
            "\u001b[0;31m---------------------------------------------------------------------------\u001b[0m",
            "\u001b[0;31mModuleNotFoundError\u001b[0m                       Traceback (most recent call last)",
            "\u001b[0;32m<ipython-input-1-508a76268b72>\u001b[0m in \u001b[0;36m<module>\u001b[0;34m\u001b[0m\n\u001b[1;32m      3\u001b[0m \u001b[0;32mimport\u001b[0m \u001b[0mscipy\u001b[0m\u001b[0;34m\u001b[0m\u001b[0;34m\u001b[0m\u001b[0m\n\u001b[1;32m      4\u001b[0m \u001b[0;32mimport\u001b[0m \u001b[0mscipy\u001b[0m\u001b[0;34m.\u001b[0m\u001b[0mspecial\u001b[0m\u001b[0;34m\u001b[0m\u001b[0;34m\u001b[0m\u001b[0m\n\u001b[0;32m----> 5\u001b[0;31m \u001b[0;32mimport\u001b[0m \u001b[0mimageio\u001b[0m\u001b[0;34m\u001b[0m\u001b[0;34m\u001b[0m\u001b[0m\n\u001b[0m\u001b[1;32m      6\u001b[0m \u001b[0;32mimport\u001b[0m \u001b[0mglob\u001b[0m\u001b[0;34m\u001b[0m\u001b[0;34m\u001b[0m\u001b[0m\n\u001b[1;32m      7\u001b[0m \u001b[0;32mimport\u001b[0m \u001b[0mzipfile\u001b[0m\u001b[0;34m\u001b[0m\u001b[0;34m\u001b[0m\u001b[0m\n",
            "\u001b[0;31mModuleNotFoundError\u001b[0m: No module named 'imageio'"
          ]
        }
      ],
      "execution_count": 1,
      "metadata": {
        "collapsed": false,
        "jupyter": {
          "source_hidden": false,
          "outputs_hidden": false
        },
        "nteract": {
          "transient": {
            "deleting": false
          }
        },
        "execution": {
          "iopub.status.busy": "2020-02-16T11:13:02.994Z",
          "iopub.execute_input": "2020-02-16T11:13:03.017Z",
          "iopub.status.idle": "2020-02-16T11:13:03.489Z",
          "shell.execute_reply": "2020-02-16T11:13:03.547Z"
        }
      }
    },
    {
      "cell_type": "markdown",
      "source": [
        "## Global Cells"
      ],
      "metadata": {
        "nteract": {
          "transient": {
            "deleting": false
          }
        }
      }
    },
    {
      "cell_type": "markdown",
      "source": [
        "- Variables used globally in the document"
      ],
      "metadata": {
        "nteract": {
          "transient": {
            "deleting": false
          }
        }
      }
    },
    {
      "cell_type": "markdown",
      "source": [
        "Choose Small Training Set (100):"
      ],
      "metadata": {
        "nteract": {
          "transient": {
            "deleting": false
          }
        }
      }
    },
    {
      "cell_type": "code",
      "source": [
        "# load the mnist training data CSV file into a list\n",
        "training_data_file = open(\"mnist_datasets/mnist_train_100.csv\", 'r')\n",
        "global_training_data = training_data_file.readlines()\n",
        "training_data_file.close()"
      ],
      "outputs": [],
      "execution_count": null,
      "metadata": {
        "collapsed": false,
        "jupyter": {
          "source_hidden": false,
          "outputs_hidden": false
        },
        "nteract": {
          "transient": {
            "deleting": false
          }
        }
      }
    },
    {
      "cell_type": "markdown",
      "source": [
        "Choose Large Training Set (60,000):"
      ],
      "metadata": {
        "nteract": {
          "transient": {
            "deleting": false
          }
        }
      }
    },
    {
      "cell_type": "code",
      "source": [
        "zipHandle = zipfile.ZipFile(\"mnist_datasets/mnist_train.csv.zip\")\n",
        "global_training_data = [b.decode() for b in zipHandle.open(\"mnist_train.csv\").readlines()]\n",
        "zipHandle.close()"
      ],
      "outputs": [],
      "execution_count": 5,
      "metadata": {
        "collapsed": false,
        "jupyter": {
          "source_hidden": false,
          "outputs_hidden": false
        },
        "nteract": {
          "transient": {
            "deleting": false
          }
        },
        "execution": {
          "iopub.status.busy": "2020-02-13T17:36:48.699Z",
          "iopub.execute_input": "2020-02-13T17:36:48.717Z",
          "iopub.status.idle": "2020-02-13T17:36:49.997Z",
          "shell.execute_reply": "2020-02-13T17:36:50.009Z"
        }
      }
    },
    {
      "cell_type": "markdown",
      "source": [
        "Choose Small Testing Set (10):"
      ],
      "metadata": {
        "nteract": {
          "transient": {
            "deleting": false
          }
        }
      }
    },
    {
      "cell_type": "code",
      "source": [
        "# load the mnist test data CSV file into a list\n",
        "test_data_file = open(\"mnist_datasets/mnist_test_10.csv\", 'r')\n",
        "global_test_data = test_data_file.readlines()\n",
        "test_data_file.close()"
      ],
      "outputs": [],
      "execution_count": null,
      "metadata": {
        "collapsed": false,
        "jupyter": {
          "source_hidden": false,
          "outputs_hidden": false
        },
        "nteract": {
          "transient": {
            "deleting": false
          }
        }
      }
    },
    {
      "cell_type": "markdown",
      "source": [
        "Choose Large Testing Set (10,000):"
      ],
      "metadata": {
        "nteract": {
          "transient": {
            "deleting": false
          }
        }
      }
    },
    {
      "cell_type": "code",
      "source": [
        "# load the mnist test data CSV file into a list\n",
        "test_data_file = open(\"mnist_datasets/mnist_test.csv\", 'r')\n",
        "global_test_data = test_data_file.readlines()\n",
        "test_data_file.close()"
      ],
      "outputs": [],
      "execution_count": 6,
      "metadata": {
        "collapsed": false,
        "jupyter": {
          "source_hidden": false,
          "outputs_hidden": false
        },
        "nteract": {
          "transient": {
            "deleting": false
          }
        },
        "execution": {
          "iopub.status.busy": "2020-02-13T17:36:51.985Z",
          "iopub.execute_input": "2020-02-13T17:36:52.004Z",
          "iopub.status.idle": "2020-02-13T17:36:52.058Z",
          "shell.execute_reply": "2020-02-13T17:36:52.079Z"
        }
      }
    },
    {
      "cell_type": "markdown",
      "source": [
        "---"
      ],
      "metadata": {
        "nteract": {
          "transient": {
            "deleting": false
          }
        }
      }
    },
    {
      "cell_type": "markdown",
      "source": [
        "## Introduction to a simple Neural Network"
      ],
      "metadata": {
        "nteract": {
          "transient": {
            "deleting": false
          }
        }
      }
    },
    {
      "cell_type": "markdown",
      "source": [
        "- We start with a simple scaffold for our three layers network - an object"
      ],
      "metadata": {
        "nteract": {
          "transient": {
            "deleting": false
          }
        }
      }
    },
    {
      "cell_type": "code",
      "source": [
        "# neural network class definition\n",
        "\n",
        "class NeuralNetwork():\n",
        "    \n",
        "    def __init__():\n",
        "        pass\n",
        "    \n",
        "    def train():\n",
        "        pass\n",
        "    \n",
        "    def query():\n",
        "        pass"
      ],
      "outputs": [],
      "execution_count": 2,
      "metadata": {
        "collapsed": false,
        "jupyter": {
          "source_hidden": false,
          "outputs_hidden": false
        },
        "nteract": {
          "transient": {
            "deleting": false
          }
        },
        "execution": {
          "iopub.status.busy": "2020-02-12T08:36:35.322Z",
          "iopub.execute_input": "2020-02-12T08:36:35.334Z",
          "iopub.status.idle": "2020-02-12T08:36:35.354Z",
          "shell.execute_reply": "2020-02-12T08:36:37.371Z"
        }
      }
    },
    {
      "cell_type": "markdown",
      "source": [
        "- Add constructor parameters like the amount of `nodes` each layer of the network has or the `learningrate`. \n",
        "\n",
        "- For now, our network is limited to three layers: `input nodes` (input layer), 1x `hidden nodes` (hidden layer), `output nodes` (output layer)"
      ],
      "metadata": {
        "nteract": {
          "transient": {
            "deleting": false
          }
        }
      }
    },
    {
      "cell_type": "code",
      "source": [
        "# neural network class definition\n",
        "\n",
        "class NeuralNetwork():\n",
        "    \n",
        "    def __init__(self, learningRate, iNodes, hNodes, oNodes):\n",
        "        self.learningRate = learningRate\n",
        "        self.inputNodes = iNodes\n",
        "        self.hiddenNodes = hNodes\n",
        "        self.outputNodes = oNodes\n",
        "    \n",
        "    def train():\n",
        "        pass\n",
        "    \n",
        "    def query():\n",
        "        pass"
      ],
      "outputs": [],
      "execution_count": 3,
      "metadata": {
        "collapsed": false,
        "jupyter": {
          "source_hidden": false,
          "outputs_hidden": false
        },
        "nteract": {
          "transient": {
            "deleting": false
          }
        },
        "execution": {
          "iopub.status.busy": "2020-02-12T08:36:35.375Z",
          "iopub.execute_input": "2020-02-12T08:36:35.388Z",
          "iopub.status.idle": "2020-02-12T08:36:35.410Z",
          "shell.execute_reply": "2020-02-12T08:36:37.380Z"
        }
      }
    },
    {
      "cell_type": "markdown",
      "source": [
        "## Parameter für das Netzwerk:"
      ],
      "metadata": {
        "nteract": {
          "transient": {
            "deleting": false
          }
        }
      }
    },
    {
      "cell_type": "markdown",
      "source": [
        "### 1. Nodes and Learnrate"
      ],
      "metadata": {
        "nteract": {
          "transient": {
            "deleting": false
          }
        }
      }
    },
    {
      "cell_type": "code",
      "source": [
        "sampleLayerNodes = 3\n",
        "sampleLearnRate = 0.3"
      ],
      "outputs": [],
      "execution_count": 4,
      "metadata": {
        "collapsed": false,
        "jupyter": {
          "source_hidden": false,
          "outputs_hidden": false
        },
        "nteract": {
          "transient": {
            "deleting": false
          }
        },
        "execution": {
          "iopub.status.busy": "2020-02-12T08:36:35.429Z",
          "iopub.execute_input": "2020-02-12T08:36:35.442Z",
          "iopub.status.idle": "2020-02-12T08:36:35.461Z",
          "shell.execute_reply": "2020-02-12T08:36:37.387Z"
        }
      }
    },
    {
      "cell_type": "markdown",
      "source": [
        "### 2. Gewichte – das Herz des Netzes\n",
        "\n",
        "Im nächsten Schritt wird das Netz der Knoten und Verknüpfungen erstellt. Die wichtigsten Elemente des Netzes sind die Verknüpfungsgewichte. Diese Gewichte bestimmen die Signalanteile, die das Netz in Vorwärtsrichtung weiterleitet, und die Fehleranteile, die das Netz in Rückwärtsrichtung durchlaufen. Schließlich sind es die Verknüpfungsgewichte selbst, die verfeinert werden, um die Reaktion des Netzes auf Eingaben zu verbessern.\n",
        "\n",
        "Da sich die Gewichte kurz und bündig als Matrix ausdrücken lassen, können wir Folgendes erzeugen: Eine Matrix mit den Gewichten für die Verknüpfungen zwischen der Eingabeschicht und der versteckten Schicht, Winput_hidden, der Größe (hidden_nodes mal input_nodes). Eine andere Matrix für die Verknüpfungen zwischen der versteckten Schicht und der Ausgabeschicht, Whidden_output, der Größe (output_nodes mal hidden_nodes)\n",
        "\n",
        "> Rashid, Tariq. Neuronale Netze selbst programmieren: Ein verständlicher Einstieg mit Python (Animals) (German Edition) (S.121). O'Reilly. Kindle-Version. \n",
        "\n",
        "---"
      ],
      "metadata": {
        "nteract": {
          "transient": {
            "deleting": false
          }
        }
      }
    },
    {
      "cell_type": "markdown",
      "source": [
        "- Die Anfangswerte der Verknüpfungsgewichte sollten klein und zufällig sein. Dafür wird die funktion `random.rand()` vom Modul `numpy` benutzt.\n",
        "\n",
        "- Der Bereich bewegt sich zwischen -0.5 und 0.5 (Wichtig im Beispiel ist 0,5 abzuziehen) **NOTE:** Wie funktioniert das ?"
      ],
      "metadata": {
        "nteract": {
          "transient": {
            "deleting": false
          }
        }
      }
    },
    {
      "cell_type": "markdown",
      "source": [
        "#### Standard Gewichtung:"
      ],
      "metadata": {
        "nteract": {
          "transient": {
            "deleting": false
          }
        }
      }
    },
    {
      "cell_type": "code",
      "source": [
        "def weightMatrice(aNodes, bNodes):\n",
        "    return numpy.random.rand(aNodes, bNodes) - 0.5"
      ],
      "outputs": [],
      "execution_count": 5,
      "metadata": {
        "collapsed": false,
        "jupyter": {
          "source_hidden": false,
          "outputs_hidden": false
        },
        "nteract": {
          "transient": {
            "deleting": false
          }
        },
        "execution": {
          "iopub.status.busy": "2020-02-12T08:36:35.481Z",
          "iopub.execute_input": "2020-02-12T08:36:35.493Z",
          "iopub.status.idle": "2020-02-12T08:36:35.515Z",
          "shell.execute_reply": "2020-02-12T08:36:37.398Z"
        }
      }
    },
    {
      "cell_type": "code",
      "source": [
        "print(weightMatrice(3,3))"
      ],
      "outputs": [
        {
          "output_type": "stream",
          "name": "stdout",
          "text": [
            "[[ 0.31287809  0.00487951 -0.43805093]\n",
            " [-0.34616448 -0.19196289  0.1599676 ]\n",
            " [-0.30370881  0.42759796  0.41126407]]\n"
          ]
        }
      ],
      "execution_count": 6,
      "metadata": {
        "collapsed": false,
        "jupyter": {
          "source_hidden": false,
          "outputs_hidden": false
        },
        "nteract": {
          "transient": {
            "deleting": false
          }
        },
        "execution": {
          "iopub.status.busy": "2020-02-12T08:36:35.536Z",
          "iopub.execute_input": "2020-02-12T08:36:35.553Z",
          "iopub.status.idle": "2020-02-12T08:36:35.588Z",
          "shell.execute_reply": "2020-02-12T08:36:37.407Z"
        }
      }
    },
    {
      "cell_type": "markdown",
      "source": [
        "#### Die komplexere Gewichtung mit 'Normalverteilung' (Die in unserem Netzwerk benutzt werden soll):"
      ],
      "metadata": {
        "nteract": {
          "transient": {
            "deleting": false
          }
        }
      }
    },
    {
      "cell_type": "code",
      "source": [
        "def weightMatriceNormal(bNodes, aNodes):\n",
        "    return numpy.random.normal(0.0, pow(aNodes, -0.5), (aNodes, bNodes))"
      ],
      "outputs": [],
      "execution_count": 7,
      "metadata": {
        "collapsed": false,
        "jupyter": {
          "source_hidden": false,
          "outputs_hidden": false
        },
        "nteract": {
          "transient": {
            "deleting": false
          }
        },
        "execution": {
          "iopub.status.busy": "2020-02-12T08:36:35.615Z",
          "iopub.execute_input": "2020-02-12T08:36:35.630Z",
          "iopub.status.idle": "2020-02-12T08:36:35.655Z",
          "shell.execute_reply": "2020-02-12T08:36:37.417Z"
        }
      }
    },
    {
      "cell_type": "markdown",
      "source": [
        "Sample output of `weightMatriceNormal`"
      ],
      "metadata": {
        "nteract": {
          "transient": {
            "deleting": false
          }
        }
      }
    },
    {
      "cell_type": "code",
      "source": [
        "sample_w_i_h = weightMatriceNormal(3,3)\n",
        "\n",
        "print(sample_w_i_h)"
      ],
      "outputs": [
        {
          "output_type": "stream",
          "name": "stdout",
          "text": [
            "[[-0.26713278 -1.24016208 -0.161812  ]\n",
            " [-0.51865148 -0.27299027  0.14079399]\n",
            " [-0.27637724 -0.23549412  0.18617501]]\n"
          ]
        }
      ],
      "execution_count": 8,
      "metadata": {
        "collapsed": false,
        "jupyter": {
          "source_hidden": false,
          "outputs_hidden": false
        },
        "nteract": {
          "transient": {
            "deleting": false
          }
        },
        "execution": {
          "iopub.status.busy": "2020-02-12T08:36:35.679Z",
          "iopub.execute_input": "2020-02-12T08:36:35.693Z",
          "iopub.status.idle": "2020-02-12T08:36:35.722Z",
          "shell.execute_reply": "2020-02-12T08:36:37.425Z"
        }
      }
    },
    {
      "cell_type": "code",
      "source": [
        "matplotlib.pyplot.imshow(sample_w_i_h, interpolation=\"nearest\")"
      ],
      "outputs": [
        {
          "output_type": "execute_result",
          "execution_count": 9,
          "data": {
            "text/plain": [
              "<matplotlib.image.AxesImage at 0x1117ac990>"
            ]
          },
          "metadata": {}
        },
        {
          "output_type": "display_data",
          "data": {
            "text/plain": [
              "<Figure size 432x288 with 1 Axes>"
            ],
            "image/png": "[encoded data removed]"
          },
          "metadata": {
            "needs_background": "light"
          }
        }
      ],
      "execution_count": 9,
      "metadata": {
        "collapsed": false,
        "jupyter": {
          "source_hidden": false,
          "outputs_hidden": true
        },
        "nteract": {
          "transient": {
            "deleting": false
          }
        },
        "execution": {
          "iopub.status.busy": "2020-02-12T08:36:35.743Z",
          "iopub.execute_input": "2020-02-12T08:36:35.757Z",
          "iopub.status.idle": "2020-02-12T08:36:35.794Z",
          "shell.execute_reply": "2020-02-12T08:36:37.435Z"
        },
        "outputExpanded": true
      }
    },
    {
      "cell_type": "markdown",
      "source": [
        "- Now we update our `NetworkClass` to create the inital matrices for the weight connections between Input Layer and Hidden Layer and also between Hidden Layer and Output Later:\n",
        "\n",
        "```\n",
        "        self.weightInputToHidden = weightMatriceW_I_H(iNodes=iNodes, hNodes=hNodes)\n",
        "        self.weightHiddenToOutput = numpy.random.rand(hNodes=hNodes, oNodes=oNodes)\n",
        "```"
      ],
      "metadata": {
        "nteract": {
          "transient": {
            "deleting": false
          }
        }
      }
    },
    {
      "cell_type": "code",
      "source": [
        "# neural network class definition\n",
        "\n",
        "class NeuralNetwork():\n",
        "    \n",
        "    def __init__(self, learningRate, iNodes, hNodes, oNodes):\n",
        "        self.learningRate = learningRate\n",
        "        self.inputNodes = iNodes\n",
        "        self.hiddenNodes = hNodes\n",
        "        self.outputNodes = oNodes\n",
        "        \n",
        "        # link weight matrices, w_i_h and w_h_o\n",
        "        # w = weight; i = input; h = hidden; o = output\n",
        "        # w_i_h = weightInputToHidden | w_h_o = weightHiddenToOutput\n",
        "        # weights inside the arrays are w_i_j,\n",
        "        # where link is from node i to node j in the next layer \n",
        "        # w_1_1 -> w_2_1 \n",
        "        # w_1_2 -> w_2_2 etc ...\n",
        "        self.weightInputToHidden = weightMatriceNormal(aNodes=iNodes, bNodes=hNodes)\n",
        "        self.weightHiddenToOutput = weightMatriceNormal(aNodes=hNodes, bNodes=oNodes)\n",
        "\n",
        "    \n",
        "    def train():\n",
        "        pass\n",
        "    \n",
        "    def query():\n",
        "        pass"
      ],
      "outputs": [],
      "execution_count": 10,
      "metadata": {
        "collapsed": false,
        "jupyter": {
          "source_hidden": false,
          "outputs_hidden": false
        },
        "nteract": {
          "transient": {
            "deleting": false
          }
        },
        "execution": {
          "iopub.status.busy": "2020-02-12T08:36:35.815Z",
          "iopub.execute_input": "2020-02-12T08:36:35.828Z",
          "iopub.status.idle": "2020-02-12T08:36:35.852Z",
          "shell.execute_reply": "2020-02-12T08:36:37.444Z"
        }
      }
    },
    {
      "cell_type": "markdown",
      "source": [
        "### The Network method `query`"
      ],
      "metadata": {
        "nteract": {
          "transient": {
            "deleting": false
          }
        }
      }
    },
    {
      "cell_type": "markdown",
      "source": [
        "- The `query` is responsible for I/O of the network"
      ],
      "metadata": {
        "nteract": {
          "transient": {
            "deleting": false
          }
        }
      }
    },
    {
      "cell_type": "markdown",
      "source": [
        "- At first multiply a given input matrice with the **weights** matrice. That matrice reflects the weight values of each node connection between **first and second layer** (known as input layer and hidden layer -> w_i_h = weight_input_hidden)\n",
        "\n",
        "Sample output:"
      ],
      "metadata": {
        "nteract": {
          "transient": {
            "deleting": false
          }
        }
      }
    },
    {
      "cell_type": "code",
      "source": [
        "outputWeighted = numpy.dot(weightMatriceNormal(3,3), [2, 3, 5])\n",
        "print(outputWeighted)"
      ],
      "outputs": [
        {
          "output_type": "stream",
          "name": "stdout",
          "text": [
            "[-1.69229923  1.08006595  4.98363431]\n"
          ]
        }
      ],
      "execution_count": 12,
      "metadata": {
        "collapsed": false,
        "jupyter": {
          "source_hidden": false,
          "outputs_hidden": false
        },
        "nteract": {
          "transient": {
            "deleting": false
          }
        },
        "execution": {
          "iopub.status.busy": "2020-02-12T08:36:35.938Z",
          "iopub.execute_input": "2020-02-12T08:36:35.951Z",
          "iopub.status.idle": "2020-02-12T08:36:35.980Z",
          "shell.execute_reply": "2020-02-12T08:36:37.464Z"
        }
      }
    },
    {
      "cell_type": "markdown",
      "source": [
        "- We now have the `moderated input` for the Hidden Layer\n",
        "- Now we apply the `sigmoid` function onto the result (`scipy.special.expit`) which is our output from the hidden layer. This is called `activation`.\n",
        "- This simulates the neuronal activation threshold like in real brains\n",
        "- The output will then passed to the next layer, where again the `moderation` and `activation` will apply."
      ],
      "metadata": {
        "nteract": {
          "transient": {
            "deleting": false
          }
        }
      }
    },
    {
      "cell_type": "code",
      "source": [
        "print(scipy.special.expit(outputWeighted))"
      ],
      "outputs": [
        {
          "output_type": "stream",
          "name": "stdout",
          "text": [
            "[0.15547371 0.74650646 0.99319747]\n"
          ]
        }
      ],
      "execution_count": 13,
      "metadata": {
        "collapsed": false,
        "jupyter": {
          "source_hidden": false,
          "outputs_hidden": false
        },
        "nteract": {
          "transient": {
            "deleting": false
          }
        },
        "execution": {
          "iopub.status.busy": "2020-02-12T08:36:36.004Z",
          "iopub.execute_input": "2020-02-12T08:36:36.018Z",
          "iopub.status.idle": "2020-02-12T08:36:36.050Z",
          "shell.execute_reply": "2020-02-12T08:36:37.472Z"
        }
      }
    },
    {
      "cell_type": "code",
      "source": [
        "def query(inputs, w_i_h, w_h_o):\n",
        "    # X_input_hidden = W_input_hidden * I\n",
        "    hidden_inputs = numpy.dot(w_i_h, inputs)\n",
        "    hidden_outputs = scipy.special.expit(hidden_inputs)\n",
        "    \n",
        "    final_inputs = numpy.dot(w_h_o, hidden_outputs)\n",
        "    final_outputs = scipy.special.expit(final_inputs)\n",
        "    \n",
        "    return final_outputs"
      ],
      "outputs": [],
      "execution_count": 14,
      "metadata": {
        "collapsed": false,
        "jupyter": {
          "source_hidden": false,
          "outputs_hidden": false
        },
        "nteract": {
          "transient": {
            "deleting": false
          }
        },
        "execution": {
          "iopub.status.busy": "2020-02-12T08:36:36.075Z",
          "iopub.execute_input": "2020-02-12T08:36:36.089Z",
          "iopub.status.idle": "2020-02-12T08:36:36.113Z",
          "shell.execute_reply": "2020-02-12T08:36:37.481Z"
        }
      }
    },
    {
      "cell_type": "markdown",
      "source": [
        "Sample network query output:"
      ],
      "metadata": {
        "nteract": {
          "transient": {
            "deleting": false
          }
        }
      }
    },
    {
      "cell_type": "code",
      "source": [
        "print(query([3, 5, 8], weightMatriceNormal(3,3), weightMatriceNormal(3,3)))"
      ],
      "outputs": [
        {
          "output_type": "stream",
          "name": "stdout",
          "text": [
            "[0.4717975  0.24467724 0.3158787 ]\n"
          ]
        }
      ],
      "execution_count": 15,
      "metadata": {
        "collapsed": false,
        "jupyter": {
          "source_hidden": false,
          "outputs_hidden": false
        },
        "nteract": {
          "transient": {
            "deleting": false
          }
        },
        "execution": {
          "iopub.status.busy": "2020-02-12T08:36:36.135Z",
          "iopub.execute_input": "2020-02-12T08:36:36.158Z",
          "iopub.status.idle": "2020-02-12T08:36:36.198Z",
          "shell.execute_reply": "2020-02-12T08:36:37.490Z"
        }
      }
    },
    {
      "cell_type": "markdown",
      "source": [
        "#### Back to our NeuralNetwork class:\n",
        "- We add a shortcut to the `sigmoid` function (scipy.special.expit) into our class as the member `activation`\n",
        "- We add the implementation for the `query` method as before (parameter signature changes when sitting in the object instance context though):"
      ],
      "metadata": {
        "nteract": {
          "transient": {
            "deleting": false
          }
        }
      }
    },
    {
      "cell_type": "code",
      "source": [
        "# neural network class definition\n",
        "\n",
        "class NeuralNetwork():\n",
        "    \n",
        "    def __init__(self, learningRate, iNodes, hNodes, oNodes):\n",
        "        self.learningRate = learningRate\n",
        "        self.inputNodes = iNodes\n",
        "        self.hiddenNodes = hNodes\n",
        "        self.outputNodes = oNodes\n",
        "\n",
        "        self.weightInputToHidden = weightMatriceNormal(aNodes=iNodes, bNodes=hNodes)\n",
        "        self.weightHiddenToOutput = weightMatriceNormal(aNodes=hNodes, bNodes=oNodes)\n",
        "    \n",
        "        self.activation = lambda x: scipy.special.expit(x)\n",
        "        \n",
        "    def query(self, inputs):\n",
        "        # convert inputs to numpy array\n",
        "        inputs = numpy.array(inputs, ndmin=2).T\n",
        "        \n",
        "        # X_input_hidden = W_input_hidden * I\n",
        "        hidden_inputs = numpy.dot(self.weightInputToHidden, inputs)\n",
        "        hidden_outputs = self.activation(hidden_inputs)\n",
        "\n",
        "        final_inputs = numpy.dot(self.weightHiddenToOutput, hidden_outputs)\n",
        "        final_outputs = self.activation(final_inputs)\n",
        "    \n",
        "        return final_outputs\n",
        "    \n",
        "    def train():\n",
        "        pass"
      ],
      "outputs": [],
      "execution_count": 16,
      "metadata": {
        "collapsed": false,
        "jupyter": {
          "source_hidden": false,
          "outputs_hidden": false
        },
        "nteract": {
          "transient": {
            "deleting": false
          }
        },
        "execution": {
          "iopub.status.busy": "2020-02-12T08:36:36.231Z",
          "iopub.execute_input": "2020-02-12T08:36:36.250Z",
          "iopub.status.idle": "2020-02-12T08:36:36.272Z",
          "shell.execute_reply": "2020-02-12T08:36:37.498Z"
        }
      }
    },
    {
      "cell_type": "code",
      "source": [
        "print(type(weightMatriceNormal(3,3)))\n",
        "print(type(numpy.array(weightMatriceNormal(3,3), ndmin=2).T))"
      ],
      "outputs": [
        {
          "output_type": "stream",
          "name": "stdout",
          "text": [
            "<class 'numpy.ndarray'>\n",
            "<class 'numpy.ndarray'>\n"
          ]
        }
      ],
      "execution_count": 17,
      "metadata": {
        "collapsed": false,
        "jupyter": {
          "source_hidden": false,
          "outputs_hidden": false
        },
        "nteract": {
          "transient": {
            "deleting": false
          }
        },
        "execution": {
          "iopub.status.busy": "2020-02-12T08:36:36.293Z",
          "iopub.execute_input": "2020-02-12T08:36:36.306Z",
          "iopub.status.idle": "2020-02-12T08:36:36.334Z",
          "shell.execute_reply": "2020-02-12T08:36:37.508Z"
        }
      }
    },
    {
      "cell_type": "markdown",
      "source": [
        "## Testing time !"
      ],
      "metadata": {
        "nteract": {
          "transient": {
            "deleting": false
          }
        }
      }
    },
    {
      "cell_type": "markdown",
      "source": [
        "- Now we create a small network and fire specific inputs at it to see if the wiring works and if `query` gives us an output:"
      ],
      "metadata": {
        "nteract": {
          "transient": {
            "deleting": false
          }
        }
      }
    },
    {
      "cell_type": "code",
      "source": [
        "n = NeuralNetwork(learningRate=sampleLearnRate, iNodes=3, hNodes=3, oNodes=3)"
      ],
      "outputs": [],
      "execution_count": 18,
      "metadata": {
        "collapsed": false,
        "jupyter": {
          "source_hidden": false,
          "outputs_hidden": false
        },
        "nteract": {
          "transient": {
            "deleting": false
          }
        },
        "execution": {
          "iopub.status.busy": "2020-02-12T08:36:36.360Z",
          "iopub.execute_input": "2020-02-12T08:36:36.383Z",
          "iopub.status.idle": "2020-02-12T08:36:36.414Z",
          "shell.execute_reply": "2020-02-12T08:36:37.518Z"
        }
      }
    },
    {
      "cell_type": "code",
      "source": [
        "n.query([1.0, 0.5, -1.5])"
      ],
      "outputs": [
        {
          "output_type": "execute_result",
          "execution_count": 19,
          "data": {
            "text/plain": [
              "array([[0.65125474],\n",
              "       [0.51520541],\n",
              "       [0.43942499]])"
            ]
          },
          "metadata": {}
        }
      ],
      "execution_count": 19,
      "metadata": {
        "collapsed": false,
        "jupyter": {
          "source_hidden": false,
          "outputs_hidden": false
        },
        "nteract": {
          "transient": {
            "deleting": false
          }
        },
        "execution": {
          "iopub.status.busy": "2020-02-12T08:36:36.441Z",
          "iopub.execute_input": "2020-02-12T08:36:36.453Z",
          "iopub.status.idle": "2020-02-12T08:36:36.484Z",
          "shell.execute_reply": "2020-02-12T08:36:37.525Z"
        }
      }
    },
    {
      "cell_type": "markdown",
      "source": [
        "### The Network method `train`"
      ],
      "metadata": {
        "nteract": {
          "transient": {
            "deleting": false
          }
        }
      }
    },
    {
      "cell_type": "markdown",
      "source": [
        "It has two steps:\n",
        "\n",
        "1. Create the output for given input data (which is the same what `query` does)\n",
        "2. Compare the output with the training data and recalculate (& improve) the network weights\n",
        "    1. Calculate `The Error (E)` = Difference of training data and output data\n",
        "    2. Calculate Error Back Propagation (EBP) from (E) for each layer before the output layer, like `hidden_errors` = `Weights_Hidden_Output` * `E as output_errors`\n",
        "    3. Update the Weights relative to (E) and (EBP) for each layer"
      ],
      "metadata": {
        "nteract": {
          "transient": {
            "deleting": false
          }
        }
      }
    },
    {
      "cell_type": "markdown",
      "source": [
        "#### Back to our NeuralNetwork class (final definition):\n",
        "- We add the implementation for the `train` method:"
      ],
      "metadata": {
        "nteract": {
          "transient": {
            "deleting": false
          }
        }
      }
    },
    {
      "cell_type": "code",
      "source": [
        "# FINAL neural network class definition\n",
        "class NeuralNetwork:\n",
        "    \n",
        "    \n",
        "    # initialise the neural network\n",
        "    def __init__(self, learningRate, iNodes, hNodes, oNodes):\n",
        "        # set number of nodes in each input, hidden, output layer\n",
        "        self.inodes = iNodes\n",
        "        self.hnodes = hNodes\n",
        "        self.onodes = oNodes\n",
        "        \n",
        "        # link weight matrices, wih and who\n",
        "        # weights inside the arrays are w_i_j, where link is from node i to node j in the next layer\n",
        "        # w11 w21\n",
        "        # w12 w22 etc \n",
        "        self.wih = numpy.random.normal(0.0, pow(self.inodes, -0.5), (self.hnodes, self.inodes))\n",
        "        self.who = numpy.random.normal(0.0, pow(self.hnodes, -0.5), (self.onodes, self.hnodes))\n",
        "\n",
        "        # learning rate\n",
        "        self.lr = learningRate\n",
        "        \n",
        "        # activation function is the sigmoid function\n",
        "        self.activation_function = lambda x: scipy.special.expit(x)\n",
        "        \n",
        "        pass\n",
        "\n",
        "    \n",
        "    # train the neural network\n",
        "    def train(self, inputs_list, targets_list):\n",
        "        # convert inputs list to 2d array\n",
        "        inputs = numpy.array(inputs_list, ndmin=2).T\n",
        "        targets = numpy.array(targets_list, ndmin=2).T\n",
        "        \n",
        "        # calculate signals into hidden layer\n",
        "        hidden_inputs = numpy.dot(self.wih, inputs)\n",
        "        # calculate the signals emerging from hidden layer\n",
        "        hidden_outputs = self.activation_function(hidden_inputs)\n",
        "        \n",
        "        # calculate signals into final output layer\n",
        "        final_inputs = numpy.dot(self.who, hidden_outputs)\n",
        "        # calculate the signals emerging from final output layer\n",
        "        final_outputs = self.activation_function(final_inputs)\n",
        "        \n",
        "        # output layer error is the (target - actual)\n",
        "        output_errors = targets - final_outputs\n",
        "        # hidden layer error is the output_errors, split by weights, recombined at hidden nodes\n",
        "        hidden_errors = numpy.dot(self.who.T, output_errors) \n",
        "        \n",
        "        # update the weights for the links between the hidden and output layers\n",
        "        self.who += self.lr * numpy.dot((output_errors * final_outputs * (1.0 - final_outputs)), numpy.transpose(hidden_outputs))\n",
        "        \n",
        "        # update the weights for the links between the input and hidden layers\n",
        "        self.wih += self.lr * numpy.dot((hidden_errors * hidden_outputs * (1.0 - hidden_outputs)), numpy.transpose(inputs))\n",
        "        \n",
        "        pass\n",
        "\n",
        "    \n",
        "    # query the neural network\n",
        "    def query(self, inputs_list):\n",
        "        # convert inputs list to 2d array\n",
        "        inputs = numpy.array(inputs_list, ndmin=2).T\n",
        "        \n",
        "        # calculate signals into hidden layer\n",
        "        hidden_inputs = numpy.dot(self.wih, inputs)\n",
        "        # calculate the signals emerging from hidden layer\n",
        "        hidden_outputs = self.activation_function(hidden_inputs)\n",
        "        \n",
        "        # calculate signals into final output layer\n",
        "        final_inputs = numpy.dot(self.who, hidden_outputs)\n",
        "        # calculate the signals emerging from final output layer\n",
        "        final_outputs = self.activation_function(final_inputs)\n",
        "        \n",
        "        return final_outputs\n"
      ],
      "outputs": [],
      "execution_count": 17,
      "metadata": {
        "collapsed": false,
        "jupyter": {
          "source_hidden": false,
          "outputs_hidden": false
        },
        "nteract": {
          "transient": {
            "deleting": false
          }
        },
        "execution": {
          "iopub.status.busy": "2020-02-12T20:37:17.182Z",
          "iopub.execute_input": "2020-02-12T20:37:17.201Z",
          "iopub.status.idle": "2020-02-12T20:37:17.231Z",
          "shell.execute_reply": "2020-02-12T20:37:17.258Z"
        }
      }
    },
    {
      "cell_type": "markdown",
      "source": [
        "# Training"
      ],
      "metadata": {
        "nteract": {
          "transient": {
            "deleting": false
          }
        }
      }
    },
    {
      "cell_type": "markdown",
      "source": [
        "> Detecting hand written letters is a very good training scenario.\n",
        "\n",
        "- Testing and Training Data can be found on: \n",
        "\n",
        "- http://yann.lecun.com/exdb/mnist/ (Format is not easy...)\n",
        " \n",
        "CSV: \n",
        "- Training: http://www.pjreddie.com/media/files/mnist_train.csv (60,000 Entries - marked)\n",
        "\n",
        "- Test: http://www.pjreddie.com/media/files/mnist_test.csv (10,000 Entries - marked)\n",
        "\n",
        "- Training: https://github.com/makeyourownneuralnetwork/makeyourownneuralnetwork/tree/master/mnist_dataset (10 Entries - marked)"
      ],
      "metadata": {
        "nteract": {
          "transient": {
            "deleting": false
          }
        }
      }
    },
    {
      "cell_type": "markdown",
      "source": [
        "These files represent handwritten images where each line represents a number between 0 and 9. Each number in a line is comma separated like in csv files'.\n",
        "\n",
        "- The very first number of a line represents the number shown in the image\n",
        "- Then 28*28 numbers between 0-255 follow (the image itself, encoded in 8-bit gray tones)"
      ],
      "metadata": {
        "nteract": {
          "transient": {
            "deleting": false
          }
        }
      }
    },
    {
      "cell_type": "code",
      "source": [
        "fh = open(\"mnist_datasets/mnist_test_10.csv\")\n",
        "\n",
        "images = []\n",
        "\n",
        "for line in fh:\n",
        "    data = line.split(\",\")\n",
        "    resultMarker = data[:1]\n",
        "    images.append(numpy.asfarray(data[1:]).reshape((28,28)))\n",
        "    \n",
        "fh.close()"
      ],
      "outputs": [],
      "execution_count": 21,
      "metadata": {
        "collapsed": false,
        "jupyter": {
          "source_hidden": false,
          "outputs_hidden": false
        },
        "nteract": {
          "transient": {
            "deleting": false
          }
        },
        "execution": {
          "iopub.status.busy": "2020-02-12T08:36:36.580Z",
          "iopub.execute_input": "2020-02-12T08:36:36.596Z",
          "iopub.status.idle": "2020-02-12T08:36:36.623Z",
          "shell.execute_reply": "2020-02-12T08:36:37.541Z"
        }
      }
    },
    {
      "cell_type": "code",
      "source": [
        "matplotlib.pyplot.imshow(images[0], cmap=\"Greys\", interpolation=\"None\")"
      ],
      "outputs": [
        {
          "output_type": "execute_result",
          "execution_count": 22,
          "data": {
            "text/plain": [
              "<matplotlib.image.AxesImage at 0x81384c810>"
            ]
          },
          "metadata": {}
        },
        {
          "output_type": "display_data",
          "data": {
            "text/plain": [
              "<Figure size 432x288 with 1 Axes>"
            ],
            "image/png": "[encoded data removed]"
          },
          "metadata": {
            "needs_background": "light"
          }
        }
      ],
      "execution_count": 22,
      "metadata": {
        "collapsed": false,
        "jupyter": {
          "source_hidden": false,
          "outputs_hidden": false
        },
        "nteract": {
          "transient": {
            "deleting": false
          }
        },
        "execution": {
          "iopub.status.busy": "2020-02-12T08:36:36.650Z",
          "iopub.execute_input": "2020-02-12T08:36:36.668Z",
          "iopub.status.idle": "2020-02-12T08:36:36.705Z",
          "shell.execute_reply": "2020-02-12T08:36:37.552Z"
        }
      }
    },
    {
      "cell_type": "code",
      "source": [
        "matplotlib.pyplot.imshow(images[1], cmap=\"Greys\", interpolation=\"None\")"
      ],
      "outputs": [
        {
          "output_type": "execute_result",
          "execution_count": 23,
          "data": {
            "text/plain": [
              "<matplotlib.image.AxesImage at 0x813a06350>"
            ]
          },
          "metadata": {}
        },
        {
          "output_type": "display_data",
          "data": {
            "text/plain": [
              "<Figure size 432x288 with 1 Axes>"
            ],
            "image/png": "[encoded data removed]"
          },
          "metadata": {
            "needs_background": "light"
          }
        }
      ],
      "execution_count": 23,
      "metadata": {
        "collapsed": false,
        "jupyter": {
          "source_hidden": false,
          "outputs_hidden": false
        },
        "nteract": {
          "transient": {
            "deleting": false
          }
        },
        "execution": {
          "iopub.status.busy": "2020-02-12T08:36:36.731Z",
          "iopub.execute_input": "2020-02-12T08:36:36.749Z",
          "iopub.status.idle": "2020-02-12T08:36:36.791Z",
          "shell.execute_reply": "2020-02-12T08:36:37.562Z"
        }
      }
    },
    {
      "cell_type": "code",
      "source": [
        "matplotlib.pyplot.imshow(images[2], cmap=\"Greys\", interpolation=\"None\")"
      ],
      "outputs": [
        {
          "output_type": "execute_result",
          "execution_count": 24,
          "data": {
            "text/plain": [
              "<matplotlib.image.AxesImage at 0x102528890>"
            ]
          },
          "metadata": {}
        },
        {
          "output_type": "display_data",
          "data": {
            "text/plain": [
              "<Figure size 432x288 with 1 Axes>"
            ],
            "image/png": "[encoded data removed]"
          },
          "metadata": {
            "needs_background": "light"
          }
        }
      ],
      "execution_count": 24,
      "metadata": {
        "collapsed": false,
        "jupyter": {
          "source_hidden": false,
          "outputs_hidden": false
        },
        "nteract": {
          "transient": {
            "deleting": false
          }
        },
        "execution": {
          "iopub.status.busy": "2020-02-12T08:36:36.817Z",
          "iopub.execute_input": "2020-02-12T08:36:36.832Z",
          "iopub.status.idle": "2020-02-12T08:36:36.875Z",
          "shell.execute_reply": "2020-02-12T08:36:37.571Z"
        }
      }
    },
    {
      "cell_type": "markdown",
      "source": [
        "### Preparation of Input and Output boundaries for the Training\n",
        "\n",
        "- The Image data itself serves as the **network training output**\n",
        "- A List of numbers between 0.01-0.99 serves as the **network target output**\n",
        "- We need to 'normalize' this data to the scale of `0.01 to 0.99`"
      ],
      "metadata": {
        "nteract": {
          "transient": {
            "deleting": false
          }
        }
      }
    },
    {
      "cell_type": "markdown",
      "source": [
        "We need to convert our **network training input** from the 8-bit range (0-255) of the images relative to a scale between 0.01 to 1.0 to work with our activation function (scipy.special.expit):"
      ],
      "metadata": {
        "nteract": {
          "transient": {
            "deleting": false
          }
        }
      }
    },
    {
      "cell_type": "code",
      "source": [
        "fh = open(\"mnist_datasets/mnist_test_10.csv\")\n",
        "\n",
        "one_letter = fh.readlines()[0].split(\",\")\n",
        "\n",
        "scaled_input = (numpy.asfarray(one_letter[180:240]) / 255.0 * 0.99) + 0.01\n",
        "print(scaled_input)"
      ],
      "outputs": [
        {
          "output_type": "stream",
          "name": "stdout",
          "text": [
            "[0.01       0.01       0.01       0.01       0.01       0.01\n",
            " 0.01       0.01       0.01       0.01       0.01       0.01\n",
            " 0.01       0.01       0.01       0.01       0.01       0.01\n",
            " 0.01       0.01       0.01       0.01       0.01       0.33611765\n",
            " 0.72823529 0.62729412 0.59623529 0.24294118 0.14976471 0.01\n",
            " 0.01       0.01       0.01       0.01       0.01       0.01\n",
            " 0.01       0.01       0.01       0.01       0.01       0.01\n",
            " 0.01       0.01       0.01       0.01       0.01       0.01\n",
            " 0.01       0.01       0.01       0.87188235 0.99611765 0.99611765\n",
            " 0.99611765 0.99611765 0.94564706 0.77870588 0.77870588 0.77870588]\n"
          ]
        }
      ],
      "execution_count": 25,
      "metadata": {
        "collapsed": false,
        "jupyter": {
          "source_hidden": false,
          "outputs_hidden": false
        },
        "nteract": {
          "transient": {
            "deleting": false
          }
        },
        "execution": {
          "iopub.status.busy": "2020-02-12T08:36:36.902Z",
          "iopub.execute_input": "2020-02-12T08:36:36.917Z",
          "iopub.status.idle": "2020-02-12T08:36:36.952Z",
          "shell.execute_reply": "2020-02-12T08:36:37.582Z"
        }
      }
    },
    {
      "cell_type": "markdown",
      "source": [
        "In our specific case we need a network with 9 output nodes, so we need to create our **network target output** as an array with a length of 9, where the image number is encoded as max. possible value relative to the activation function (in this case. 0.99). Each output node stands for each number we are looking for (0-9)\n",
        "\n",
        "Example:\n",
        "\n",
        "- We have an image with the number 5\n",
        "\n",
        "- So the resulting array should have the max. output at index 6:\n",
        "\n",
        "`[0.01, 0.01, 0.01, 0.01, 0.01, 0.99, 0.01, 0.01, 0.01, 0.01]`\n",
        "\n",
        "- For all other (non valid) numbers we should have the minimum output set (which is 0.01)"
      ],
      "metadata": {
        "nteract": {
          "transient": {
            "deleting": false
          }
        }
      }
    },
    {
      "cell_type": "code",
      "source": [
        "#output nodes is 10 (example)\n",
        "onodes = 10\n",
        "targets = numpy.zeros(onodes) + 0.01 \n",
        "targets[int(one_letter[0])] = 0.99"
      ],
      "outputs": [],
      "execution_count": 26,
      "metadata": {
        "collapsed": false,
        "jupyter": {
          "source_hidden": false,
          "outputs_hidden": false
        },
        "nteract": {
          "transient": {
            "deleting": false
          }
        },
        "execution": {
          "iopub.status.busy": "2020-02-12T08:36:36.977Z",
          "iopub.execute_input": "2020-02-12T08:36:36.994Z",
          "iopub.status.idle": "2020-02-12T08:36:37.022Z",
          "shell.execute_reply": "2020-02-12T08:36:37.592Z"
        }
      }
    },
    {
      "cell_type": "code",
      "source": [
        "print(targets)"
      ],
      "outputs": [
        {
          "output_type": "stream",
          "name": "stdout",
          "text": [
            "[0.01 0.01 0.01 0.01 0.01 0.01 0.01 0.99 0.01 0.01]\n"
          ]
        }
      ],
      "execution_count": 27,
      "metadata": {
        "collapsed": false,
        "jupyter": {
          "source_hidden": false,
          "outputs_hidden": false
        },
        "nteract": {
          "transient": {
            "deleting": false
          }
        },
        "execution": {
          "iopub.status.busy": "2020-02-12T08:36:37.050Z",
          "iopub.execute_input": "2020-02-12T08:36:37.067Z",
          "iopub.status.idle": "2020-02-12T08:36:37.106Z",
          "shell.execute_reply": "2020-02-12T08:36:37.602Z"
        }
      }
    },
    {
      "cell_type": "markdown",
      "source": [
        "## Start Training !"
      ],
      "metadata": {
        "nteract": {
          "transient": {
            "deleting": false
          }
        }
      }
    },
    {
      "cell_type": "code",
      "source": [
        "# learning rate\n",
        "learning_rate = 0.1\n",
        "\n",
        "def createNetwork(learningRate):\n",
        "    input_nodes = 784\n",
        "    hidden_nodes = 200\n",
        "    output_nodes = 10\n",
        "    return NeuralNetwork(learningRate=learningRate, iNodes=input_nodes, hNodes=hidden_nodes, oNodes=output_nodes)"
      ],
      "outputs": [],
      "execution_count": 13,
      "metadata": {
        "collapsed": false,
        "jupyter": {
          "source_hidden": false,
          "outputs_hidden": false
        },
        "nteract": {
          "transient": {
            "deleting": false
          }
        },
        "execution": {
          "iopub.status.busy": "2020-02-13T13:33:11.870Z",
          "iopub.execute_input": "2020-02-13T13:33:11.887Z",
          "iopub.status.idle": "2020-02-13T13:33:11.916Z",
          "shell.execute_reply": "2020-02-13T13:33:11.934Z"
        }
      }
    },
    {
      "cell_type": "code",
      "source": [
        "# create instance of neural network\n",
        "network0 = createNetwork(learningRate=learning_rate)"
      ],
      "outputs": [],
      "execution_count": 56,
      "metadata": {
        "collapsed": false,
        "jupyter": {
          "source_hidden": false,
          "outputs_hidden": false
        },
        "nteract": {
          "transient": {
            "deleting": false
          }
        },
        "execution": {
          "iopub.status.busy": "2020-02-13T11:55:49.845Z",
          "iopub.execute_input": "2020-02-13T11:55:49.864Z",
          "iopub.status.idle": "2020-02-13T11:55:49.891Z",
          "shell.execute_reply": "2020-02-13T11:55:49.907Z"
        }
      }
    },
    {
      "cell_type": "markdown",
      "source": [
        "Document global training function:"
      ],
      "metadata": {
        "nteract": {
          "transient": {
            "deleting": false
          }
        }
      }
    },
    {
      "cell_type": "code",
      "source": [
        "# train the neural network\n",
        "\n",
        "def training(network, trainingData, epochs):\n",
        "# epochs is the number of times the training data set is used for training\n",
        "    \n",
        "    for e in range(epochs):\n",
        "        # go through all records in the training data set\n",
        "        for record in trainingData:\n",
        "\n",
        "            # split the record by the ',' commas\n",
        "            one_letter = record.split(',')\n",
        "\n",
        "            imageData = one_letter[1:]\n",
        "            mark = int(one_letter[0])\n",
        "\n",
        "            # scale and shift the network training inputs\n",
        "            inputs = (numpy.asfarray(imageData) / 255.0 * 0.99) + 0.01\n",
        "\n",
        "            # create the network target output values (all 0.01, except the desired label which is 0.99)\n",
        "            targets = numpy.zeros(network.onodes) + 0.01\n",
        "\n",
        "            # all_values[0] is the target label for this record\n",
        "            targets[mark] = 0.99\n",
        "\n",
        "            network.train(inputs, targets)\n",
        "            pass\n",
        "        pass"
      ],
      "outputs": [],
      "execution_count": 18,
      "metadata": {
        "collapsed": false,
        "jupyter": {
          "source_hidden": false,
          "outputs_hidden": false
        },
        "nteract": {
          "transient": {
            "deleting": false
          }
        },
        "execution": {
          "iopub.status.busy": "2020-02-13T13:34:11.847Z",
          "iopub.execute_input": "2020-02-13T13:34:11.866Z",
          "iopub.status.idle": "2020-02-13T13:34:11.895Z",
          "shell.execute_reply": "2020-02-13T13:34:11.912Z"
        }
      }
    },
    {
      "cell_type": "markdown",
      "source": [
        "### Start training:"
      ],
      "metadata": {
        "nteract": {
          "transient": {
            "deleting": false
          }
        }
      }
    },
    {
      "cell_type": "code",
      "source": [
        "training(network=network0, trainingData=global_training_data, epochs=8)"
      ],
      "outputs": [],
      "execution_count": 58,
      "metadata": {
        "collapsed": false,
        "jupyter": {
          "source_hidden": false,
          "outputs_hidden": false
        },
        "nteract": {
          "transient": {
            "deleting": false
          }
        },
        "execution": {
          "iopub.status.busy": "2020-02-13T11:56:55.012Z",
          "iopub.execute_input": "2020-02-13T11:56:55.038Z",
          "iopub.status.idle": "2020-02-13T12:00:09.097Z",
          "shell.execute_reply": "2020-02-13T12:00:09.234Z"
        }
      }
    },
    {
      "cell_type": "markdown",
      "source": [
        "## Testing the trained Network"
      ],
      "metadata": {
        "nteract": {
          "transient": {
            "deleting": false
          }
        }
      }
    },
    {
      "cell_type": "markdown",
      "source": [
        "#### Testing a single letter:"
      ],
      "metadata": {
        "nteract": {
          "transient": {
            "deleting": false
          }
        }
      }
    },
    {
      "cell_type": "code",
      "source": [
        "one_letter = test_data_list[0].split(\",\")\n",
        "mark = one_letter[0]\n",
        "print(\"Testing Letter: \", mark)\n",
        "\n",
        "imageData = one_letter[1:]\n",
        "normalizedForView = numpy.asfarray(one_letter[1:]).reshape((28,28))\n",
        "print(\"Visual verification that the image displays a \", mark, \":\")\n",
        "matplotlib.pyplot.imshow(normalizedForView, cmap=\"Greys\", interpolation=\"None\")"
      ],
      "outputs": [
        {
          "output_type": "stream",
          "name": "stdout",
          "text": [
            "Testing Letter:  7\n",
            "Visual verification that the image displays a  7 :\n"
          ]
        },
        {
          "output_type": "execute_result",
          "execution_count": 33,
          "data": {
            "text/plain": [
              "<matplotlib.image.AxesImage at 0x813a42610>"
            ]
          },
          "metadata": {}
        },
        {
          "output_type": "display_data",
          "data": {
            "text/plain": [
              "<Figure size 432x288 with 1 Axes>"
            ],
            "image/png": "[encoded data removed]"
          },
          "metadata": {
            "needs_background": "light"
          }
        }
      ],
      "execution_count": 33,
      "metadata": {
        "collapsed": false,
        "jupyter": {
          "source_hidden": false,
          "outputs_hidden": false
        },
        "nteract": {
          "transient": {
            "deleting": false
          }
        },
        "execution": {
          "iopub.status.busy": "2020-02-12T08:39:57.666Z",
          "iopub.execute_input": "2020-02-12T08:39:57.679Z",
          "iopub.status.idle": "2020-02-12T08:39:57.783Z",
          "shell.execute_reply": "2020-02-12T08:39:57.852Z"
        }
      }
    },
    {
      "cell_type": "code",
      "source": [
        "# encode image data\n",
        "encodedData = (numpy.asfarray(imageData) / 255 * 0.99) + 0.01\n",
        "result = network0.query(encodedData)\n",
        "print(result)"
      ],
      "outputs": [
        {
          "output_type": "stream",
          "name": "stdout",
          "text": [
            "[[0.00920732]\n",
            " [0.01129117]\n",
            " [0.00668644]\n",
            " [0.00231597]\n",
            " [0.03122899]\n",
            " [0.02336442]\n",
            " [0.0086663 ]\n",
            " [0.99483403]\n",
            " [0.00905493]\n",
            " [0.00105362]]\n"
          ]
        }
      ],
      "execution_count": 47,
      "metadata": {
        "collapsed": false,
        "jupyter": {
          "source_hidden": false,
          "outputs_hidden": false
        },
        "nteract": {
          "transient": {
            "deleting": false
          }
        },
        "execution": {
          "iopub.status.busy": "2020-02-12T08:40:21.064Z",
          "iopub.execute_input": "2020-02-12T08:40:21.086Z",
          "iopub.status.idle": "2020-02-12T08:40:21.116Z",
          "shell.execute_reply": "2020-02-12T08:40:21.128Z"
        }
      }
    },
    {
      "cell_type": "markdown",
      "source": [
        "### Testing with a lot more letters:"
      ],
      "metadata": {
        "nteract": {
          "transient": {
            "deleting": false
          }
        }
      }
    },
    {
      "cell_type": "markdown",
      "source": [
        "Document global performance test function:"
      ],
      "metadata": {
        "nteract": {
          "transient": {
            "deleting": false
          }
        }
      }
    },
    {
      "cell_type": "code",
      "source": [
        "def performance(network, testData):\n",
        "    # test the neural network\n",
        "\n",
        "    # scorecard for how well the network performs, initially empty\n",
        "    scorecard = []\n",
        "\n",
        "    # go through all the records in the test data set\n",
        "    for record in testData:\n",
        "        # split the record by the ',' commas\n",
        "        one_letter = record.split(',')\n",
        "\n",
        "        # correct answer is first value\n",
        "        correct_label = int(one_letter[0])\n",
        "\n",
        "        # scale and shift the inputs\n",
        "        inputs = (numpy.asfarray(one_letter[1:]) / 255.0 * 0.99) + 0.01\n",
        "\n",
        "        # query the network\n",
        "        outputs = network.query(inputs)\n",
        "\n",
        "        # the index of the highest value corresponds to the label\n",
        "        label = numpy.argmax(outputs)\n",
        "\n",
        "        # append correct or incorrect to list\n",
        "        if (label == correct_label):\n",
        "            # network's answer matches correct answer, add 1 to scorecard\n",
        "            scorecard.append(1)\n",
        "        else:\n",
        "            # network's answer doesn't match correct answer, add 0 to scorecard\n",
        "            scorecard.append(0)\n",
        "            pass\n",
        "\n",
        "        pass\n",
        "    \n",
        "    # calculate the performance score, the fraction of correct answers\n",
        "    scorecard_array = numpy.asarray(scorecard)\n",
        "    print (\"performance = \", scorecard_array.sum() / scorecard_array.size)"
      ],
      "outputs": [],
      "execution_count": 15,
      "metadata": {
        "collapsed": false,
        "jupyter": {
          "source_hidden": false,
          "outputs_hidden": false
        },
        "nteract": {
          "transient": {
            "deleting": false
          }
        },
        "execution": {
          "iopub.status.busy": "2020-02-13T13:33:35.847Z",
          "iopub.execute_input": "2020-02-13T13:33:35.868Z",
          "iopub.status.idle": "2020-02-13T13:33:35.897Z",
          "shell.execute_reply": "2020-02-13T13:33:35.916Z"
        }
      }
    },
    {
      "cell_type": "code",
      "source": [
        "performance(network=network0, testData=global_test_data)"
      ],
      "outputs": [
        {
          "output_type": "stream",
          "name": "stdout",
          "text": [
            "performance =  0.9729\n"
          ]
        }
      ],
      "execution_count": 61,
      "metadata": {
        "collapsed": false,
        "jupyter": {
          "source_hidden": false,
          "outputs_hidden": false
        },
        "nteract": {
          "transient": {
            "deleting": false
          }
        },
        "execution": {
          "iopub.status.busy": "2020-02-13T12:03:06.787Z",
          "iopub.execute_input": "2020-02-13T12:03:06.814Z",
          "iopub.status.idle": "2020-02-13T12:03:08.395Z",
          "shell.execute_reply": "2020-02-13T12:03:08.425Z"
        }
      }
    },
    {
      "cell_type": "markdown",
      "source": [
        "## Training analysis\n",
        "\n",
        "- `test.py` for testing the network performance (5 times)\n",
        "\n",
        "#### 1. Test Suite: (Testing Learning Rate - 1)\n",
        "\n",
        "- 3 Layers\n",
        "- input_nodes = 784\n",
        "- hidden_nodes = 200\n",
        "- output_nodes = 10\n",
        "\n",
        "- Epochs: 1\n",
        "\n",
        "- Training Data: mnist\n",
        "\n",
        "- **Test target: *Learning Rate* (Which reflects the gradient step size) (Average of 5)**\n",
        "\n",
        "- **Best fitness: 0.9584 = 0.16 | 0.9586 = 0.2 ** \n",
        "\n",
        "- See: analysis.pdf (link ?)"
      ],
      "metadata": {
        "nteract": {
          "transient": {
            "deleting": false
          }
        }
      }
    },
    {
      "cell_type": "code",
      "source": [
        "learningRates = [0.01, 0.02, 0.1, 0.15, 0.16, 0.17, 0.2, 0.3, 0.6]\n",
        "learningRateResults = [0.90712, 0.92312, 0.95456, 0.95868, 0.9584, 0.95766, 0.9586, 0.95558, 0.91288]\n",
        "\n",
        "matplotlib.pyplot.plot(learningRates,learningRateResults)\n",
        "\n",
        "matplotlib.pyplot.title('Testing Learning Rate - 1')\n",
        "matplotlib.pyplot.ylabel('Performance')\n",
        "matplotlib.pyplot.xlabel('Learning Rate')"
      ],
      "outputs": [
        {
          "output_type": "execute_result",
          "execution_count": 37,
          "data": {
            "text/plain": [
              "Text(0.5, 0, 'Learning Rate')"
            ]
          },
          "metadata": {}
        },
        {
          "output_type": "display_data",
          "data": {
            "text/plain": [
              "<Figure size 432x288 with 1 Axes>"
            ],
            "image/png": "[encoded data removed]"
          },
          "metadata": {
            "needs_background": "light"
          }
        }
      ],
      "execution_count": 37,
      "metadata": {
        "collapsed": false,
        "jupyter": {
          "source_hidden": false,
          "outputs_hidden": false
        },
        "nteract": {
          "transient": {
            "deleting": false
          }
        },
        "execution": {
          "iopub.status.busy": "2020-02-12T08:39:58.068Z",
          "iopub.execute_input": "2020-02-12T08:39:58.079Z",
          "iopub.status.idle": "2020-02-12T08:39:58.156Z",
          "shell.execute_reply": "2020-02-12T08:39:58.250Z"
        }
      }
    },
    {
      "cell_type": "markdown",
      "source": [
        "#### 2. Epochs Test Suite: (Testing Epochs - 1)\n",
        "\n",
        "- 3 Layers\n",
        "- input_nodes = 784\n",
        "- hidden_nodes = 200\n",
        "- output_nodes = 10\n",
        "\n",
        "- *Learning Rate: 0.2*\n",
        "\n",
        "- Training Data: mnist\n",
        "\n",
        "- **Test target: Epochs (Average of 5)**\n",
        "\n",
        "- **Best Fitness: 0.969 = 7**\n",
        "\n",
        "- See: analysis.pdf"
      ],
      "metadata": {
        "nteract": {
          "transient": {
            "deleting": false
          }
        }
      }
    },
    {
      "cell_type": "code",
      "source": [
        "epochs = [2, 3, 6, 7, 8, 10]\n",
        "epochResults = [0.96556, 0.96798, 0.96814,\t0.969, 0.96894, 0.96694]\n",
        "\n",
        "matplotlib.pyplot.plot(epochs,epochResults)\n",
        "matplotlib.pyplot.title('Testing Epochs - 1')\n",
        "matplotlib.pyplot.ylabel('Performance')\n",
        "matplotlib.pyplot.xlabel('Epochs')"
      ],
      "outputs": [
        {
          "output_type": "execute_result",
          "execution_count": 38,
          "data": {
            "text/plain": [
              "Text(0.5, 0, 'Epochs')"
            ]
          },
          "metadata": {}
        },
        {
          "output_type": "display_data",
          "data": {
            "text/plain": [
              "<Figure size 432x288 with 1 Axes>"
            ],
            "image/png": "[encoded data removed]"
          },
          "metadata": {
            "needs_background": "light"
          }
        }
      ],
      "execution_count": 38,
      "metadata": {
        "collapsed": false,
        "jupyter": {
          "source_hidden": false,
          "outputs_hidden": false
        },
        "nteract": {
          "transient": {
            "deleting": false
          }
        },
        "execution": {
          "iopub.status.busy": "2020-02-12T08:39:58.188Z",
          "iopub.execute_input": "2020-02-12T08:39:58.215Z",
          "iopub.status.idle": "2020-02-12T08:39:58.340Z",
          "shell.execute_reply": "2020-02-12T08:39:58.401Z"
        }
      }
    },
    {
      "cell_type": "markdown",
      "source": [
        "> **Next Testcases:** For a higher amount of epoches, the learning rate could also be too high."
      ],
      "metadata": {
        "nteract": {
          "transient": {
            "deleting": false
          }
        }
      }
    },
    {
      "cell_type": "markdown",
      "source": [
        "#### 3. Epochs Test Suite (Testing Epochs - 2) (Reducing Learning Rate):\n",
        "\n",
        "- 3 Layers\n",
        "- input_nodes = 784\n",
        "- hidden_nodes = 200\n",
        "- output_nodes = 10\n",
        "\n",
        "- Learning Rate: **0.161**\n",
        "\n",
        "- Training Data: mnist\n",
        "\n",
        "- **Test target: Epochs (Average of 5)**\n",
        "\n",
        "- **Best Fitness: 0.97196 = 7 **\n",
        "\n",
        "- See: analysis.pdf"
      ],
      "metadata": {
        "nteract": {
          "transient": {
            "deleting": false
          }
        }
      }
    },
    {
      "cell_type": "code",
      "source": [
        "epochResults2 = [ 0.96704,\t0.97036, 0.9709, 0.97196, 0.97084, 0.96956 ]\n",
        "\n",
        "matplotlib.pyplot.plot(epochs, epochResults2)\n",
        "matplotlib.pyplot.title('Testing Epochs - 2')\n",
        "matplotlib.pyplot.ylabel('Performance')\n",
        "matplotlib.pyplot.xlabel('Epochs')"
      ],
      "outputs": [
        {
          "output_type": "execute_result",
          "execution_count": 39,
          "data": {
            "text/plain": [
              "Text(0.5, 0, 'Epochs')"
            ]
          },
          "metadata": {}
        },
        {
          "output_type": "display_data",
          "data": {
            "text/plain": [
              "<Figure size 432x288 with 1 Axes>"
            ],
            "image/png": "[encoded data removed]"
          },
          "metadata": {
            "needs_background": "light"
          }
        }
      ],
      "execution_count": 39,
      "metadata": {
        "collapsed": false,
        "jupyter": {
          "source_hidden": false,
          "outputs_hidden": false
        },
        "nteract": {
          "transient": {
            "deleting": false
          }
        },
        "execution": {
          "iopub.status.busy": "2020-02-12T08:39:58.357Z",
          "iopub.execute_input": "2020-02-12T08:39:58.367Z",
          "iopub.status.idle": "2020-02-12T08:39:58.530Z",
          "shell.execute_reply": "2020-02-12T08:39:58.596Z"
        }
      }
    },
    {
      "cell_type": "markdown",
      "source": [
        "#### 4. Epochs Test Suite (Testing Epochs - 3) (Reducing Learning Rate):\n",
        "\n",
        "- 3 Layers\n",
        "- input_nodes = 784\n",
        "- hidden_nodes = 200\n",
        "- output_nodes = 10\n",
        "\n",
        "- Learning Rate: **0.12**\n",
        "\n",
        "- Training Data: mnist\n",
        "\n",
        "- **Test target: Epochs (Average of 5)**\n",
        "\n",
        "- **Best Fitness: 0.97324 = 8 **\n",
        "\n",
        "- See: analysis.pdf"
      ],
      "metadata": {
        "nteract": {
          "transient": {
            "deleting": false
          }
        }
      }
    },
    {
      "cell_type": "code",
      "source": [
        "epochResults3 = [ 0.9671, 0.97082, 0.96904, 0.97296, 0.97324, 0.97204 ]\n",
        "\n",
        "matplotlib.pyplot.plot(epochs, epochResults3)\n",
        "matplotlib.pyplot.title('Testing Epoches - 3')\n",
        "matplotlib.pyplot.ylabel('Performance')\n",
        "matplotlib.pyplot.xlabel('Epoches')"
      ],
      "outputs": [
        {
          "output_type": "execute_result",
          "execution_count": 40,
          "data": {
            "text/plain": [
              "Text(0.5, 0, 'Epoches')"
            ]
          },
          "metadata": {}
        },
        {
          "output_type": "display_data",
          "data": {
            "text/plain": [
              "<Figure size 432x288 with 1 Axes>"
            ],
            "image/png": "[encoded data removed]"
          },
          "metadata": {
            "needs_background": "light"
          }
        }
      ],
      "execution_count": 40,
      "metadata": {
        "collapsed": false,
        "jupyter": {
          "source_hidden": false,
          "outputs_hidden": false
        },
        "nteract": {
          "transient": {
            "deleting": false
          }
        },
        "execution": {
          "iopub.status.busy": "2020-02-12T08:39:58.548Z",
          "iopub.execute_input": "2020-02-12T08:39:58.561Z",
          "iopub.status.idle": "2020-02-12T08:39:58.707Z",
          "shell.execute_reply": "2020-02-12T08:39:58.784Z"
        }
      }
    },
    {
      "cell_type": "markdown",
      "source": [
        "#### 5. Epochs Test Suite (Testing Epochs - 4) (Reducing Learning Rate):\n",
        "\n",
        "- 3 Layers\n",
        "- input_nodes = 784\n",
        "- hidden_nodes = 200\n",
        "- output_nodes = 10\n",
        "\n",
        "- Learning Rate: **0.1**\n",
        "\n",
        "- Training Data: mnist\n",
        "\n",
        "- **Test target: Epochs (Average of 5)**\n",
        "\n",
        "- **Best Fitness: 0.97196 = 7 **\n",
        "\n",
        "- See: analysis.pdf"
      ],
      "metadata": {
        "nteract": {
          "transient": {
            "deleting": false
          }
        }
      }
    },
    {
      "cell_type": "code",
      "source": [
        "epochsShort1 = [2, 6, 7, 8, 10]\n",
        "epochResults4 = [ 0.96758, 0.97384, 0.97386, 0.97496, 0.97436 ]\n",
        "\n",
        "matplotlib.pyplot.plot(epochsShort1, epochResults4)\n",
        "matplotlib.pyplot.title('Testing Epoches - 4')\n",
        "matplotlib.pyplot.ylabel('Performance')\n",
        "matplotlib.pyplot.xlabel('Epoches')"
      ],
      "outputs": [
        {
          "output_type": "execute_result",
          "execution_count": 41,
          "data": {
            "text/plain": [
              "Text(0.5, 0, 'Epoches')"
            ]
          },
          "metadata": {}
        },
        {
          "output_type": "display_data",
          "data": {
            "text/plain": [
              "<Figure size 432x288 with 1 Axes>"
            ],
            "image/png": "[encoded data removed]"
          },
          "metadata": {
            "needs_background": "light"
          }
        }
      ],
      "execution_count": 41,
      "metadata": {
        "collapsed": false,
        "jupyter": {
          "source_hidden": false,
          "outputs_hidden": false
        },
        "nteract": {
          "transient": {
            "deleting": false
          }
        },
        "execution": {
          "iopub.status.busy": "2020-02-12T08:39:58.729Z",
          "iopub.execute_input": "2020-02-12T08:39:58.745Z",
          "iopub.status.idle": "2020-02-12T08:39:58.950Z",
          "shell.execute_reply": "2020-02-12T08:39:58.998Z"
        }
      }
    },
    {
      "cell_type": "markdown",
      "source": [
        "### Comparison"
      ],
      "metadata": {
        "nteract": {
          "transient": {
            "deleting": false
          }
        }
      }
    },
    {
      "cell_type": "code",
      "source": [
        "matplotlib.pyplot.ylabel('Performance')\n",
        "matplotlib.pyplot.xlabel('Epochs')\n",
        "matplotlib.pyplot.title('Comparison')\n",
        "\n",
        "matplotlib.pyplot.plot(epochs, epochResults, '-.') # 0.2 Learningrate\n",
        "matplotlib.pyplot.plot(epochs, epochResults2, '-.') # 0.161 Learningrate (Overall better ...)\n",
        "matplotlib.pyplot.plot(epochs, epochResults3, '-.') # 0.12\n",
        "matplotlib.pyplot.plot(epochsShort1, epochResults4, '-.') # 0.1\n",
        "matplotlib.pyplot.show()"
      ],
      "outputs": [
        {
          "output_type": "display_data",
          "data": {
            "text/plain": [
              "<Figure size 432x288 with 1 Axes>"
            ],
            "image/png": "[encoded data removed]"
          },
          "metadata": {
            "needs_background": "light"
          }
        }
      ],
      "execution_count": 42,
      "metadata": {
        "collapsed": false,
        "jupyter": {
          "source_hidden": false,
          "outputs_hidden": false
        },
        "nteract": {
          "transient": {
            "deleting": false
          }
        },
        "execution": {
          "iopub.status.busy": "2020-02-12T08:39:58.975Z",
          "iopub.execute_input": "2020-02-12T08:39:58.987Z",
          "iopub.status.idle": "2020-02-12T08:39:59.113Z",
          "shell.execute_reply": "2020-02-12T08:39:59.214Z"
        }
      }
    },
    {
      "cell_type": "markdown",
      "source": [
        "## Testing your own images\n",
        "\n",
        "- Pictures need to be reduced to size: 28x28"
      ],
      "metadata": {
        "nteract": {
          "transient": {
            "deleting": false
          }
        }
      }
    },
    {
      "cell_type": "markdown",
      "source": [
        "**Preparation**: Create a new network instance and train it (should use 60,000 test set):"
      ],
      "metadata": {
        "nteract": {
          "transient": {
            "deleting": false
          }
        }
      }
    },
    {
      "cell_type": "code",
      "source": [
        "import helpers\n",
        "import imageio\n",
        "import glob\n",
        "import numpy"
      ],
      "outputs": [],
      "execution_count": 1,
      "metadata": {
        "collapsed": false,
        "jupyter": {
          "source_hidden": false,
          "outputs_hidden": false
        },
        "nteract": {
          "transient": {
            "deleting": false
          }
        },
        "execution": {
          "iopub.status.busy": "2020-02-13T17:36:28.035Z",
          "iopub.execute_input": "2020-02-13T17:36:28.055Z",
          "iopub.status.idle": "2020-02-13T17:36:29.821Z",
          "shell.execute_reply": "2020-02-13T17:36:29.842Z"
        }
      }
    },
    {
      "cell_type": "code",
      "source": [
        "print(\"Creating a new network instance 'network1'\")\n",
        "network1 = helpers.createNetwork(learningRate=0.1)\n",
        "print(\"Training ongoing, this might take a while ...\")\n",
        "helpers.training(network=network1, trainingData=global_training_data, epochs=8)\n",
        "print(\"------------------------\")\n",
        "print(\"Done!\")\n",
        "print(\"------------------------\")\n",
        "helpers.performance(network=network1, testData=global_test_data)"
      ],
      "outputs": [
        {
          "output_type": "stream",
          "name": "stdout",
          "text": [
            "Creating a new network instance 'network1'\n",
            "Training ongoing, this might take a while ...\n",
            "------------------------\n",
            "Done!\n",
            "------------------------\n",
            "performance =  0.974\n"
          ]
        }
      ],
      "execution_count": 7,
      "metadata": {
        "collapsed": false,
        "jupyter": {
          "source_hidden": false,
          "outputs_hidden": false
        },
        "nteract": {
          "transient": {
            "deleting": false
          }
        },
        "execution": {
          "iopub.status.busy": "2020-02-13T17:37:52.438Z",
          "iopub.execute_input": "2020-02-13T17:37:52.455Z",
          "iopub.status.idle": "2020-02-13T17:41:09.172Z",
          "shell.execute_reply": "2020-02-13T17:41:09.286Z"
        }
      }
    },
    {
      "cell_type": "markdown",
      "source": [
        "Test a couple letter from the test set just to check network integrity ..."
      ],
      "metadata": {
        "nteract": {
          "transient": {
            "deleting": false
          }
        }
      }
    },
    {
      "cell_type": "code",
      "source": [
        "import random\n",
        "\n",
        "helpers.singleLetterTest(testData=global_test_data, network=network1, index=random.randint(4, 99))\n",
        "\n",
        "matplotlib.pyplot.show()\n",
        "\n",
        "helpers.singleLetterTest(testData=global_test_data, network=network1, index=random.randint(4, 99))\n",
        "\n",
        "matplotlib.pyplot.show()\n",
        "\n",
        "helpers.singleLetterTest(testData=global_test_data, network=network1, index=random.randint(4, 99))\n",
        "\n",
        "matplotlib.pyplot.show()"
      ],
      "outputs": [
        {
          "output_type": "stream",
          "name": "stdout",
          "text": [
            "Network says : 1 | Expected:\n",
            "Visual verification that the image displays a  0 :\n"
          ]
        },
        {
          "output_type": "display_data",
          "data": {
            "text/plain": [
              "<Figure size 432x288 with 1 Axes>"
            ],
            "image/png": "[encoded data removed]"
          },
          "metadata": {
            "needs_background": "light"
          }
        },
        {
          "output_type": "stream",
          "name": "stdout",
          "text": [
            "Network says : 0 | Expected:\n",
            "Visual verification that the image displays a  0 :\n"
          ]
        },
        {
          "output_type": "display_data",
          "data": {
            "text/plain": [
              "<Figure size 432x288 with 1 Axes>"
            ],
            "image/png": "[encoded data removed]"
          },
          "metadata": {
            "needs_background": "light"
          }
        },
        {
          "output_type": "stream",
          "name": "stdout",
          "text": [
            "Network says : 3 | Expected:\n",
            "Visual verification that the image displays a  0 :\n"
          ]
        },
        {
          "output_type": "display_data",
          "data": {
            "text/plain": [
              "<Figure size 432x288 with 1 Axes>"
            ],
            "image/png": "[encoded data removed]"
          },
          "metadata": {
            "needs_background": "light"
          }
        }
      ],
      "execution_count": 25,
      "metadata": {
        "collapsed": false,
        "jupyter": {
          "source_hidden": false,
          "outputs_hidden": false
        },
        "nteract": {
          "transient": {
            "deleting": false
          }
        },
        "execution": {
          "iopub.status.busy": "2020-02-13T17:44:30.389Z",
          "iopub.execute_input": "2020-02-13T17:44:30.411Z",
          "iopub.status.idle": "2020-02-13T17:44:30.873Z",
          "shell.execute_reply": "2020-02-13T17:44:30.905Z"
        }
      }
    },
    {
      "cell_type": "markdown",
      "source": [
        "Convert images into float array and reduce the colors to gray tones:"
      ],
      "metadata": {
        "nteract": {
          "transient": {
            "deleting": false
          }
        }
      }
    },
    {
      "cell_type": "code",
      "source": [
        "def convertImage(path):\n",
        "    img_array = 255.0 - imageio.imread(path, as_gray=True)\n",
        "    # remove dark noise:\n",
        "    # img_array = numpy.where(img_array > 200, 255, img_array)\n",
        "    return img_array.reshape(784), img_array"
      ],
      "outputs": [],
      "execution_count": 9,
      "metadata": {
        "collapsed": false,
        "jupyter": {
          "source_hidden": false,
          "outputs_hidden": false
        },
        "nteract": {
          "transient": {
            "deleting": false
          }
        },
        "execution": {
          "iopub.status.busy": "2020-02-13T17:41:09.536Z",
          "iopub.execute_input": "2020-02-13T17:41:09.553Z",
          "iopub.status.idle": "2020-02-13T17:41:09.581Z",
          "shell.execute_reply": "2020-02-13T17:41:09.769Z"
        }
      }
    },
    {
      "cell_type": "markdown",
      "source": [
        "Normalize image data for network input:"
      ],
      "metadata": {
        "nteract": {
          "transient": {
            "deleting": false
          }
        }
      }
    },
    {
      "cell_type": "code",
      "source": [
        "def encodeForNetwork(img_data):\n",
        "    return (img_data / 255.0 * 0.99) + 0.01"
      ],
      "outputs": [],
      "execution_count": 10,
      "metadata": {
        "collapsed": false,
        "jupyter": {
          "source_hidden": false,
          "outputs_hidden": false
        },
        "nteract": {
          "transient": {
            "deleting": false
          }
        },
        "execution": {
          "iopub.status.busy": "2020-02-13T17:41:09.608Z",
          "iopub.execute_input": "2020-02-13T17:41:09.623Z",
          "iopub.status.idle": "2020-02-13T17:41:09.656Z",
          "shell.execute_reply": "2020-02-13T17:41:09.779Z"
        }
      }
    },
    {
      "cell_type": "markdown",
      "source": [
        "Test query network:"
      ],
      "metadata": {
        "nteract": {
          "transient": {
            "deleting": false
          }
        }
      }
    },
    {
      "cell_type": "code",
      "source": [
        "def test(network, inputs):\n",
        "    guess = network.query(inputs)\n",
        "    guess = guess.flatten().tolist()\n",
        "    return guess.index(max(guess))"
      ],
      "outputs": [],
      "execution_count": 11,
      "metadata": {
        "collapsed": false,
        "jupyter": {
          "source_hidden": false,
          "outputs_hidden": false
        },
        "nteract": {
          "transient": {
            "deleting": false
          }
        },
        "execution": {
          "iopub.status.busy": "2020-02-13T17:41:09.681Z",
          "iopub.execute_input": "2020-02-13T17:41:09.695Z",
          "iopub.status.idle": "2020-02-13T17:41:09.718Z",
          "shell.execute_reply": "2020-02-13T17:41:09.786Z"
        }
      }
    },
    {
      "cell_type": "code",
      "source": [
        "for file_name in glob.glob(\"my-images/digital*.png\"):\n",
        "    img_data, img_array = convertImage(path=file_name)\n",
        "    img_data = encodeForNetwork(img_data=img_data)\n",
        "    \n",
        "    print(\"Network says :\", test(network=network1, inputs=img_data), \"| Expected:\")\n",
        "    matplotlib.pyplot.imshow(img_array, cmap=\"Greys\", interpolation=\"None\")\n",
        "    matplotlib.pyplot.show()"
      ],
      "outputs": [
        {
          "output_type": "stream",
          "name": "stdout",
          "text": [
            "Network says : 6 | Expected:\n"
          ]
        },
        {
          "output_type": "display_data",
          "data": {
            "text/plain": [
              "<Figure size 432x288 with 1 Axes>"
            ],
            "image/png": "[encoded data removed]"
          },
          "metadata": {
            "needs_background": "light"
          }
        },
        {
          "output_type": "stream",
          "name": "stdout",
          "text": [
            "Network says : 2 | Expected:\n"
          ]
        },
        {
          "output_type": "display_data",
          "data": {
            "text/plain": [
              "<Figure size 432x288 with 1 Axes>"
            ],
            "image/png": "[encoded data removed]"
          },
          "metadata": {
            "needs_background": "light"
          }
        },
        {
          "output_type": "stream",
          "name": "stdout",
          "text": [
            "Network says : 3 | Expected:\n"
          ]
        },
        {
          "output_type": "display_data",
          "data": {
            "text/plain": [
              "<Figure size 432x288 with 1 Axes>"
            ],
            "image/png": "[encoded data removed]"
          },
          "metadata": {
            "needs_background": "light"
          }
        },
        {
          "output_type": "stream",
          "name": "stdout",
          "text": [
            "Network says : 6 | Expected:\n"
          ]
        },
        {
          "output_type": "display_data",
          "data": {
            "text/plain": [
              "<Figure size 432x288 with 1 Axes>"
            ],
            "image/png": "[encoded data removed]"
          },
          "metadata": {
            "needs_background": "light"
          }
        },
        {
          "output_type": "stream",
          "name": "stdout",
          "text": [
            "Network says : 6 | Expected:\n"
          ]
        },
        {
          "output_type": "display_data",
          "data": {
            "text/plain": [
              "<Figure size 432x288 with 1 Axes>"
            ],
            "image/png": "[encoded data removed]"
          },
          "metadata": {
            "needs_background": "light"
          }
        },
        {
          "output_type": "stream",
          "name": "stdout",
          "text": [
            "Network says : 3 | Expected:\n"
          ]
        },
        {
          "output_type": "display_data",
          "data": {
            "text/plain": [
              "<Figure size 432x288 with 1 Axes>"
            ],
            "image/png": "[encoded data removed]"
          },
          "metadata": {
            "needs_background": "light"
          }
        },
        {
          "output_type": "stream",
          "name": "stdout",
          "text": [
            "Network says : 4 | Expected:\n"
          ]
        },
        {
          "output_type": "display_data",
          "data": {
            "text/plain": [
              "<Figure size 432x288 with 1 Axes>"
            ],
            "image/png": "[encoded data removed]"
          },
          "metadata": {
            "needs_background": "light"
          }
        },
        {
          "output_type": "stream",
          "name": "stdout",
          "text": [
            "Network says : 5 | Expected:\n"
          ]
        },
        {
          "output_type": "display_data",
          "data": {
            "text/plain": [
              "<Figure size 432x288 with 1 Axes>"
            ],
            "image/png": "[encoded data removed]"
          },
          "metadata": {
            "needs_background": "light"
          }
        },
        {
          "output_type": "stream",
          "name": "stdout",
          "text": [
            "Network says : 5 | Expected:\n"
          ]
        },
        {
          "output_type": "display_data",
          "data": {
            "text/plain": [
              "<Figure size 432x288 with 1 Axes>"
            ],
            "image/png": "[encoded data removed]"
          },
          "metadata": {
            "needs_background": "light"
          }
        },
        {
          "output_type": "stream",
          "name": "stdout",
          "text": [
            "Network says : 2 | Expected:\n"
          ]
        },
        {
          "output_type": "display_data",
          "data": {
            "text/plain": [
              "<Figure size 432x288 with 1 Axes>"
            ],
            "image/png": "[encoded data removed]"
          },
          "metadata": {
            "needs_background": "light"
          }
        },
        {
          "output_type": "stream",
          "name": "stdout",
          "text": [
            "Network says : 2 | Expected:\n"
          ]
        },
        {
          "output_type": "display_data",
          "data": {
            "text/plain": [
              "<Figure size 432x288 with 1 Axes>"
            ],
            "image/png": "[encoded data removed]"
          },
          "metadata": {
            "needs_background": "light"
          }
        }
      ],
      "execution_count": 42,
      "metadata": {
        "collapsed": false,
        "jupyter": {
          "source_hidden": false,
          "outputs_hidden": false
        },
        "nteract": {
          "transient": {
            "deleting": false
          }
        },
        "execution": {
          "iopub.status.busy": "2020-02-13T18:10:07.226Z",
          "iopub.execute_input": "2020-02-13T18:10:07.252Z",
          "iopub.status.idle": "2020-02-13T18:10:09.099Z",
          "shell.execute_reply": "2020-02-13T18:10:09.130Z"
        }
      }
    }
  ],
  "metadata": {
    "kernel_info": {
      "name": "python38164bita2ed9e064d5e4c9bb01136d3de0972b4"
    },
    "language_info": {
      "name": "python",
      "version": "3.8.1",
      "mimetype": "text/x-python",
      "codemirror_mode": {
        "name": "ipython",
        "version": 3
      },
      "pygments_lexer": "ipython3",
      "nbconvert_exporter": "python",
      "file_extension": ".py"
    },
    "kernelspec": {
      "argv": [
        "/usr/local/bin/python3",
        "-m",
        "ipykernel_launcher",
        "-f",
        "{connection_file}"
      ],
      "display_name": "Python 3.8.1 64-bit",
      "env": {},
      "language": "python",
      "metadata": {
        "interpreter": {
          "architecture": 3,
          "displayName": "Python 3.8.1 64-bit",
          "fileHash": "66b4886a75dd7fd74a46a0f818efff2ad0e1e1f66a02644def2f79b108092c5829d2f1511df9f4295d63f264fc96d1b37c27ad2d95617cb9ba6e00015f362266",
          "path": "/usr/local/bin/python3",
          "sysPrefix": "/Library/Frameworks/Python.framework/Versions/3.8",
          "type": "Unknown",
          "version": {
            "prerelease": [
              "final"
            ],
            "raw": "3.8.1-final",
            "patch": 1,
            "build": [],
            "minor": 8,
            "version": "3.8.1-final",
            "major": 3,
            "options": {
              "includePrerelease": false,
              "loose": false
            },
            "loose": false
          }
        }
      },
      "name": "python38164bita2ed9e064d5e4c9bb01136d3de0972b4"
    },
    "nteract": {
      "version": "0.21.1-alpha.0"
    }
  },
  "nbformat": 4,
  "nbformat_minor": 0
}