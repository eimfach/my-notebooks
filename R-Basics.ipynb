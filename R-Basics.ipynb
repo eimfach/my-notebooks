{
  "cells": [
    {
      "cell_type": "markdown",
      "source": [
        "# Data Science - Professional Cerificate Program - Havard University"
      ],
      "metadata": {
        "collapsed": false,
        "outputHidden": false,
        "inputHidden": false
      }
    },
    {
      "cell_type": "markdown",
      "source": [
        "## Summary of the basics of R"
      ],
      "metadata": {}
    },
    {
      "cell_type": "markdown",
      "source": [
        "To get documentation on the fly use the **help()** function.\n",
        "To print stuff use **print()**. To get first values in a list of values use **head()**."
      ],
      "metadata": {}
    },
    {
      "cell_type": "markdown",
      "source": [
        "Basic functions to manage data and packages include: **install(), library(), data()**"
      ],
      "metadata": {}
    },
    {
      "cell_type": "code",
      "source": [
        "install.packages(\"dslabs\") # install required package 'dslabs'"
      ],
      "outputs": [
        {
          "output_type": "stream",
          "name": "stderr",
          "text": [
            "also installing the dependencies 'colorspace', 'assertthat', 'fansi', 'utf8', 'labeling', 'munsell', 'RColorBrewer', 'cli', 'pillar', 'gtable', 'lazyeval', 'plyr', 'reshape2', 'rlang', 'scales', 'tibble', 'viridisLite', 'ggplot2'\n",
            "\n"
          ]
        },
        {
          "output_type": "stream",
          "name": "stdout",
          "text": [
            "\n",
            "The downloaded binary packages are in\n",
            "\t/var/folders/k6/13d6jq7x6_56s4sps69r7c2w0000gn/T//RtmpxsViWo/downloaded_packages\n"
          ]
        }
      ],
      "execution_count": 7,
      "metadata": {
        "collapsed": false,
        "outputHidden": true,
        "inputHidden": false,
        "outputExpanded": true
      }
    },
    {
      "cell_type": "code",
      "source": [
        "library(dslabs) # load dslabs into workspace\n",
        "data(murders) # now load the 'murders' dataframe from 'dslabs'"
      ],
      "outputs": [],
      "execution_count": 14,
      "metadata": {
        "collapsed": false,
        "outputHidden": false,
        "inputHidden": false
      }
    },
    {
      "cell_type": "markdown",
      "source": [
        "---\n",
        "\n### Basic operations on data"
      ],
      "metadata": {}
    },
    {
      "cell_type": "markdown",
      "source": [
        "Examine an object using **str()** (_structure_)"
      ],
      "metadata": {}
    },
    {
      "cell_type": "code",
      "source": [
        "str(murders)"
      ],
      "outputs": [
        {
          "output_type": "stream",
          "name": "stdout",
          "text": [
            "'data.frame':\t51 obs. of  5 variables:\n",
            " $ state     : chr  \"Alabama\" \"Alaska\" \"Arizona\" \"Arkansas\" ...\n",
            " $ abb       : chr  \"AL\" \"AK\" \"AZ\" \"AR\" ...\n",
            " $ region    : Factor w/ 4 levels \"Northeast\",\"South\",..: 2 4 4 2 4 4 1 2 2 2 ...\n",
            " $ population: num  4779736 710231 6392017 2915918 37253956 ...\n",
            " $ total     : num  135 19 232 93 1257 ...\n"
          ]
        }
      ],
      "execution_count": 25,
      "metadata": {
        "collapsed": false,
        "outputHidden": false,
        "inputHidden": false
      }
    },
    {
      "cell_type": "markdown",
      "source": [
        "Use  **<- operator **  to assign a value to a variable"
      ],
      "metadata": {}
    },
    {
      "cell_type": "code",
      "source": [
        "p <- 1 # p equals 1"
      ],
      "outputs": [],
      "execution_count": null,
      "metadata": {
        "collapsed": false,
        "outputHidden": false,
        "inputHidden": false
      }
    },
    {
      "cell_type": "markdown",
      "source": [
        "Use **names()** to extract the variable names of a dataframe into list of strings (it is actually a 'vector'). To refer to a variable inside the dataframe use the **$ operator**.\n",
        "\n",
        "To get the type of data and variables use **class()**.\n"
      ],
      "metadata": {}
    },
    {
      "cell_type": "code",
      "source": [
        "# What are the names of the variables inside ?\n",
        "names(murders)"
      ],
      "outputs": [
        {
          "output_type": "display_data",
          "data": {
            "text/html": [
              "<ol class=list-inline>\n",
              "\t<li>'state'</li>\n",
              "\t<li>'abb'</li>\n",
              "\t<li>'region'</li>\n",
              "\t<li>'population'</li>\n",
              "\t<li>'total'</li>\n",
              "</ol>\n"
            ],
            "text/markdown": [
              "1. 'state'\n",
              "2. 'abb'\n",
              "3. 'region'\n",
              "4. 'population'\n",
              "5. 'total'\n",
              "\n\n"
            ],
            "text/latex": [
              "\\begin{enumerate*}\n",
              "\\item 'state'\n",
              "\\item 'abb'\n",
              "\\item 'region'\n",
              "\\item 'population'\n",
              "\\item 'total'\n",
              "\\end{enumerate*}\n"
            ],
            "text/plain": [
              "[1] \"state\"      \"abb\"        \"region\"     \"population\" \"total\"     "
            ]
          },
          "metadata": {}
        }
      ],
      "execution_count": 13,
      "metadata": {
        "collapsed": false,
        "outputHidden": false,
        "inputHidden": false
      }
    },
    {
      "cell_type": "code",
      "source": [
        "# What are the types of the variables ?\n",
        "class(murders)\n",
        "class(murders$state)\n",
        "class(murders$region)\n",
        "class(murders$population)"
      ],
      "outputs": [
        {
          "output_type": "display_data",
          "data": {
            "text/html": [
              "'data.frame'"
            ],
            "text/markdown": [
              "'data.frame'"
            ],
            "text/latex": [
              "'data.frame'"
            ],
            "text/plain": [
              "[1] \"data.frame\""
            ]
          },
          "metadata": {}
        },
        {
          "output_type": "display_data",
          "data": {
            "text/html": [
              "'character'"
            ],
            "text/markdown": [
              "'character'"
            ],
            "text/latex": [
              "'character'"
            ],
            "text/plain": [
              "[1] \"character\""
            ]
          },
          "metadata": {}
        },
        {
          "output_type": "display_data",
          "data": {
            "text/html": [
              "'factor'"
            ],
            "text/markdown": [
              "'factor'"
            ],
            "text/latex": [
              "'factor'"
            ],
            "text/plain": [
              "[1] \"factor\""
            ]
          },
          "metadata": {}
        },
        {
          "output_type": "display_data",
          "data": {
            "text/html": [
              "'numeric'"
            ],
            "text/markdown": [
              "'numeric'"
            ],
            "text/latex": [
              "'numeric'"
            ],
            "text/plain": [
              "[1] \"numeric\""
            ]
          },
          "metadata": {}
        }
      ],
      "execution_count": 17,
      "metadata": {
        "collapsed": false,
        "outputHidden": false,
        "inputHidden": false
      }
    },
    {
      "cell_type": "markdown",
      "source": [
        "To extract data use either **$ operator** or double squarebrackets as shown below, assing it to a variable"
      ],
      "metadata": {}
    },
    {
      "cell_type": "code",
      "source": [
        "q <- murders$state\n",
        "r <- murders[[\"state\"]]\n",
        "head(q)\n",
        "head(r)"
      ],
      "outputs": [
        {
          "output_type": "display_data",
          "data": {
            "text/html": [
              "<ol class=list-inline>\n",
              "\t<li>'Alabama'</li>\n",
              "\t<li>'Alaska'</li>\n",
              "\t<li>'Arizona'</li>\n",
              "\t<li>'Arkansas'</li>\n",
              "\t<li>'California'</li>\n",
              "\t<li>'Colorado'</li>\n",
              "</ol>\n"
            ],
            "text/markdown": [
              "1. 'Alabama'\n",
              "2. 'Alaska'\n",
              "3. 'Arizona'\n",
              "4. 'Arkansas'\n",
              "5. 'California'\n",
              "6. 'Colorado'\n",
              "\n\n"
            ],
            "text/latex": [
              "\\begin{enumerate*}\n",
              "\\item 'Alabama'\n",
              "\\item 'Alaska'\n",
              "\\item 'Arizona'\n",
              "\\item 'Arkansas'\n",
              "\\item 'California'\n",
              "\\item 'Colorado'\n",
              "\\end{enumerate*}\n"
            ],
            "text/plain": [
              "[1] \"Alabama\"    \"Alaska\"     \"Arizona\"    \"Arkansas\"   \"California\"\n",
              "[6] \"Colorado\"  "
            ]
          },
          "metadata": {}
        },
        {
          "output_type": "display_data",
          "data": {
            "text/html": [
              "<ol class=list-inline>\n",
              "\t<li>'Alabama'</li>\n",
              "\t<li>'Alaska'</li>\n",
              "\t<li>'Arizona'</li>\n",
              "\t<li>'Arkansas'</li>\n",
              "\t<li>'California'</li>\n",
              "\t<li>'Colorado'</li>\n",
              "</ol>\n"
            ],
            "text/markdown": [
              "1. 'Alabama'\n",
              "2. 'Alaska'\n",
              "3. 'Arizona'\n",
              "4. 'Arkansas'\n",
              "5. 'California'\n",
              "6. 'Colorado'\n",
              "\n\n"
            ],
            "text/latex": [
              "\\begin{enumerate*}\n",
              "\\item 'Alabama'\n",
              "\\item 'Alaska'\n",
              "\\item 'Arizona'\n",
              "\\item 'Arkansas'\n",
              "\\item 'California'\n",
              "\\item 'Colorado'\n",
              "\\end{enumerate*}\n"
            ],
            "text/plain": [
              "[1] \"Alabama\"    \"Alaska\"     \"Arizona\"    \"Arkansas\"   \"California\"\n",
              "[6] \"Colorado\"  "
            ]
          },
          "metadata": {}
        }
      ],
      "execution_count": 14,
      "metadata": {
        "collapsed": false,
        "outputHidden": false,
        "inputHidden": false
      }
    },
    {
      "cell_type": "markdown",
      "source": [
        "#### Data types"
      ],
      "metadata": {}
    },
    {
      "cell_type": "markdown",
      "source": [
        "Different types of data are **numeric, integer, character, factor, logical, data.frame**\n",
        "\nTo check if some results are identical use **identical()**"
      ],
      "metadata": {}
    },
    {
      "cell_type": "markdown",
      "source": [
        "**Stuff to know about the different types:**\n",
        "\n",
        "(1) factor is a named access property which properties (or categories) can be asked for with **levels()**\n",
        "\n",
        "(2) data.frame represents multiple sets of named vectors in columns\n",
        "\n(3) To create an integer add the letter **L** after a whole number"
      ],
      "metadata": {}
    },
    {
      "cell_type": "code",
      "source": [
        "levels(murders$region)\n"
      ],
      "outputs": [
        {
          "output_type": "display_data",
          "data": {
            "text/html": [
              "<ol class=list-inline>\n",
              "\t<li>'Northeast'</li>\n",
              "\t<li>'South'</li>\n",
              "\t<li>'North Central'</li>\n",
              "\t<li>'West'</li>\n",
              "</ol>\n"
            ],
            "text/markdown": [
              "1. 'Northeast'\n",
              "2. 'South'\n",
              "3. 'North Central'\n",
              "4. 'West'\n",
              "\n\n"
            ],
            "text/latex": [
              "\\begin{enumerate*}\n",
              "\\item 'Northeast'\n",
              "\\item 'South'\n",
              "\\item 'North Central'\n",
              "\\item 'West'\n",
              "\\end{enumerate*}\n"
            ],
            "text/plain": [
              "[1] \"Northeast\"     \"South\"         \"North Central\" \"West\"         "
            ]
          },
          "metadata": {}
        }
      ],
      "execution_count": 62,
      "metadata": {
        "collapsed": false,
        "outputHidden": false,
        "inputHidden": false
      }
    },
    {
      "cell_type": "code",
      "source": [
        "items <- c(\"laptop\", \"camera\", \"external drive\")\n",
        "budget <- c(2000, 500, 200)\n",
        "data.frame(items, budget)\n",
        "# data.frame(gadgets = items, money = budget)"
      ],
      "outputs": [
        {
          "output_type": "display_data",
          "data": {
            "text/html": [
              "<table>\n",
              "<thead><tr><th scope=col>items</th><th scope=col>budget</th></tr></thead>\n",
              "<tbody>\n",
              "\t<tr><td>laptop        </td><td>2000          </td></tr>\n",
              "\t<tr><td>camera        </td><td> 500          </td></tr>\n",
              "\t<tr><td>external drive</td><td> 200          </td></tr>\n",
              "</tbody>\n",
              "</table>\n"
            ],
            "text/markdown": [
              "\n",
              "items | budget | \n",
              "|---|---|---|\n",
              "| laptop         | 2000           | \n",
              "| camera         |  500           | \n",
              "| external drive |  200           | \n",
              "\n\n"
            ],
            "text/latex": [
              "\\begin{tabular}{r|ll}\n",
              " items & budget\\\\\n",
              "\\hline\n",
              "\t laptop         & 2000          \\\\\n",
              "\t camera         &  500          \\\\\n",
              "\t external drive &  200          \\\\\n",
              "\\end{tabular}\n"
            ],
            "text/plain": [
              "  items          budget\n",
              "1 laptop         2000  \n",
              "2 camera          500  \n",
              "3 external drive  200  "
            ]
          },
          "metadata": {}
        }
      ],
      "execution_count": 66,
      "metadata": {
        "collapsed": false,
        "outputHidden": false,
        "inputHidden": false
      }
    },
    {
      "cell_type": "code",
      "source": [
        "class(3L)"
      ],
      "outputs": [
        {
          "output_type": "display_data",
          "data": {
            "text/html": [
              "'integer'"
            ],
            "text/markdown": [
              "'integer'"
            ],
            "text/latex": [
              "'integer'"
            ],
            "text/plain": [
              "[1] \"integer\""
            ]
          },
          "metadata": {}
        }
      ],
      "execution_count": 60,
      "metadata": {
        "collapsed": false,
        "outputHidden": false,
        "inputHidden": false
      }
    },
    {
      "cell_type": "markdown",
      "source": [
        "#### Type Coercion and Type Casting"
      ],
      "metadata": {}
    },
    {
      "cell_type": "code",
      "source": [
        "# Typecast the vector to get an integer vector\n",
        "# You will get a warning but that is ok\n",
        "as.numeric(c(1, 2, 3, \"a\"))"
      ],
      "outputs": [
        {
          "output_type": "stream",
          "name": "stderr",
          "text": [
            "Warning message in eval(expr, envir, enclos):\n",
            "\"NAs durch Umwandlung erzeugt\""
          ]
        },
        {
          "output_type": "display_data",
          "data": {
            "text/html": [
              "<ol class=list-inline>\n",
              "\t<li>1</li>\n",
              "\t<li>2</li>\n",
              "\t<li>3</li>\n",
              "\t<li>&lt;NA&gt;</li>\n",
              "</ol>\n"
            ],
            "text/markdown": [
              "1. 1\n",
              "2. 2\n",
              "3. 3\n",
              "4. &lt;NA&gt;\n",
              "\n\n"
            ],
            "text/latex": [
              "\\begin{enumerate*}\n",
              "\\item 1\n",
              "\\item 2\n",
              "\\item 3\n",
              "\\item <NA>\n",
              "\\end{enumerate*}\n"
            ],
            "text/plain": [
              "[1]  1  2  3 NA"
            ]
          },
          "metadata": {}
        }
      ],
      "execution_count": 67,
      "metadata": {
        "collapsed": false,
        "outputHidden": false,
        "inputHidden": false
      }
    },
    {
      "cell_type": "markdown",
      "source": [
        "**NA Handling**"
      ],
      "metadata": {}
    },
    {
      "cell_type": "code",
      "source": [
        "data(na_example)\n",
        "str(na_example)"
      ],
      "outputs": [
        {
          "output_type": "stream",
          "name": "stdout",
          "text": [
            " int [1:1000] 2 1 3 2 1 3 1 4 3 2 ...\n"
          ]
        }
      ],
      "execution_count": 28,
      "metadata": {
        "collapsed": false,
        "outputHidden": false,
        "inputHidden": false
      }
    },
    {
      "cell_type": "code",
      "source": [
        "is_na <- is.na(na_example)\n",
        "head(na_examples_ind)"
      ],
      "outputs": [
        {
          "output_type": "display_data",
          "data": {
            "text/html": [
              "<ol class=list-inline>\n",
              "\t<li>FALSE</li>\n",
              "\t<li>FALSE</li>\n",
              "\t<li>FALSE</li>\n",
              "\t<li>FALSE</li>\n",
              "\t<li>FALSE</li>\n",
              "\t<li>FALSE</li>\n",
              "</ol>\n"
            ],
            "text/markdown": [
              "1. FALSE\n",
              "2. FALSE\n",
              "3. FALSE\n",
              "4. FALSE\n",
              "5. FALSE\n",
              "6. FALSE\n",
              "\n\n"
            ],
            "text/latex": [
              "\\begin{enumerate*}\n",
              "\\item FALSE\n",
              "\\item FALSE\n",
              "\\item FALSE\n",
              "\\item FALSE\n",
              "\\item FALSE\n",
              "\\item FALSE\n",
              "\\end{enumerate*}\n"
            ],
            "text/plain": [
              "[1] FALSE FALSE FALSE FALSE FALSE FALSE"
            ]
          },
          "metadata": {}
        }
      ],
      "execution_count": 34,
      "metadata": {
        "collapsed": false,
        "outputHidden": false,
        "inputHidden": false
      }
    },
    {
      "cell_type": "markdown",
      "source": [
        "Calculate how many NA `is_na` has"
      ],
      "metadata": {}
    },
    {
      "cell_type": "code",
      "source": [
        "sum(is_na)"
      ],
      "outputs": [
        {
          "output_type": "display_data",
          "data": {
            "text/html": [
              "145"
            ],
            "text/markdown": [
              "145"
            ],
            "text/latex": [
              "145"
            ],
            "text/plain": [
              "[1] 145"
            ]
          },
          "metadata": {}
        }
      ],
      "execution_count": 35,
      "metadata": {
        "collapsed": false,
        "outputHidden": false,
        "inputHidden": false
      }
    },
    {
      "cell_type": "markdown",
      "source": [
        "Filter the values of `na_example` which are _not_ NA and calculate the average using **mean()**"
      ],
      "metadata": {}
    },
    {
      "cell_type": "code",
      "source": [
        "mean(na_example[!is_na])"
      ],
      "outputs": [
        {
          "output_type": "display_data",
          "data": {
            "text/html": [
              "2.30175438596491"
            ],
            "text/markdown": [
              "2.30175438596491"
            ],
            "text/latex": [
              "2.30175438596491"
            ],
            "text/plain": [
              "[1] 2.301754"
            ]
          },
          "metadata": {}
        }
      ],
      "execution_count": 39,
      "metadata": {
        "collapsed": false,
        "outputHidden": false,
        "inputHidden": false
      }
    },
    {
      "cell_type": "markdown",
      "source": [
        "**Operators**\n",
        "\n**!** (_Negate_)"
      ],
      "metadata": {}
    },
    {
      "cell_type": "code",
      "source": [
        "x <- c(1, 2, 3)\n",
        "ind <- c(FALSE, TRUE, FALSE)\n",
        "x[!ind]"
      ],
      "outputs": [
        {
          "output_type": "display_data",
          "data": {
            "text/html": [
              "<ol class=list-inline>\n",
              "\t<li>1</li>\n",
              "\t<li>3</li>\n",
              "</ol>\n"
            ],
            "text/markdown": [
              "1. 1\n",
              "2. 3\n",
              "\n\n"
            ],
            "text/latex": [
              "\\begin{enumerate*}\n",
              "\\item 1\n",
              "\\item 3\n",
              "\\end{enumerate*}\n"
            ],
            "text/plain": [
              "[1] 1 3"
            ]
          },
          "metadata": {}
        }
      ],
      "execution_count": 30,
      "metadata": {
        "collapsed": false,
        "outputHidden": false,
        "inputHidden": false
      }
    },
    {
      "cell_type": "markdown",
      "source": [
        "---\n",
        "\n### Vectors and Basic Vector Operations"
      ],
      "metadata": {}
    },
    {
      "cell_type": "markdown",
      "source": [
        "Basic functions to create vectors are **c(), vector()**\n",
        "\n",
        "(1) **c()** (_combine_) creates a vector from given values, comma separated\n",
        "\n(2) **vector(lenght = x)** creates an empty vector with given argument (named **length**)"
      ],
      "metadata": {}
    },
    {
      "cell_type": "code",
      "source": [
        "c(20,40,60)\n"
      ],
      "outputs": [
        {
          "output_type": "display_data",
          "data": {
            "text/html": [
              "<ol class=list-inline>\n",
              "\t<li>20</li>\n",
              "\t<li>40</li>\n",
              "\t<li>60</li>\n",
              "</ol>\n"
            ],
            "text/markdown": [
              "1. 20\n",
              "2. 40\n",
              "3. 60\n",
              "\n\n"
            ],
            "text/latex": [
              "\\begin{enumerate*}\n",
              "\\item 20\n",
              "\\item 40\n",
              "\\item 60\n",
              "\\end{enumerate*}\n"
            ],
            "text/plain": [
              "[1] 20 40 60"
            ]
          },
          "metadata": {}
        }
      ],
      "execution_count": 44,
      "metadata": {
        "collapsed": false,
        "outputHidden": false,
        "inputHidden": false
      }
    },
    {
      "cell_type": "code",
      "source": [
        "vector(length = 2)"
      ],
      "outputs": [
        {
          "output_type": "display_data",
          "data": {
            "text/html": [
              "<ol class=list-inline>\n",
              "\t<li>FALSE</li>\n",
              "\t<li>FALSE</li>\n",
              "</ol>\n"
            ],
            "text/markdown": [
              "1. FALSE\n",
              "2. FALSE\n",
              "\n\n"
            ],
            "text/latex": [
              "\\begin{enumerate*}\n",
              "\\item FALSE\n",
              "\\item FALSE\n",
              "\\end{enumerate*}\n"
            ],
            "text/plain": [
              "[1] FALSE FALSE"
            ]
          },
          "metadata": {}
        }
      ],
      "execution_count": 43,
      "metadata": {
        "collapsed": false,
        "outputHidden": false,
        "inputHidden": false
      }
    },
    {
      "cell_type": "markdown",
      "source": [
        "Basic functions to operate on vectors are: **length(), table()**\n",
        "\n",
        "(1) **length()** shows the length of a vector\n",
        "\n(2) **table()** takes a vector as input and returns the frequency of each unique element in the vector."
      ],
      "metadata": {}
    },
    {
      "cell_type": "code",
      "source": [
        "length(c(1,2,3,4))\n"
      ],
      "outputs": [
        {
          "output_type": "display_data",
          "data": {
            "text/html": [
              "4"
            ],
            "text/markdown": [
              "4"
            ],
            "text/latex": [
              "4"
            ],
            "text/plain": [
              "[1] 4"
            ]
          },
          "metadata": {}
        }
      ],
      "execution_count": 34,
      "metadata": {
        "collapsed": false,
        "outputHidden": false,
        "inputHidden": false
      }
    },
    {
      "cell_type": "code",
      "source": [
        "table(c(1,1,1,2,2,3,3,4))"
      ],
      "outputs": [
        {
          "output_type": "display_data",
          "data": {
            "text/plain": [
              "\n",
              "1 2 3 4 \n",
              "3 2 2 1 "
            ]
          },
          "metadata": {}
        }
      ],
      "execution_count": 33,
      "metadata": {
        "collapsed": false,
        "outputHidden": false,
        "inputHidden": false
      }
    },
    {
      "cell_type": "markdown",
      "source": [
        "#### Connecting Numeric and Character Vectors"
      ],
      "metadata": {}
    },
    {
      "cell_type": "code",
      "source": [
        "cost <- c(50, 75, 90, 100, 150)\n",
        "food <- c(\"pizza\", \"burgers\", \"salads\", \"cheese\", \"pasta\")\n",
        "names(cost) <- food # Note: I guess this does just create a named index"
      ],
      "outputs": [],
      "execution_count": 77,
      "metadata": {
        "collapsed": false,
        "outputHidden": false,
        "inputHidden": false
      }
    },
    {
      "cell_type": "code",
      "source": [
        "head(cost)"
      ],
      "outputs": [
        {
          "output_type": "display_data",
          "data": {
            "text/html": [
              "<dl class=dl-horizontal>\n",
              "\t<dt>pizza</dt>\n",
              "\t\t<dd>50</dd>\n",
              "\t<dt>burgers</dt>\n",
              "\t\t<dd>75</dd>\n",
              "\t<dt>salads</dt>\n",
              "\t\t<dd>90</dd>\n",
              "\t<dt>cheese</dt>\n",
              "\t\t<dd>100</dd>\n",
              "\t<dt>pasta</dt>\n",
              "\t\t<dd>150</dd>\n",
              "</dl>\n"
            ],
            "text/markdown": [
              "pizza\n",
              ":   50burgers\n",
              ":   75salads\n",
              ":   90cheese\n",
              ":   100pasta\n",
              ":   150\n",
              "\n"
            ],
            "text/latex": [
              "\\begin{description*}\n",
              "\\item[pizza] 50\n",
              "\\item[burgers] 75\n",
              "\\item[salads] 90\n",
              "\\item[cheese] 100\n",
              "\\item[pasta] 150\n",
              "\\end{description*}\n"
            ],
            "text/plain": [
              "  pizza burgers  salads  cheese   pasta \n",
              "     50      75      90     100     150 "
            ]
          },
          "metadata": {}
        }
      ],
      "execution_count": 36,
      "metadata": {
        "collapsed": false,
        "outputHidden": false,
        "inputHidden": false
      }
    },
    {
      "cell_type": "code",
      "source": [
        "class(cost)\n"
      ],
      "outputs": [
        {
          "output_type": "display_data",
          "data": {
            "text/html": [
              "'numeric'"
            ],
            "text/markdown": [
              "'numeric'"
            ],
            "text/latex": [
              "'numeric'"
            ],
            "text/plain": [
              "[1] \"numeric\""
            ]
          },
          "metadata": {}
        }
      ],
      "execution_count": 38,
      "metadata": {
        "collapsed": false,
        "outputHidden": false,
        "inputHidden": false
      }
    },
    {
      "cell_type": "markdown",
      "source": [
        "#### Subsetting Vectors"
      ],
      "metadata": {}
    },
    {
      "cell_type": "markdown",
      "source": [
        "If we want to display only selected values from the object, R can help us do that easily.\n",
        "\n",
        "For example, if we want to see the cost of the last 3 items in our food list, we would type (1) or (2)\n",
        "\n(3) Will return specific values from index 1 and 5"
      ],
      "metadata": {}
    },
    {
      "cell_type": "code",
      "source": [
        "cost[3:5]"
      ],
      "outputs": [
        {
          "output_type": "display_data",
          "data": {
            "text/html": [
              "<dl class=dl-horizontal>\n",
              "\t<dt>salads</dt>\n",
              "\t\t<dd>90</dd>\n",
              "\t<dt>cheese</dt>\n",
              "\t\t<dd>100</dd>\n",
              "\t<dt>pasta</dt>\n",
              "\t\t<dd>150</dd>\n",
              "</dl>\n"
            ],
            "text/markdown": [
              "salads\n",
              ":   90cheese\n",
              ":   100pasta\n",
              ":   150\n",
              "\n"
            ],
            "text/latex": [
              "\\begin{description*}\n",
              "\\item[salads] 90\n",
              "\\item[cheese] 100\n",
              "\\item[pasta] 150\n",
              "\\end{description*}\n"
            ],
            "text/plain": [
              "salads cheese  pasta \n",
              "    90    100    150 "
            ]
          },
          "metadata": {}
        }
      ],
      "execution_count": 41,
      "metadata": {
        "collapsed": false,
        "outputHidden": false,
        "inputHidden": false
      }
    },
    {
      "cell_type": "code",
      "source": [
        "cost[c(3,4,5)]\n"
      ],
      "outputs": [
        {
          "output_type": "display_data",
          "data": {
            "text/html": [
              "<dl class=dl-horizontal>\n",
              "\t<dt>salads</dt>\n",
              "\t\t<dd>90</dd>\n",
              "\t<dt>cheese</dt>\n",
              "\t\t<dd>100</dd>\n",
              "\t<dt>pasta</dt>\n",
              "\t\t<dd>150</dd>\n",
              "</dl>\n"
            ],
            "text/markdown": [
              "salads\n",
              ":   90cheese\n",
              ":   100pasta\n",
              ":   150\n",
              "\n"
            ],
            "text/latex": [
              "\\begin{description*}\n",
              "\\item[salads] 90\n",
              "\\item[cheese] 100\n",
              "\\item[pasta] 150\n",
              "\\end{description*}\n"
            ],
            "text/plain": [
              "salads cheese  pasta \n",
              "    90    100    150 "
            ]
          },
          "metadata": {}
        }
      ],
      "execution_count": 42,
      "metadata": {
        "collapsed": false,
        "outputHidden": false,
        "inputHidden": false
      }
    },
    {
      "cell_type": "code",
      "source": [
        "cost[c(1,5)]"
      ],
      "outputs": [
        {
          "output_type": "display_data",
          "data": {
            "text/html": [
              "<dl class=dl-horizontal>\n",
              "\t<dt>pizza</dt>\n",
              "\t\t<dd>50</dd>\n",
              "\t<dt>pasta</dt>\n",
              "\t\t<dd>150</dd>\n",
              "</dl>\n"
            ],
            "text/markdown": [
              "pizza\n",
              ":   50pasta\n",
              ":   150\n",
              "\n"
            ],
            "text/latex": [
              "\\begin{description*}\n",
              "\\item[pizza] 50\n",
              "\\item[pasta] 150\n",
              "\\end{description*}\n"
            ],
            "text/plain": [
              "pizza pasta \n",
              "   50   150 "
            ]
          },
          "metadata": {}
        }
      ],
      "execution_count": 40,
      "metadata": {
        "collapsed": false,
        "outputHidden": false,
        "inputHidden": false
      }
    },
    {
      "cell_type": "markdown",
      "source": [
        "#### Sorting"
      ],
      "metadata": {}
    },
    {
      "cell_type": "markdown",
      "source": [
        "Use **sort(), order(), rank()**\n",
        "\n",
        "**sort()** creates a vector with given values sorted in ascending order.\n",
        "\n",
        "**order()** creates a vector which reflects the order of the given values by their index.\n",
        "\n**rank()**"
      ],
      "metadata": {}
    },
    {
      "cell_type": "code",
      "source": [
        "s <- c(99, 67, 84, 12, 15)"
      ],
      "outputs": [],
      "execution_count": 6,
      "metadata": {
        "collapsed": false,
        "outputHidden": false,
        "inputHidden": false
      }
    },
    {
      "cell_type": "code",
      "source": [
        "sort(s)"
      ],
      "outputs": [
        {
          "output_type": "display_data",
          "data": {
            "text/html": [
              "<ol class=list-inline>\n",
              "\t<li>12</li>\n",
              "\t<li>15</li>\n",
              "\t<li>67</li>\n",
              "\t<li>84</li>\n",
              "\t<li>99</li>\n",
              "</ol>\n"
            ],
            "text/markdown": [
              "1. 12\n",
              "2. 15\n",
              "3. 67\n",
              "4. 84\n",
              "5. 99\n",
              "\n\n"
            ],
            "text/latex": [
              "\\begin{enumerate*}\n",
              "\\item 12\n",
              "\\item 15\n",
              "\\item 67\n",
              "\\item 84\n",
              "\\item 99\n",
              "\\end{enumerate*}\n"
            ],
            "text/plain": [
              "[1] 12 15 67 84 99"
            ]
          },
          "metadata": {}
        }
      ],
      "execution_count": 7,
      "metadata": {
        "collapsed": false,
        "outputHidden": false,
        "inputHidden": false
      }
    },
    {
      "cell_type": "code",
      "source": [
        "order(s)"
      ],
      "outputs": [
        {
          "output_type": "display_data",
          "data": {
            "text/html": [
              "<ol class=list-inline>\n",
              "\t<li>4</li>\n",
              "\t<li>5</li>\n",
              "\t<li>2</li>\n",
              "\t<li>3</li>\n",
              "\t<li>1</li>\n",
              "</ol>\n"
            ],
            "text/markdown": [
              "1. 4\n",
              "2. 5\n",
              "3. 2\n",
              "4. 3\n",
              "5. 1\n",
              "\n\n"
            ],
            "text/latex": [
              "\\begin{enumerate*}\n",
              "\\item 4\n",
              "\\item 5\n",
              "\\item 2\n",
              "\\item 3\n",
              "\\item 1\n",
              "\\end{enumerate*}\n"
            ],
            "text/plain": [
              "[1] 4 5 2 3 1"
            ]
          },
          "metadata": {}
        }
      ],
      "execution_count": 8,
      "metadata": {
        "collapsed": false,
        "outputHidden": false,
        "inputHidden": false
      }
    },
    {
      "cell_type": "code",
      "source": [
        "rank(s)\n",
        "s[rank(s)]"
      ],
      "outputs": [
        {
          "output_type": "display_data",
          "data": {
            "text/html": [
              "<ol class=list-inline>\n",
              "\t<li>5</li>\n",
              "\t<li>3</li>\n",
              "\t<li>4</li>\n",
              "\t<li>1</li>\n",
              "\t<li>2</li>\n",
              "</ol>\n"
            ],
            "text/markdown": [
              "1. 5\n",
              "2. 3\n",
              "3. 4\n",
              "4. 1\n",
              "5. 2\n",
              "\n\n"
            ],
            "text/latex": [
              "\\begin{enumerate*}\n",
              "\\item 5\n",
              "\\item 3\n",
              "\\item 4\n",
              "\\item 1\n",
              "\\item 2\n",
              "\\end{enumerate*}\n"
            ],
            "text/plain": [
              "[1] 5 3 4 1 2"
            ]
          },
          "metadata": {}
        },
        {
          "output_type": "display_data",
          "data": {
            "text/html": [
              "<ol class=list-inline>\n",
              "\t<li>15</li>\n",
              "\t<li>84</li>\n",
              "\t<li>12</li>\n",
              "\t<li>99</li>\n",
              "\t<li>67</li>\n",
              "</ol>\n"
            ],
            "text/markdown": [
              "1. 15\n",
              "2. 84\n",
              "3. 12\n",
              "4. 99\n",
              "5. 67\n",
              "\n\n"
            ],
            "text/latex": [
              "\\begin{enumerate*}\n",
              "\\item 15\n",
              "\\item 84\n",
              "\\item 12\n",
              "\\item 99\n",
              "\\item 67\n",
              "\\end{enumerate*}\n"
            ],
            "text/plain": [
              "[1] 15 84 12 99 67"
            ]
          },
          "metadata": {}
        }
      ],
      "execution_count": 24,
      "metadata": {
        "collapsed": false,
        "outputHidden": false,
        "inputHidden": false
      }
    },
    {
      "cell_type": "code",
      "source": [
        "which.min(s)\n",
        "min(s)"
      ],
      "outputs": [
        {
          "output_type": "display_data",
          "data": {
            "text/html": [
              "4"
            ],
            "text/markdown": [
              "4"
            ],
            "text/latex": [
              "4"
            ],
            "text/plain": [
              "[1] 4"
            ]
          },
          "metadata": {}
        },
        {
          "output_type": "display_data",
          "data": {
            "text/html": [
              "12"
            ],
            "text/markdown": [
              "12"
            ],
            "text/latex": [
              "12"
            ],
            "text/plain": [
              "[1] 12"
            ]
          },
          "metadata": {}
        }
      ],
      "execution_count": 10,
      "metadata": {
        "collapsed": false,
        "outputHidden": false,
        "inputHidden": false
      }
    },
    {
      "cell_type": "code",
      "source": [
        "which.max(s)\n",
        "max(s)"
      ],
      "outputs": [
        {
          "output_type": "display_data",
          "data": {
            "text/html": [
              "1"
            ],
            "text/markdown": [
              "1"
            ],
            "text/latex": [
              "1"
            ],
            "text/plain": [
              "[1] 1"
            ]
          },
          "metadata": {}
        },
        {
          "output_type": "display_data",
          "data": {
            "text/html": [
              "99"
            ],
            "text/markdown": [
              "99"
            ],
            "text/latex": [
              "99"
            ],
            "text/plain": [
              "[1] 99"
            ]
          },
          "metadata": {}
        }
      ],
      "execution_count": 11,
      "metadata": {
        "collapsed": false,
        "outputHidden": false,
        "inputHidden": false
      }
    },
    {
      "cell_type": "markdown",
      "source": [
        "Applied example"
      ],
      "metadata": {}
    },
    {
      "cell_type": "code",
      "source": [
        "\n",
        "ranks <- rank(murders$population)\n",
        "rnked <- data.frame(state = murders$state, ranks)\n",
        "head(rnked)"
      ],
      "outputs": [
        {
          "output_type": "display_data",
          "data": {
            "text/html": [
              "<table>\n",
              "<thead><tr><th scope=col>state</th><th scope=col>ranks</th></tr></thead>\n",
              "<tbody>\n",
              "\t<tr><td>Alabama   </td><td>29        </td></tr>\n",
              "\t<tr><td>Alaska    </td><td> 5        </td></tr>\n",
              "\t<tr><td>Arizona   </td><td>36        </td></tr>\n",
              "\t<tr><td>Arkansas  </td><td>20        </td></tr>\n",
              "\t<tr><td>California</td><td>51        </td></tr>\n",
              "\t<tr><td>Colorado  </td><td>30        </td></tr>\n",
              "</tbody>\n",
              "</table>\n"
            ],
            "text/markdown": [
              "\n",
              "state | ranks | \n",
              "|---|---|---|---|---|---|\n",
              "| Alabama    | 29         | \n",
              "| Alaska     |  5         | \n",
              "| Arizona    | 36         | \n",
              "| Arkansas   | 20         | \n",
              "| California | 51         | \n",
              "| Colorado   | 30         | \n",
              "\n\n"
            ],
            "text/latex": [
              "\\begin{tabular}{r|ll}\n",
              " state & ranks\\\\\n",
              "\\hline\n",
              "\t Alabama    & 29        \\\\\n",
              "\t Alaska     &  5        \\\\\n",
              "\t Arizona    & 36        \\\\\n",
              "\t Arkansas   & 20        \\\\\n",
              "\t California & 51        \\\\\n",
              "\t Colorado   & 30        \\\\\n",
              "\\end{tabular}\n"
            ],
            "text/plain": [
              "  state      ranks\n",
              "1 Alabama    29   \n",
              "2 Alaska      5   \n",
              "3 Arizona    36   \n",
              "4 Arkansas   20   \n",
              "5 California 51   \n",
              "6 Colorado   30   "
            ]
          },
          "metadata": {}
        }
      ],
      "execution_count": 22,
      "metadata": {
        "collapsed": false,
        "outputHidden": false,
        "inputHidden": false
      }
    },
    {
      "cell_type": "markdown",
      "source": [
        "**Indexing Vectors**\n",
        "\nThe function **which()** help us know directly, which values are low or high, etc"
      ],
      "metadata": {}
    },
    {
      "cell_type": "code",
      "source": [
        "murder_rate <- murders$total/murders$population*100000\n",
        "low <- murder_rate < 1\n",
        "which(low)\n"
      ],
      "outputs": [
        {
          "output_type": "display_data",
          "data": {
            "text/html": [
              "<ol class=list-inline>\n",
              "\t<li>12</li>\n",
              "\t<li>13</li>\n",
              "\t<li>16</li>\n",
              "\t<li>20</li>\n",
              "\t<li>24</li>\n",
              "\t<li>30</li>\n",
              "\t<li>35</li>\n",
              "\t<li>38</li>\n",
              "\t<li>42</li>\n",
              "\t<li>45</li>\n",
              "\t<li>46</li>\n",
              "\t<li>51</li>\n",
              "</ol>\n"
            ],
            "text/markdown": [
              "1. 12\n",
              "2. 13\n",
              "3. 16\n",
              "4. 20\n",
              "5. 24\n",
              "6. 30\n",
              "7. 35\n",
              "8. 38\n",
              "9. 42\n",
              "10. 45\n",
              "11. 46\n",
              "12. 51\n",
              "\n\n"
            ],
            "text/latex": [
              "\\begin{enumerate*}\n",
              "\\item 12\n",
              "\\item 13\n",
              "\\item 16\n",
              "\\item 20\n",
              "\\item 24\n",
              "\\item 30\n",
              "\\item 35\n",
              "\\item 38\n",
              "\\item 42\n",
              "\\item 45\n",
              "\\item 46\n",
              "\\item 51\n",
              "\\end{enumerate*}\n"
            ],
            "text/plain": [
              " [1] 12 13 16 20 24 30 35 38 42 45 46 51"
            ]
          },
          "metadata": {}
        }
      ],
      "execution_count": 47,
      "metadata": {
        "collapsed": false,
        "outputHidden": false,
        "inputHidden": false
      }
    },
    {
      "cell_type": "markdown",
      "source": [
        "Apply the logical expression on other associated vectors to order the accordingly"
      ],
      "metadata": {
        "collapsed": false,
        "outputHidden": false,
        "inputHidden": false
      }
    },
    {
      "cell_type": "code",
      "source": [
        "murders$state[low]"
      ],
      "outputs": [
        {
          "output_type": "display_data",
          "data": {
            "text/html": [
              "<ol class=list-inline>\n",
              "\t<li>'Hawaii'</li>\n",
              "\t<li>'Idaho'</li>\n",
              "\t<li>'Iowa'</li>\n",
              "\t<li>'Maine'</li>\n",
              "\t<li>'Minnesota'</li>\n",
              "\t<li>'New Hampshire'</li>\n",
              "\t<li>'North Dakota'</li>\n",
              "\t<li>'Oregon'</li>\n",
              "\t<li>'South Dakota'</li>\n",
              "\t<li>'Utah'</li>\n",
              "\t<li>'Vermont'</li>\n",
              "\t<li>'Wyoming'</li>\n",
              "</ol>\n"
            ],
            "text/markdown": [
              "1. 'Hawaii'\n",
              "2. 'Idaho'\n",
              "3. 'Iowa'\n",
              "4. 'Maine'\n",
              "5. 'Minnesota'\n",
              "6. 'New Hampshire'\n",
              "7. 'North Dakota'\n",
              "8. 'Oregon'\n",
              "9. 'South Dakota'\n",
              "10. 'Utah'\n",
              "11. 'Vermont'\n",
              "12. 'Wyoming'\n",
              "\n\n"
            ],
            "text/latex": [
              "\\begin{enumerate*}\n",
              "\\item 'Hawaii'\n",
              "\\item 'Idaho'\n",
              "\\item 'Iowa'\n",
              "\\item 'Maine'\n",
              "\\item 'Minnesota'\n",
              "\\item 'New Hampshire'\n",
              "\\item 'North Dakota'\n",
              "\\item 'Oregon'\n",
              "\\item 'South Dakota'\n",
              "\\item 'Utah'\n",
              "\\item 'Vermont'\n",
              "\\item 'Wyoming'\n",
              "\\end{enumerate*}\n"
            ],
            "text/plain": [
              " [1] \"Hawaii\"        \"Idaho\"         \"Iowa\"          \"Maine\"        \n",
              " [5] \"Minnesota\"     \"New Hampshire\" \"North Dakota\"  \"Oregon\"       \n",
              " [9] \"South Dakota\"  \"Utah\"          \"Vermont\"       \"Wyoming\"      "
            ]
          },
          "metadata": {}
        }
      ],
      "execution_count": 48,
      "metadata": {
        "collapsed": false,
        "outputHidden": false,
        "inputHidden": false
      }
    },
    {
      "cell_type": "markdown",
      "source": [
        "**Filtering using logical operators and functions**\n",
        "\n",
        "**&** logical AND operator\n",
        "\n",
        "**%in%** function logical\n",
        "\n",
        "**mean()** compute the average\n",
        "\n**match()** create an index of matching values of two vectors"
      ],
      "metadata": {}
    },
    {
      "cell_type": "markdown",
      "source": [
        "States in the Northeast with murder rates lower than 1:"
      ],
      "metadata": {}
    },
    {
      "cell_type": "code",
      "source": [
        "ind <- low & murders$region == \"Northeast\"\n",
        "murders$state[ind]"
      ],
      "outputs": [
        {
          "output_type": "display_data",
          "data": {
            "text/html": [
              "<ol class=list-inline>\n",
              "\t<li>'Maine'</li>\n",
              "\t<li>'New Hampshire'</li>\n",
              "\t<li>'Vermont'</li>\n",
              "</ol>\n"
            ],
            "text/markdown": [
              "1. 'Maine'\n",
              "2. 'New Hampshire'\n",
              "3. 'Vermont'\n",
              "\n\n"
            ],
            "text/latex": [
              "\\begin{enumerate*}\n",
              "\\item 'Maine'\n",
              "\\item 'New Hampshire'\n",
              "\\item 'Vermont'\n",
              "\\end{enumerate*}\n"
            ],
            "text/plain": [
              "[1] \"Maine\"         \"New Hampshire\" \"Vermont\"      "
            ]
          },
          "metadata": {}
        }
      ],
      "execution_count": 54,
      "metadata": {
        "collapsed": false,
        "outputHidden": false,
        "inputHidden": false
      }
    },
    {
      "cell_type": "markdown",
      "source": [
        "Amount of states below average murder rate:"
      ],
      "metadata": {}
    },
    {
      "cell_type": "code",
      "source": [
        "avg <- mean(murder_rate)\n",
        "sum(murder_rate < avg)"
      ],
      "outputs": [
        {
          "output_type": "display_data",
          "data": {
            "text/html": [
              "27"
            ],
            "text/markdown": [
              "27"
            ],
            "text/latex": [
              "27"
            ],
            "text/plain": [
              "[1] 27"
            ]
          },
          "metadata": {}
        }
      ],
      "execution_count": 53,
      "metadata": {
        "collapsed": false,
        "outputHidden": false,
        "inputHidden": false
      }
    },
    {
      "cell_type": "markdown",
      "source": [
        "Match the given state abbrevations to \"AK\", \"MI\", \"IA\"\n",
        "\n**match()** returns an index of the matched values"
      ],
      "metadata": {}
    },
    {
      "cell_type": "code",
      "source": [
        "abbs <- c(\"AK\", \"MI\", \"IA\")\n",
        "ind <- match(abbs, murders$abb)\n",
        "murders$state[ind]"
      ],
      "outputs": [
        {
          "output_type": "display_data",
          "data": {
            "text/html": [
              "<ol class=list-inline>\n",
              "\t<li>'Alaska'</li>\n",
              "\t<li>'Michigan'</li>\n",
              "\t<li>'Iowa'</li>\n",
              "</ol>\n"
            ],
            "text/markdown": [
              "1. 'Alaska'\n",
              "2. 'Michigan'\n",
              "3. 'Iowa'\n",
              "\n\n"
            ],
            "text/latex": [
              "\\begin{enumerate*}\n",
              "\\item 'Alaska'\n",
              "\\item 'Michigan'\n",
              "\\item 'Iowa'\n",
              "\\end{enumerate*}\n"
            ],
            "text/plain": [
              "[1] \"Alaska\"   \"Michigan\" \"Iowa\"    "
            ]
          },
          "metadata": {}
        }
      ],
      "execution_count": 61,
      "metadata": {
        "collapsed": false,
        "outputHidden": false,
        "inputHidden": false
      }
    },
    {
      "cell_type": "markdown",
      "source": [
        "If rather than an index we want a logical that tells us whether or not each element of a first vector is in we can use the function **%in%**"
      ],
      "metadata": {}
    },
    {
      "cell_type": "code",
      "source": [
        "abbs <- c( \"MA\", \"ME\", \"MI\", \"MO\", \"MU\")\n",
        "abbs %in% murders$abb"
      ],
      "outputs": [
        {
          "output_type": "display_data",
          "data": {
            "text/html": [
              "<ol class=list-inline>\n",
              "\t<li>TRUE</li>\n",
              "\t<li>TRUE</li>\n",
              "\t<li>TRUE</li>\n",
              "\t<li>TRUE</li>\n",
              "\t<li>FALSE</li>\n",
              "</ol>\n"
            ],
            "text/markdown": [
              "1. TRUE\n",
              "2. TRUE\n",
              "3. TRUE\n",
              "4. TRUE\n",
              "5. FALSE\n",
              "\n\n"
            ],
            "text/latex": [
              "\\begin{enumerate*}\n",
              "\\item TRUE\n",
              "\\item TRUE\n",
              "\\item TRUE\n",
              "\\item TRUE\n",
              "\\item FALSE\n",
              "\\end{enumerate*}\n"
            ],
            "text/plain": [
              "[1]  TRUE  TRUE  TRUE  TRUE FALSE"
            ]
          },
          "metadata": {}
        }
      ],
      "execution_count": 66,
      "metadata": {
        "collapsed": false,
        "outputHidden": false,
        "inputHidden": false
      }
    },
    {
      "cell_type": "markdown",
      "source": [
        "**%in%** can be negated with **!** operator and the **which** function.\n",
        "\nWhat are the entries of abbs that are not actual abbreviations:"
      ],
      "metadata": {}
    },
    {
      "cell_type": "code",
      "source": [
        "abbs <- c( \"MA\", \"ME\", \"MI\", \"MO\", \"MU\")\n",
        "ind <- which(!abbs %in% murders$abb)\n",
        "abbs[ind]"
      ],
      "outputs": [
        {
          "output_type": "display_data",
          "data": {
            "text/html": [
              "'MU'"
            ],
            "text/markdown": [
              "'MU'"
            ],
            "text/latex": [
              "'MU'"
            ],
            "text/plain": [
              "[1] \"MU\""
            ]
          },
          "metadata": {}
        }
      ],
      "execution_count": 67,
      "metadata": {
        "collapsed": false,
        "outputHidden": false,
        "inputHidden": false
      }
    },
    {
      "cell_type": "markdown",
      "source": [
        "** The dplyr package, it's functions and basics for wrangling with dataframes **"
      ],
      "metadata": {}
    },
    {
      "cell_type": "code",
      "source": [
        "install.packages(\"dplyr\")\n",
        "library(dplyr)"
      ],
      "outputs": [
        {
          "output_type": "stream",
          "name": "stdout",
          "text": [
            "\n",
            "The downloaded binary packages are in\n",
            "\t/var/folders/k6/13d6jq7x6_56s4sps69r7c2w0000gn/T//RtmpSZ65Qq/downloaded_packages\n"
          ]
        }
      ],
      "execution_count": 80,
      "metadata": {
        "collapsed": false,
        "outputHidden": true,
        "inputHidden": false
      }
    },
    {
      "cell_type": "markdown",
      "source": [
        "**mutate(), select(), filter() and pipe: %>%**"
      ],
      "metadata": {}
    },
    {
      "cell_type": "markdown",
      "source": [
        "Use mutate to add new variables to a dataframe"
      ],
      "metadata": {}
    },
    {
      "cell_type": "code",
      "source": [
        "# Note that if you want ranks from highest to lowest you can \n",
        "# take the negative and then compute the ranks \n",
        "rate <-  murders$total/ murders$population * 100000\n",
        "murders <- mutate(murders, rank = rank(-rate))\n",
        "head(murders)"
      ],
      "outputs": [
        {
          "output_type": "display_data",
          "data": {
            "text/html": [
              "<table>\n",
              "<thead><tr><th scope=col>state</th><th scope=col>abb</th><th scope=col>region</th><th scope=col>population</th><th scope=col>total</th><th scope=col>rank</th></tr></thead>\n",
              "<tbody>\n",
              "\t<tr><td>Alabama   </td><td>AL        </td><td>South     </td><td> 4779736  </td><td> 135      </td><td>23        </td></tr>\n",
              "\t<tr><td>Alaska    </td><td>AK        </td><td>West      </td><td>  710231  </td><td>  19      </td><td>27        </td></tr>\n",
              "\t<tr><td>Arizona   </td><td>AZ        </td><td>West      </td><td> 6392017  </td><td> 232      </td><td>10        </td></tr>\n",
              "\t<tr><td>Arkansas  </td><td>AR        </td><td>South     </td><td> 2915918  </td><td>  93      </td><td>17        </td></tr>\n",
              "\t<tr><td>California</td><td>CA        </td><td>West      </td><td>37253956  </td><td>1257      </td><td>14        </td></tr>\n",
              "\t<tr><td>Colorado  </td><td>CO        </td><td>West      </td><td> 5029196  </td><td>  65      </td><td>38        </td></tr>\n",
              "</tbody>\n",
              "</table>\n"
            ],
            "text/markdown": [
              "\n",
              "state | abb | region | population | total | rank | \n",
              "|---|---|---|---|---|---|\n",
              "| Alabama    | AL         | South      |  4779736   |  135       | 23         | \n",
              "| Alaska     | AK         | West       |   710231   |   19       | 27         | \n",
              "| Arizona    | AZ         | West       |  6392017   |  232       | 10         | \n",
              "| Arkansas   | AR         | South      |  2915918   |   93       | 17         | \n",
              "| California | CA         | West       | 37253956   | 1257       | 14         | \n",
              "| Colorado   | CO         | West       |  5029196   |   65       | 38         | \n",
              "\n\n"
            ],
            "text/latex": [
              "\\begin{tabular}{r|llllll}\n",
              " state & abb & region & population & total & rank\\\\\n",
              "\\hline\n",
              "\t Alabama    & AL         & South      &  4779736   &  135       & 23        \\\\\n",
              "\t Alaska     & AK         & West       &   710231   &   19       & 27        \\\\\n",
              "\t Arizona    & AZ         & West       &  6392017   &  232       & 10        \\\\\n",
              "\t Arkansas   & AR         & South      &  2915918   &   93       & 17        \\\\\n",
              "\t California & CA         & West       & 37253956   & 1257       & 14        \\\\\n",
              "\t Colorado   & CO         & West       &  5029196   &   65       & 38        \\\\\n",
              "\\end{tabular}\n"
            ],
            "text/plain": [
              "  state      abb region population total rank\n",
              "1 Alabama    AL  South   4779736    135  23  \n",
              "2 Alaska     AK  West     710231     19  27  \n",
              "3 Arizona    AZ  West    6392017    232  10  \n",
              "4 Arkansas   AR  South   2915918     93  17  \n",
              "5 California CA  West   37253956   1257  14  \n",
              "6 Colorado   CO  West    5029196     65  38  "
            ]
          },
          "metadata": {}
        }
      ],
      "execution_count": 76,
      "metadata": {
        "collapsed": false,
        "outputHidden": false,
        "inputHidden": false
      }
    },
    {
      "cell_type": "markdown",
      "source": [
        "Use select to only show state names and abbreviations from murders"
      ],
      "metadata": {}
    },
    {
      "cell_type": "code",
      "source": [
        "selected <- select(murders, state, abb)\n",
        "head(selected)"
      ],
      "outputs": [
        {
          "output_type": "display_data",
          "data": {
            "text/html": [
              "<table>\n",
              "<thead><tr><th scope=col>state</th><th scope=col>abb</th></tr></thead>\n",
              "<tbody>\n",
              "\t<tr><td>Alabama   </td><td>AL        </td></tr>\n",
              "\t<tr><td>Alaska    </td><td>AK        </td></tr>\n",
              "\t<tr><td>Arizona   </td><td>AZ        </td></tr>\n",
              "\t<tr><td>Arkansas  </td><td>AR        </td></tr>\n",
              "\t<tr><td>California</td><td>CA        </td></tr>\n",
              "\t<tr><td>Colorado  </td><td>CO        </td></tr>\n",
              "</tbody>\n",
              "</table>\n"
            ],
            "text/markdown": [
              "\n",
              "state | abb | \n",
              "|---|---|---|---|---|---|\n",
              "| Alabama    | AL         | \n",
              "| Alaska     | AK         | \n",
              "| Arizona    | AZ         | \n",
              "| Arkansas   | AR         | \n",
              "| California | CA         | \n",
              "| Colorado   | CO         | \n",
              "\n\n"
            ],
            "text/latex": [
              "\\begin{tabular}{r|ll}\n",
              " state & abb\\\\\n",
              "\\hline\n",
              "\t Alabama    & AL        \\\\\n",
              "\t Alaska     & AK        \\\\\n",
              "\t Arizona    & AZ        \\\\\n",
              "\t Arkansas   & AR        \\\\\n",
              "\t California & CA        \\\\\n",
              "\t Colorado   & CO        \\\\\n",
              "\\end{tabular}\n"
            ],
            "text/plain": [
              "  state      abb\n",
              "1 Alabama    AL \n",
              "2 Alaska     AK \n",
              "3 Arizona    AZ \n",
              "4 Arkansas   AR \n",
              "5 California CA \n",
              "6 Colorado   CO "
            ]
          },
          "metadata": {}
        }
      ],
      "execution_count": 79,
      "metadata": {
        "collapsed": false,
        "outputHidden": false,
        "inputHidden": false
      }
    },
    {
      "cell_type": "markdown",
      "source": [
        "**filter()** is used to choose specific rows of the data frame to keep. Unlike **select()** which is for columns, **filter()** is for rows.\n",
        "\n**filter()** creates a new data.frame (or table)"
      ],
      "metadata": {}
    },
    {
      "cell_type": "code",
      "source": [
        "filter(murders, rank < 6)\n"
      ],
      "outputs": [
        {
          "output_type": "display_data",
          "data": {
            "text/html": [
              "<table>\n",
              "<thead><tr><th scope=col>state</th><th scope=col>abb</th><th scope=col>region</th><th scope=col>population</th><th scope=col>total</th><th scope=col>rank</th></tr></thead>\n",
              "<tbody>\n",
              "\t<tr><td>District of Columbia</td><td>DC                  </td><td>South               </td><td> 601723             </td><td> 99                 </td><td>1                   </td></tr>\n",
              "\t<tr><td>Louisiana           </td><td>LA                  </td><td>South               </td><td>4533372             </td><td>351                 </td><td>2                   </td></tr>\n",
              "\t<tr><td>Maryland            </td><td>MD                  </td><td>South               </td><td>5773552             </td><td>293                 </td><td>4                   </td></tr>\n",
              "\t<tr><td>Missouri            </td><td>MO                  </td><td>North Central       </td><td>5988927             </td><td>321                 </td><td>3                   </td></tr>\n",
              "\t<tr><td>South Carolina      </td><td>SC                  </td><td>South               </td><td>4625364             </td><td>207                 </td><td>5                   </td></tr>\n",
              "</tbody>\n",
              "</table>\n"
            ],
            "text/markdown": [
              "\n",
              "state | abb | region | population | total | rank | \n",
              "|---|---|---|---|---|\n",
              "| District of Columbia | DC                   | South                |  601723              |  99                  | 1                    | \n",
              "| Louisiana            | LA                   | South                | 4533372              | 351                  | 2                    | \n",
              "| Maryland             | MD                   | South                | 5773552              | 293                  | 4                    | \n",
              "| Missouri             | MO                   | North Central        | 5988927              | 321                  | 3                    | \n",
              "| South Carolina       | SC                   | South                | 4625364              | 207                  | 5                    | \n",
              "\n\n"
            ],
            "text/latex": [
              "\\begin{tabular}{r|llllll}\n",
              " state & abb & region & population & total & rank\\\\\n",
              "\\hline\n",
              "\t District of Columbia & DC                   & South                &  601723              &  99                  & 1                   \\\\\n",
              "\t Louisiana            & LA                   & South                & 4533372              & 351                  & 2                   \\\\\n",
              "\t Maryland             & MD                   & South                & 5773552              & 293                  & 4                   \\\\\n",
              "\t Missouri             & MO                   & North Central        & 5988927              & 321                  & 3                   \\\\\n",
              "\t South Carolina       & SC                   & South                & 4625364              & 207                  & 5                   \\\\\n",
              "\\end{tabular}\n"
            ],
            "text/plain": [
              "  state                abb region        population total rank\n",
              "1 District of Columbia DC  South          601723     99   1   \n",
              "2 Louisiana            LA  South         4533372    351   2   \n",
              "3 Maryland             MD  South         5773552    293   4   \n",
              "4 Missouri             MO  North Central 5988927    321   3   \n",
              "5 South Carolina       SC  South         4625364    207   5   "
            ]
          },
          "metadata": {}
        }
      ],
      "execution_count": 95,
      "metadata": {
        "collapsed": false,
        "outputHidden": false,
        "inputHidden": false
      }
    },
    {
      "cell_type": "code",
      "source": [
        "filter(murders, total > 300)"
      ],
      "outputs": [
        {
          "output_type": "display_data",
          "data": {
            "text/html": [
              "<table>\n",
              "<thead><tr><th scope=col>state</th><th scope=col>abb</th><th scope=col>region</th><th scope=col>population</th><th scope=col>total</th><th scope=col>rank</th></tr></thead>\n",
              "<tbody>\n",
              "\t<tr><td>California   </td><td>CA           </td><td>West         </td><td>37253956     </td><td>1257         </td><td>14           </td></tr>\n",
              "\t<tr><td>Florida      </td><td>FL           </td><td>South        </td><td>19687653     </td><td> 669         </td><td>13           </td></tr>\n",
              "\t<tr><td>Georgia      </td><td>GA           </td><td>South        </td><td> 9920000     </td><td> 376         </td><td> 9           </td></tr>\n",
              "\t<tr><td>Illinois     </td><td>IL           </td><td>North Central</td><td>12830632     </td><td> 364         </td><td>22           </td></tr>\n",
              "\t<tr><td>Louisiana    </td><td>LA           </td><td>South        </td><td> 4533372     </td><td> 351         </td><td> 2           </td></tr>\n",
              "\t<tr><td>Michigan     </td><td>MI           </td><td>North Central</td><td> 9883640     </td><td> 413         </td><td> 7           </td></tr>\n",
              "\t<tr><td>Missouri     </td><td>MO           </td><td>North Central</td><td> 5988927     </td><td> 321         </td><td> 3           </td></tr>\n",
              "\t<tr><td>New York     </td><td>NY           </td><td>Northeast    </td><td>19378102     </td><td> 517         </td><td>29           </td></tr>\n",
              "\t<tr><td>Ohio         </td><td>OH           </td><td>North Central</td><td>11536504     </td><td> 310         </td><td>26           </td></tr>\n",
              "\t<tr><td>Pennsylvania </td><td>PA           </td><td>Northeast    </td><td>12702379     </td><td> 457         </td><td>11           </td></tr>\n",
              "\t<tr><td>Texas        </td><td>TX           </td><td>South        </td><td>25145561     </td><td> 805         </td><td>16           </td></tr>\n",
              "</tbody>\n",
              "</table>\n"
            ],
            "text/markdown": [
              "\n",
              "state | abb | region | population | total | rank | \n",
              "|---|---|---|---|---|---|---|---|---|---|---|\n",
              "| California    | CA            | West          | 37253956      | 1257          | 14            | \n",
              "| Florida       | FL            | South         | 19687653      |  669          | 13            | \n",
              "| Georgia       | GA            | South         |  9920000      |  376          |  9            | \n",
              "| Illinois      | IL            | North Central | 12830632      |  364          | 22            | \n",
              "| Louisiana     | LA            | South         |  4533372      |  351          |  2            | \n",
              "| Michigan      | MI            | North Central |  9883640      |  413          |  7            | \n",
              "| Missouri      | MO            | North Central |  5988927      |  321          |  3            | \n",
              "| New York      | NY            | Northeast     | 19378102      |  517          | 29            | \n",
              "| Ohio          | OH            | North Central | 11536504      |  310          | 26            | \n",
              "| Pennsylvania  | PA            | Northeast     | 12702379      |  457          | 11            | \n",
              "| Texas         | TX            | South         | 25145561      |  805          | 16            | \n",
              "\n\n"
            ],
            "text/latex": [
              "\\begin{tabular}{r|llllll}\n",
              " state & abb & region & population & total & rank\\\\\n",
              "\\hline\n",
              "\t California    & CA            & West          & 37253956      & 1257          & 14           \\\\\n",
              "\t Florida       & FL            & South         & 19687653      &  669          & 13           \\\\\n",
              "\t Georgia       & GA            & South         &  9920000      &  376          &  9           \\\\\n",
              "\t Illinois      & IL            & North Central & 12830632      &  364          & 22           \\\\\n",
              "\t Louisiana     & LA            & South         &  4533372      &  351          &  2           \\\\\n",
              "\t Michigan      & MI            & North Central &  9883640      &  413          &  7           \\\\\n",
              "\t Missouri      & MO            & North Central &  5988927      &  321          &  3           \\\\\n",
              "\t New York      & NY            & Northeast     & 19378102      &  517          & 29           \\\\\n",
              "\t Ohio          & OH            & North Central & 11536504      &  310          & 26           \\\\\n",
              "\t Pennsylvania  & PA            & Northeast     & 12702379      &  457          & 11           \\\\\n",
              "\t Texas         & TX            & South         & 25145561      &  805          & 16           \\\\\n",
              "\\end{tabular}\n"
            ],
            "text/plain": [
              "   state        abb region        population total rank\n",
              "1  California   CA  West          37253956   1257  14  \n",
              "2  Florida      FL  South         19687653    669  13  \n",
              "3  Georgia      GA  South          9920000    376   9  \n",
              "4  Illinois     IL  North Central 12830632    364  22  \n",
              "5  Louisiana    LA  South          4533372    351   2  \n",
              "6  Michigan     MI  North Central  9883640    413   7  \n",
              "7  Missouri     MO  North Central  5988927    321   3  \n",
              "8  New York     NY  Northeast     19378102    517  29  \n",
              "9  Ohio         OH  North Central 11536504    310  26  \n",
              "10 Pennsylvania PA  Northeast     12702379    457  11  \n",
              "11 Texas        TX  South         25145561    805  16  "
            ]
          },
          "metadata": {}
        }
      ],
      "execution_count": 82,
      "metadata": {
        "collapsed": false,
        "outputHidden": false,
        "inputHidden": false
      }
    },
    {
      "cell_type": "markdown",
      "source": [
        "Use nrow() to calculate the number of rows"
      ],
      "metadata": {}
    },
    {
      "cell_type": "code",
      "source": [
        "no_south <- filter(murders, region != \"South\")\n",
        "nrow(no_south)\n",
        "head(no_south)\n"
      ],
      "outputs": [
        {
          "output_type": "display_data",
          "data": {
            "text/html": [
              "34"
            ],
            "text/markdown": [
              "34"
            ],
            "text/latex": [
              "34"
            ],
            "text/plain": [
              "[1] 34"
            ]
          },
          "metadata": {}
        },
        {
          "output_type": "display_data",
          "data": {
            "text/html": [
              "<table>\n",
              "<thead><tr><th scope=col>state</th><th scope=col>abb</th><th scope=col>region</th><th scope=col>population</th><th scope=col>total</th><th scope=col>rank</th></tr></thead>\n",
              "<tbody>\n",
              "\t<tr><td>Alaska     </td><td>AK         </td><td>West       </td><td>  710231   </td><td>  19       </td><td>27         </td></tr>\n",
              "\t<tr><td>Arizona    </td><td>AZ         </td><td>West       </td><td> 6392017   </td><td> 232       </td><td>10         </td></tr>\n",
              "\t<tr><td>California </td><td>CA         </td><td>West       </td><td>37253956   </td><td>1257       </td><td>14         </td></tr>\n",
              "\t<tr><td>Colorado   </td><td>CO         </td><td>West       </td><td> 5029196   </td><td>  65       </td><td>38         </td></tr>\n",
              "\t<tr><td>Connecticut</td><td>CT         </td><td>Northeast  </td><td> 3574097   </td><td>  97       </td><td>25         </td></tr>\n",
              "\t<tr><td>Hawaii     </td><td>HI         </td><td>West       </td><td> 1360301   </td><td>   7       </td><td>49         </td></tr>\n",
              "</tbody>\n",
              "</table>\n"
            ],
            "text/markdown": [
              "\n",
              "state | abb | region | population | total | rank | \n",
              "|---|---|---|---|---|---|\n",
              "| Alaska      | AK          | West        |   710231    |   19        | 27          | \n",
              "| Arizona     | AZ          | West        |  6392017    |  232        | 10          | \n",
              "| California  | CA          | West        | 37253956    | 1257        | 14          | \n",
              "| Colorado    | CO          | West        |  5029196    |   65        | 38          | \n",
              "| Connecticut | CT          | Northeast   |  3574097    |   97        | 25          | \n",
              "| Hawaii      | HI          | West        |  1360301    |    7        | 49          | \n",
              "\n\n"
            ],
            "text/latex": [
              "\\begin{tabular}{r|llllll}\n",
              " state & abb & region & population & total & rank\\\\\n",
              "\\hline\n",
              "\t Alaska      & AK          & West        &   710231    &   19        & 27         \\\\\n",
              "\t Arizona     & AZ          & West        &  6392017    &  232        & 10         \\\\\n",
              "\t California  & CA          & West        & 37253956    & 1257        & 14         \\\\\n",
              "\t Colorado    & CO          & West        &  5029196    &   65        & 38         \\\\\n",
              "\t Connecticut & CT          & Northeast   &  3574097    &   97        & 25         \\\\\n",
              "\t Hawaii      & HI          & West        &  1360301    &    7        & 49         \\\\\n",
              "\\end{tabular}\n"
            ],
            "text/plain": [
              "  state       abb region    population total rank\n",
              "1 Alaska      AK  West        710231     19  27  \n",
              "2 Arizona     AZ  West       6392017    232  10  \n",
              "3 California  CA  West      37253956   1257  14  \n",
              "4 Colorado    CO  West       5029196     65  38  \n",
              "5 Connecticut CT  Northeast  3574097     97  25  \n",
              "6 Hawaii      HI  West       1360301      7  49  "
            ]
          },
          "metadata": {}
        }
      ],
      "execution_count": 88,
      "metadata": {
        "collapsed": false,
        "outputHidden": false,
        "inputHidden": false
      }
    },
    {
      "cell_type": "markdown",
      "source": [
        "Only show murders in the Northeast and West using the **%in%** function"
      ],
      "metadata": {}
    },
    {
      "cell_type": "code",
      "source": [
        "murders_nw <- filter(murders, region %in% c(\"West\", \"Northeast\"))\n",
        "head(murders_nw)"
      ],
      "outputs": [
        {
          "output_type": "display_data",
          "data": {
            "text/html": [
              "<table>\n",
              "<thead><tr><th scope=col>state</th><th scope=col>abb</th><th scope=col>region</th><th scope=col>population</th><th scope=col>total</th><th scope=col>rank</th></tr></thead>\n",
              "<tbody>\n",
              "\t<tr><td>Alaska     </td><td>AK         </td><td>West       </td><td>  710231   </td><td>  19       </td><td>27         </td></tr>\n",
              "\t<tr><td>Arizona    </td><td>AZ         </td><td>West       </td><td> 6392017   </td><td> 232       </td><td>10         </td></tr>\n",
              "\t<tr><td>California </td><td>CA         </td><td>West       </td><td>37253956   </td><td>1257       </td><td>14         </td></tr>\n",
              "\t<tr><td>Colorado   </td><td>CO         </td><td>West       </td><td> 5029196   </td><td>  65       </td><td>38         </td></tr>\n",
              "\t<tr><td>Connecticut</td><td>CT         </td><td>Northeast  </td><td> 3574097   </td><td>  97       </td><td>25         </td></tr>\n",
              "\t<tr><td>Hawaii     </td><td>HI         </td><td>West       </td><td> 1360301   </td><td>   7       </td><td>49         </td></tr>\n",
              "</tbody>\n",
              "</table>\n"
            ],
            "text/markdown": [
              "\n",
              "state | abb | region | population | total | rank | \n",
              "|---|---|---|---|---|---|\n",
              "| Alaska      | AK          | West        |   710231    |   19        | 27          | \n",
              "| Arizona     | AZ          | West        |  6392017    |  232        | 10          | \n",
              "| California  | CA          | West        | 37253956    | 1257        | 14          | \n",
              "| Colorado    | CO          | West        |  5029196    |   65        | 38          | \n",
              "| Connecticut | CT          | Northeast   |  3574097    |   97        | 25          | \n",
              "| Hawaii      | HI          | West        |  1360301    |    7        | 49          | \n",
              "\n\n"
            ],
            "text/latex": [
              "\\begin{tabular}{r|llllll}\n",
              " state & abb & region & population & total & rank\\\\\n",
              "\\hline\n",
              "\t Alaska      & AK          & West        &   710231    &   19        & 27         \\\\\n",
              "\t Arizona     & AZ          & West        &  6392017    &  232        & 10         \\\\\n",
              "\t California  & CA          & West        & 37253956    & 1257        & 14         \\\\\n",
              "\t Colorado    & CO          & West        &  5029196    &   65        & 38         \\\\\n",
              "\t Connecticut & CT          & Northeast   &  3574097    &   97        & 25         \\\\\n",
              "\t Hawaii      & HI          & West        &  1360301    &    7        & 49         \\\\\n",
              "\\end{tabular}\n"
            ],
            "text/plain": [
              "  state       abb region    population total rank\n",
              "1 Alaska      AK  West        710231     19  27  \n",
              "2 Arizona     AZ  West       6392017    232  10  \n",
              "3 California  CA  West      37253956   1257  14  \n",
              "4 Colorado    CO  West       5029196     65  38  \n",
              "5 Connecticut CT  Northeast  3574097     97  25  \n",
              "6 Hawaii      HI  West       1360301      7  49  "
            ]
          },
          "metadata": {}
        }
      ],
      "execution_count": 90,
      "metadata": {
        "collapsed": false,
        "outputHidden": false,
        "inputHidden": false
      }
    },
    {
      "cell_type": "markdown",
      "source": [
        "General: Notice how we can implicitly use variables from a dataframe in operating functions like **filter()** and **select()**.\n",
        "\nfilter(murders, **region** != \"South\")"
      ],
      "metadata": {}
    },
    {
      "cell_type": "markdown",
      "source": [
        "Combined example using **mutate(), select() and filter()**\n",
        "\n_Notice how we use a logical operator to filter by two conditions._"
      ],
      "metadata": {}
    },
    {
      "cell_type": "code",
      "source": [
        "murders <- mutate(murders, rate =  total / population * 100000, rank = rank(-rate))\n",
        "my_states <- filter(murders, region %in% c(\"West\", \"Northeast\") & rate < 1)\n",
        "select(my_states, state, rate, rank)"
      ],
      "outputs": [
        {
          "output_type": "display_data",
          "data": {
            "text/html": [
              "<table>\n",
              "<thead><tr><th scope=col>state</th><th scope=col>rate</th><th scope=col>rank</th></tr></thead>\n",
              "<tbody>\n",
              "\t<tr><td>Hawaii       </td><td>0.5145920    </td><td>49           </td></tr>\n",
              "\t<tr><td>Idaho        </td><td>0.7655102    </td><td>46           </td></tr>\n",
              "\t<tr><td>Maine        </td><td>0.8280881    </td><td>44           </td></tr>\n",
              "\t<tr><td>New Hampshire</td><td>0.3798036    </td><td>50           </td></tr>\n",
              "\t<tr><td>Oregon       </td><td>0.9396843    </td><td>42           </td></tr>\n",
              "\t<tr><td>Utah         </td><td>0.7959810    </td><td>45           </td></tr>\n",
              "\t<tr><td>Vermont      </td><td>0.3196211    </td><td>51           </td></tr>\n",
              "\t<tr><td>Wyoming      </td><td>0.8871131    </td><td>43           </td></tr>\n",
              "</tbody>\n",
              "</table>\n"
            ],
            "text/markdown": [
              "\n",
              "state | rate | rank | \n",
              "|---|---|---|---|---|---|---|---|\n",
              "| Hawaii        | 0.5145920     | 49            | \n",
              "| Idaho         | 0.7655102     | 46            | \n",
              "| Maine         | 0.8280881     | 44            | \n",
              "| New Hampshire | 0.3798036     | 50            | \n",
              "| Oregon        | 0.9396843     | 42            | \n",
              "| Utah          | 0.7959810     | 45            | \n",
              "| Vermont       | 0.3196211     | 51            | \n",
              "| Wyoming       | 0.8871131     | 43            | \n",
              "\n\n"
            ],
            "text/latex": [
              "\\begin{tabular}{r|lll}\n",
              " state & rate & rank\\\\\n",
              "\\hline\n",
              "\t Hawaii        & 0.5145920     & 49           \\\\\n",
              "\t Idaho         & 0.7655102     & 46           \\\\\n",
              "\t Maine         & 0.8280881     & 44           \\\\\n",
              "\t New Hampshire & 0.3798036     & 50           \\\\\n",
              "\t Oregon        & 0.9396843     & 42           \\\\\n",
              "\t Utah          & 0.7959810     & 45           \\\\\n",
              "\t Vermont       & 0.3196211     & 51           \\\\\n",
              "\t Wyoming       & 0.8871131     & 43           \\\\\n",
              "\\end{tabular}\n"
            ],
            "text/plain": [
              "  state         rate      rank\n",
              "1 Hawaii        0.5145920 49  \n",
              "2 Idaho         0.7655102 46  \n",
              "3 Maine         0.8280881 44  \n",
              "4 New Hampshire 0.3798036 50  \n",
              "5 Oregon        0.9396843 42  \n",
              "6 Utah          0.7959810 45  \n",
              "7 Vermont       0.3196211 51  \n",
              "8 Wyoming       0.8871131 43  "
            ]
          },
          "metadata": {}
        }
      ],
      "execution_count": 96,
      "metadata": {
        "collapsed": false,
        "outputHidden": false,
        "inputHidden": false
      }
    },
    {
      "cell_type": "code",
      "source": [
        "highest_nw_states <- filter(murders, region %in% c(\"West\", \"Northeast\") & rate > 1)\n",
        "select(highest_nw_states, state, rate, rank)"
      ],
      "outputs": [
        {
          "output_type": "display_data",
          "data": {
            "text/html": [
              "<table>\n",
              "<thead><tr><th scope=col>state</th><th scope=col>rate</th><th scope=col>rank</th></tr></thead>\n",
              "<tbody>\n",
              "\t<tr><td>Alaska       </td><td>2.675186     </td><td>27           </td></tr>\n",
              "\t<tr><td>Arizona      </td><td>3.629527     </td><td>10           </td></tr>\n",
              "\t<tr><td>California   </td><td>3.374138     </td><td>14           </td></tr>\n",
              "\t<tr><td>Colorado     </td><td>1.292453     </td><td>38           </td></tr>\n",
              "\t<tr><td>Connecticut  </td><td>2.713972     </td><td>25           </td></tr>\n",
              "\t<tr><td>Massachusetts</td><td>1.802179     </td><td>32           </td></tr>\n",
              "\t<tr><td>Montana      </td><td>1.212838     </td><td>39           </td></tr>\n",
              "\t<tr><td>Nevada       </td><td>3.110476     </td><td>19           </td></tr>\n",
              "\t<tr><td>New Jersey   </td><td>2.798032     </td><td>24           </td></tr>\n",
              "\t<tr><td>New Mexico   </td><td>3.253724     </td><td>15           </td></tr>\n",
              "\t<tr><td>New York     </td><td>2.667960     </td><td>29           </td></tr>\n",
              "\t<tr><td>Pennsylvania </td><td>3.597751     </td><td>11           </td></tr>\n",
              "\t<tr><td>Rhode Island </td><td>1.520093     </td><td>35           </td></tr>\n",
              "\t<tr><td>Washington   </td><td>1.382994     </td><td>37           </td></tr>\n",
              "</tbody>\n",
              "</table>\n"
            ],
            "text/markdown": [
              "\n",
              "state | rate | rank | \n",
              "|---|---|---|---|---|---|---|---|---|---|---|---|---|---|\n",
              "| Alaska        | 2.675186      | 27            | \n",
              "| Arizona       | 3.629527      | 10            | \n",
              "| California    | 3.374138      | 14            | \n",
              "| Colorado      | 1.292453      | 38            | \n",
              "| Connecticut   | 2.713972      | 25            | \n",
              "| Massachusetts | 1.802179      | 32            | \n",
              "| Montana       | 1.212838      | 39            | \n",
              "| Nevada        | 3.110476      | 19            | \n",
              "| New Jersey    | 2.798032      | 24            | \n",
              "| New Mexico    | 3.253724      | 15            | \n",
              "| New York      | 2.667960      | 29            | \n",
              "| Pennsylvania  | 3.597751      | 11            | \n",
              "| Rhode Island  | 1.520093      | 35            | \n",
              "| Washington    | 1.382994      | 37            | \n",
              "\n\n"
            ],
            "text/latex": [
              "\\begin{tabular}{r|lll}\n",
              " state & rate & rank\\\\\n",
              "\\hline\n",
              "\t Alaska        & 2.675186      & 27           \\\\\n",
              "\t Arizona       & 3.629527      & 10           \\\\\n",
              "\t California    & 3.374138      & 14           \\\\\n",
              "\t Colorado      & 1.292453      & 38           \\\\\n",
              "\t Connecticut   & 2.713972      & 25           \\\\\n",
              "\t Massachusetts & 1.802179      & 32           \\\\\n",
              "\t Montana       & 1.212838      & 39           \\\\\n",
              "\t Nevada        & 3.110476      & 19           \\\\\n",
              "\t New Jersey    & 2.798032      & 24           \\\\\n",
              "\t New Mexico    & 3.253724      & 15           \\\\\n",
              "\t New York      & 2.667960      & 29           \\\\\n",
              "\t Pennsylvania  & 3.597751      & 11           \\\\\n",
              "\t Rhode Island  & 1.520093      & 35           \\\\\n",
              "\t Washington    & 1.382994      & 37           \\\\\n",
              "\\end{tabular}\n"
            ],
            "text/plain": [
              "   state         rate     rank\n",
              "1  Alaska        2.675186 27  \n",
              "2  Arizona       3.629527 10  \n",
              "3  California    3.374138 14  \n",
              "4  Colorado      1.292453 38  \n",
              "5  Connecticut   2.713972 25  \n",
              "6  Massachusetts 1.802179 32  \n",
              "7  Montana       1.212838 39  \n",
              "8  Nevada        3.110476 19  \n",
              "9  New Jersey    2.798032 24  \n",
              "10 New Mexico    3.253724 15  \n",
              "11 New York      2.667960 29  \n",
              "12 Pennsylvania  3.597751 11  \n",
              "13 Rhode Island  1.520093 35  \n",
              "14 Washington    1.382994 37  "
            ]
          },
          "metadata": {}
        }
      ],
      "execution_count": 99,
      "metadata": {
        "collapsed": false,
        "outputHidden": false,
        "inputHidden": false
      }
    },
    {
      "cell_type": "markdown",
      "source": [
        "The pipe %>% can be used to perform operations sequentially without having to define intermediate objects."
      ],
      "metadata": {}
    },
    {
      "cell_type": "code",
      "source": [
        "murders %>% \n",
        "filter(region %in% c(\"South\", \"West\") & rate < 1) %>%\n",
        "select(state, rate, rank)"
      ],
      "outputs": [
        {
          "output_type": "display_data",
          "data": {
            "text/html": [
              "<table>\n",
              "<thead><tr><th scope=col>state</th><th scope=col>rate</th><th scope=col>rank</th></tr></thead>\n",
              "<tbody>\n",
              "\t<tr><td>Hawaii   </td><td>0.5145920</td><td>49       </td></tr>\n",
              "\t<tr><td>Idaho    </td><td>0.7655102</td><td>46       </td></tr>\n",
              "\t<tr><td>Oregon   </td><td>0.9396843</td><td>42       </td></tr>\n",
              "\t<tr><td>Utah     </td><td>0.7959810</td><td>45       </td></tr>\n",
              "\t<tr><td>Wyoming  </td><td>0.8871131</td><td>43       </td></tr>\n",
              "</tbody>\n",
              "</table>\n"
            ],
            "text/markdown": [
              "\n",
              "state | rate | rank | \n",
              "|---|---|---|---|---|\n",
              "| Hawaii    | 0.5145920 | 49        | \n",
              "| Idaho     | 0.7655102 | 46        | \n",
              "| Oregon    | 0.9396843 | 42        | \n",
              "| Utah      | 0.7959810 | 45        | \n",
              "| Wyoming   | 0.8871131 | 43        | \n",
              "\n\n"
            ],
            "text/latex": [
              "\\begin{tabular}{r|lll}\n",
              " state & rate & rank\\\\\n",
              "\\hline\n",
              "\t Hawaii    & 0.5145920 & 49       \\\\\n",
              "\t Idaho     & 0.7655102 & 46       \\\\\n",
              "\t Oregon    & 0.9396843 & 42       \\\\\n",
              "\t Utah      & 0.7959810 & 45       \\\\\n",
              "\t Wyoming   & 0.8871131 & 43       \\\\\n",
              "\\end{tabular}\n"
            ],
            "text/plain": [
              "  state   rate      rank\n",
              "1 Hawaii  0.5145920 49  \n",
              "2 Idaho   0.7655102 46  \n",
              "3 Oregon  0.9396843 42  \n",
              "4 Utah    0.7959810 45  \n",
              "5 Wyoming 0.8871131 43  "
            ]
          },
          "metadata": {}
        }
      ],
      "execution_count": 103,
      "metadata": {
        "collapsed": false,
        "outputHidden": false,
        "inputHidden": false
      }
    },
    {
      "cell_type": "markdown",
      "source": [
        "Other logical functions\n",
        "\n**all(), any()**"
      ],
      "metadata": {}
    },
    {
      "cell_type": "code",
      "source": [
        "any(c(TRUE, TRUE, TRUE))"
      ],
      "outputs": [
        {
          "output_type": "display_data",
          "data": {
            "text/html": [
              "TRUE"
            ],
            "text/markdown": [
              "TRUE"
            ],
            "text/latex": [
              "TRUE"
            ],
            "text/plain": [
              "[1] TRUE"
            ]
          },
          "metadata": {}
        }
      ],
      "execution_count": 117,
      "metadata": {
        "collapsed": false,
        "outputHidden": false,
        "inputHidden": false
      }
    },
    {
      "cell_type": "code",
      "source": [
        "!any(TRUE, TRUE, TRUE)"
      ],
      "outputs": [
        {
          "output_type": "display_data",
          "data": {
            "text/html": [
              "FALSE"
            ],
            "text/markdown": [
              "FALSE"
            ],
            "text/latex": [
              "FALSE"
            ],
            "text/plain": [
              "[1] FALSE"
            ]
          },
          "metadata": {}
        }
      ],
      "execution_count": 118,
      "metadata": {
        "collapsed": false,
        "outputHidden": false,
        "inputHidden": false
      }
    },
    {
      "cell_type": "code",
      "source": [
        "all(c(TRUE, TRUE, TRUE))"
      ],
      "outputs": [
        {
          "output_type": "display_data",
          "data": {
            "text/html": [
              "TRUE"
            ],
            "text/markdown": [
              "TRUE"
            ],
            "text/latex": [
              "TRUE"
            ],
            "text/plain": [
              "[1] TRUE"
            ]
          },
          "metadata": {}
        }
      ],
      "execution_count": 119,
      "metadata": {
        "collapsed": false,
        "outputHidden": false,
        "inputHidden": false
      }
    },
    {
      "cell_type": "code",
      "source": [
        "!all(c(TRUE, TRUE, TRUE))"
      ],
      "outputs": [
        {
          "output_type": "display_data",
          "data": {
            "text/html": [
              "FALSE"
            ],
            "text/markdown": [
              "FALSE"
            ],
            "text/latex": [
              "FALSE"
            ],
            "text/plain": [
              "[1] FALSE"
            ]
          },
          "metadata": {}
        }
      ],
      "execution_count": 120,
      "metadata": {
        "collapsed": false,
        "outputHidden": false,
        "inputHidden": false
      }
    },
    {
      "cell_type": "markdown",
      "source": [
        "---\n",
        "\n### Arithmetics"
      ],
      "metadata": {}
    },
    {
      "cell_type": "markdown",
      "source": [
        "Valuable mathematical functions include **sum(), seq(), sqrt(), log(), exp()**\n",
        "\n",
        "To create sum of values use **sum()**, to create a sequence use **seq()** or **< : > operator **\n",
        "which creates both a vector of numbers"
      ],
      "metadata": {
        "collapsed": false,
        "outputHidden": false,
        "inputHidden": false
      }
    },
    {
      "cell_type": "code",
      "source": [
        "sum(1:10)"
      ],
      "outputs": [
        {
          "output_type": "display_data",
          "data": {
            "text/html": [
              "55"
            ],
            "text/markdown": [
              "55"
            ],
            "text/latex": [
              "55"
            ],
            "text/plain": [
              "[1] 55"
            ]
          },
          "metadata": {}
        }
      ],
      "execution_count": 45,
      "metadata": {
        "collapsed": false,
        "outputHidden": false,
        "inputHidden": false
      }
    },
    {
      "cell_type": "code",
      "source": [
        "head(1:20)"
      ],
      "outputs": [
        {
          "output_type": "display_data",
          "data": {
            "text/html": [
              "<ol class=list-inline>\n",
              "\t<li>1</li>\n",
              "\t<li>2</li>\n",
              "\t<li>3</li>\n",
              "\t<li>4</li>\n",
              "\t<li>5</li>\n",
              "\t<li>6</li>\n",
              "</ol>\n"
            ],
            "text/markdown": [
              "1. 1\n",
              "2. 2\n",
              "3. 3\n",
              "4. 4\n",
              "5. 5\n",
              "6. 6\n",
              "\n\n"
            ],
            "text/latex": [
              "\\begin{enumerate*}\n",
              "\\item 1\n",
              "\\item 2\n",
              "\\item 3\n",
              "\\item 4\n",
              "\\item 5\n",
              "\\item 6\n",
              "\\end{enumerate*}\n"
            ],
            "text/plain": [
              "[1] 1 2 3 4 5 6"
            ]
          },
          "metadata": {}
        }
      ],
      "execution_count": 48,
      "metadata": {}
    },
    {
      "cell_type": "code",
      "source": [
        "head(seq(1,20))"
      ],
      "outputs": [
        {
          "output_type": "display_data",
          "data": {
            "text/html": [
              "<ol class=list-inline>\n",
              "\t<li>1</li>\n",
              "\t<li>2</li>\n",
              "\t<li>3</li>\n",
              "\t<li>4</li>\n",
              "\t<li>5</li>\n",
              "\t<li>6</li>\n",
              "</ol>\n"
            ],
            "text/markdown": [
              "1. 1\n",
              "2. 2\n",
              "3. 3\n",
              "4. 4\n",
              "5. 5\n",
              "6. 6\n",
              "\n\n"
            ],
            "text/latex": [
              "\\begin{enumerate*}\n",
              "\\item 1\n",
              "\\item 2\n",
              "\\item 3\n",
              "\\item 4\n",
              "\\item 5\n",
              "\\item 6\n",
              "\\end{enumerate*}\n"
            ],
            "text/plain": [
              "[1] 1 2 3 4 5 6"
            ]
          },
          "metadata": {}
        }
      ],
      "execution_count": 47,
      "metadata": {
        "collapsed": false,
        "outputHidden": false,
        "inputHidden": false
      }
    },
    {
      "cell_type": "markdown",
      "source": [
        "**Sequence increments**\n",
        "\nThe following creates a sequence containing all the positive odd numbers smaller than 100, it uses the third argument of **seq()** which is the incremental base to create the sequence from."
      ],
      "metadata": {}
    },
    {
      "cell_type": "code",
      "source": [
        "odd <- seq(1,99,2)\n",
        "head(odd)"
      ],
      "outputs": [
        {
          "output_type": "display_data",
          "data": {
            "text/html": [
              "<ol class=list-inline>\n",
              "\t<li>1</li>\n",
              "\t<li>3</li>\n",
              "\t<li>5</li>\n",
              "\t<li>7</li>\n",
              "\t<li>9</li>\n",
              "\t<li>11</li>\n",
              "</ol>\n"
            ],
            "text/markdown": [
              "1. 1\n",
              "2. 3\n",
              "3. 5\n",
              "4. 7\n",
              "5. 9\n",
              "6. 11\n",
              "\n\n"
            ],
            "text/latex": [
              "\\begin{enumerate*}\n",
              "\\item 1\n",
              "\\item 3\n",
              "\\item 5\n",
              "\\item 7\n",
              "\\item 9\n",
              "\\item 11\n",
              "\\end{enumerate*}\n"
            ],
            "text/plain": [
              "[1]  1  3  5  7  9 11"
            ]
          },
          "metadata": {}
        }
      ],
      "execution_count": 50,
      "metadata": {
        "collapsed": false,
        "outputHidden": false,
        "inputHidden": false
      }
    },
    {
      "cell_type": "markdown",
      "source": [
        "The second arugment to **seq()** won't need to be the last number in case the incremental is different than 1."
      ],
      "metadata": {}
    },
    {
      "cell_type": "code",
      "source": [
        "seq(7, 50, 7)"
      ],
      "outputs": [
        {
          "output_type": "display_data",
          "data": {
            "text/html": [
              "<ol class=list-inline>\n",
              "\t<li>7</li>\n",
              "\t<li>14</li>\n",
              "\t<li>21</li>\n",
              "\t<li>28</li>\n",
              "\t<li>35</li>\n",
              "\t<li>42</li>\n",
              "\t<li>49</li>\n",
              "</ol>\n"
            ],
            "text/markdown": [
              "1. 7\n",
              "2. 14\n",
              "3. 21\n",
              "4. 28\n",
              "5. 35\n",
              "6. 42\n",
              "7. 49\n",
              "\n\n"
            ],
            "text/latex": [
              "\\begin{enumerate*}\n",
              "\\item 7\n",
              "\\item 14\n",
              "\\item 21\n",
              "\\item 28\n",
              "\\item 35\n",
              "\\item 42\n",
              "\\item 49\n",
              "\\end{enumerate*}\n"
            ],
            "text/plain": [
              "[1]  7 14 21 28 35 42 49"
            ]
          },
          "metadata": {}
        }
      ],
      "execution_count": 49,
      "metadata": {
        "collapsed": false,
        "outputHidden": false,
        "inputHidden": false
      }
    },
    {
      "cell_type": "markdown",
      "source": [
        "The **seq()** function has another useful argument. The argument **length.out**. This argument lets us generate sequences that are increasing by the same amount but are of the prespecified length."
      ],
      "metadata": {}
    },
    {
      "cell_type": "code",
      "source": [
        "seq(0,100, length.out = 5)"
      ],
      "outputs": [
        {
          "output_type": "display_data",
          "data": {
            "text/html": [
              "<ol class=list-inline>\n",
              "\t<li>0</li>\n",
              "\t<li>25</li>\n",
              "\t<li>50</li>\n",
              "\t<li>75</li>\n",
              "\t<li>100</li>\n",
              "</ol>\n"
            ],
            "text/markdown": [
              "1. 0\n",
              "2. 25\n",
              "3. 50\n",
              "4. 75\n",
              "5. 100\n",
              "\n\n"
            ],
            "text/latex": [
              "\\begin{enumerate*}\n",
              "\\item 0\n",
              "\\item 25\n",
              "\\item 50\n",
              "\\item 75\n",
              "\\item 100\n",
              "\\end{enumerate*}\n"
            ],
            "text/plain": [
              "[1]   0  25  50  75 100"
            ]
          },
          "metadata": {}
        }
      ],
      "execution_count": 54,
      "metadata": {
        "collapsed": false,
        "outputHidden": false,
        "inputHidden": false
      }
    },
    {
      "cell_type": "code",
      "source": [
        "seq(0,0.05, length.out = 5)"
      ],
      "outputs": [
        {
          "output_type": "display_data",
          "data": {
            "text/html": [
              "<ol class=list-inline>\n",
              "\t<li>0</li>\n",
              "\t<li>0.0125</li>\n",
              "\t<li>0.025</li>\n",
              "\t<li>0.0375</li>\n",
              "\t<li>0.05</li>\n",
              "</ol>\n"
            ],
            "text/markdown": [
              "1. 0\n",
              "2. 0.0125\n",
              "3. 0.025\n",
              "4. 0.0375\n",
              "5. 0.05\n",
              "\n\n"
            ],
            "text/latex": [
              "\\begin{enumerate*}\n",
              "\\item 0\n",
              "\\item 0.0125\n",
              "\\item 0.025\n",
              "\\item 0.0375\n",
              "\\item 0.05\n",
              "\\end{enumerate*}\n"
            ],
            "text/plain": [
              "[1] 0.0000 0.0125 0.0250 0.0375 0.0500"
            ]
          },
          "metadata": {}
        }
      ],
      "execution_count": 59,
      "metadata": {
        "collapsed": false,
        "outputHidden": false,
        "inputHidden": false
      }
    },
    {
      "cell_type": "markdown",
      "source": [
        "Compute average: **mean()**"
      ],
      "metadata": {}
    },
    {
      "cell_type": "markdown",
      "source": [
        "---\n",
        "\n### Formulas"
      ],
      "metadata": {}
    },
    {
      "cell_type": "markdown",
      "source": [
        "Here is how you compute the sum for the first 20 integers: n(n+1)/2"
      ],
      "metadata": {}
    },
    {
      "cell_type": "code",
      "source": [
        "20*(20+1)/2 "
      ],
      "outputs": [
        {
          "output_type": "display_data",
          "data": {
            "text/html": [
              "210"
            ],
            "text/markdown": [
              "210"
            ],
            "text/latex": [
              "210"
            ],
            "text/plain": [
              "[1] 210"
            ]
          },
          "metadata": {}
        }
      ],
      "execution_count": 2,
      "metadata": {
        "collapsed": false,
        "outputHidden": false,
        "inputHidden": false
      }
    },
    {
      "cell_type": "markdown",
      "source": [
        "(1) However, we can define a variable to use the formula for other values of n\n",
        "\n",
        "(2) We even can calculate a formula for every instance in a vector and create a new vector\n"
      ],
      "metadata": {}
    },
    {
      "cell_type": "code",
      "source": [
        "# (1)\n",
        "n <- 20\n",
        "n*(n+1)/2"
      ],
      "outputs": [
        {
          "output_type": "display_data",
          "data": {
            "text/html": [
              "210"
            ],
            "text/markdown": [
              "210"
            ],
            "text/latex": [
              "210"
            ],
            "text/plain": [
              "[1] 210"
            ]
          },
          "metadata": {}
        }
      ],
      "execution_count": 25,
      "metadata": {
        "collapsed": false,
        "outputHidden": false,
        "inputHidden": false
      }
    },
    {
      "cell_type": "code",
      "source": [
        "# (2)\n",
        "m <- 1:5\n",
        "m*(m+1)/length(m)"
      ],
      "outputs": [
        {
          "output_type": "display_data",
          "data": {
            "text/html": [
              "<ol class=list-inline>\n",
              "\t<li>0.4</li>\n",
              "\t<li>1.2</li>\n",
              "\t<li>2.4</li>\n",
              "\t<li>4</li>\n",
              "\t<li>6</li>\n",
              "</ol>\n"
            ],
            "text/markdown": [
              "1. 0.4\n",
              "2. 1.2\n",
              "3. 2.4\n",
              "4. 4\n",
              "5. 6\n",
              "\n\n"
            ],
            "text/latex": [
              "\\begin{enumerate*}\n",
              "\\item 0.4\n",
              "\\item 1.2\n",
              "\\item 2.4\n",
              "\\item 4\n",
              "\\item 6\n",
              "\\end{enumerate*}\n"
            ],
            "text/plain": [
              "[1] 0.4 1.2 2.4 4.0 6.0"
            ]
          },
          "metadata": {}
        }
      ],
      "execution_count": 31,
      "metadata": {
        "collapsed": false,
        "outputHidden": false,
        "inputHidden": false
      }
    },
    {
      "cell_type": "code",
      "source": [
        "# (2)\n",
        "city <- c(\"Beijing\", \"Lagos\", \"Paris\", \"Rio de Janeiro\", \"San Juan\", \"Toronto\")\n",
        "temp <- c(35, 88, 42, 84, 81, 30) # Fahrenheit Temps\n",
        "temp <- 5/9 * (temp - 32) # C=5/9×(F−32)\n",
        "data.frame(name = city, temperature_celcius = temp)"
      ],
      "outputs": [
        {
          "output_type": "display_data",
          "data": {
            "text/html": [
              "<table>\n",
              "<thead><tr><th scope=col>name</th><th scope=col>temperature_celcius</th></tr></thead>\n",
              "<tbody>\n",
              "\t<tr><td>Beijing       </td><td> 1.666667     </td></tr>\n",
              "\t<tr><td>Lagos         </td><td>31.111111     </td></tr>\n",
              "\t<tr><td>Paris         </td><td> 5.555556     </td></tr>\n",
              "\t<tr><td>Rio de Janeiro</td><td>28.888889     </td></tr>\n",
              "\t<tr><td>San Juan      </td><td>27.222222     </td></tr>\n",
              "\t<tr><td>Toronto       </td><td>-1.111111     </td></tr>\n",
              "</tbody>\n",
              "</table>\n"
            ],
            "text/markdown": [
              "\n",
              "name | temperature_celcius | \n",
              "|---|---|---|---|---|---|\n",
              "| Beijing        |  1.666667      | \n",
              "| Lagos          | 31.111111      | \n",
              "| Paris          |  5.555556      | \n",
              "| Rio de Janeiro | 28.888889      | \n",
              "| San Juan       | 27.222222      | \n",
              "| Toronto        | -1.111111      | \n",
              "\n\n"
            ],
            "text/latex": [
              "\\begin{tabular}{r|ll}\n",
              " name & temperature\\_celcius\\\\\n",
              "\\hline\n",
              "\t Beijing        &  1.666667     \\\\\n",
              "\t Lagos          & 31.111111     \\\\\n",
              "\t Paris          &  5.555556     \\\\\n",
              "\t Rio de Janeiro & 28.888889     \\\\\n",
              "\t San Juan       & 27.222222     \\\\\n",
              "\t Toronto        & -1.111111     \\\\\n",
              "\\end{tabular}\n"
            ],
            "text/plain": [
              "  name           temperature_celcius\n",
              "1 Beijing         1.666667          \n",
              "2 Lagos          31.111111          \n",
              "3 Paris           5.555556          \n",
              "4 Rio de Janeiro 28.888889          \n",
              "5 San Juan       27.222222          \n",
              "6 Toronto        -1.111111          "
            ]
          },
          "metadata": {}
        }
      ],
      "execution_count": 43,
      "metadata": {
        "collapsed": false,
        "outputHidden": false,
        "inputHidden": false
      }
    },
    {
      "cell_type": "markdown",
      "source": [
        "---\n",
        "\n",
        "### Programming Basics\n"
      ],
      "metadata": {}
    },
    {
      "cell_type": "markdown",
      "source": [
        "functions: **ifelse()**"
      ],
      "metadata": {}
    },
    {
      "cell_type": "markdown",
      "source": [
        "**Defining functions**\n",
        "\n",
        "Always the last value in a function, in this case that stored in y, gets returned.\n",
        "\nVariables defined in functions have block scope, isolated scope, no closures."
      ],
      "metadata": {
        "collapsed": false,
        "outputHidden": false,
        "inputHidden": false
      }
    },
    {
      "cell_type": "code",
      "source": [
        "add_one <- function(x){\n",
        "    y <- x + 1\n",
        "    y\n",
        "}\n",
        "add_one(5)"
      ],
      "outputs": [
        {
          "output_type": "display_data",
          "data": {
            "text/html": [
              "6"
            ],
            "text/markdown": [
              "6"
            ],
            "text/latex": [
              "6"
            ],
            "text/plain": [
              "[1] 6"
            ]
          },
          "metadata": {}
        }
      ],
      "execution_count": 122,
      "metadata": {
        "collapsed": false,
        "outputHidden": false,
        "inputHidden": false
      }
    },
    {
      "cell_type": "markdown",
      "source": [
        "**for loops**"
      ],
      "metadata": {}
    },
    {
      "cell_type": "code",
      "source": [
        "# Define a function and store it in `compute_s_n`\n",
        "compute_s_n <- function(n){\n",
        "  x <- 1:n\n",
        "  sum(x^2)\n",
        "}\n",
        "\n",
        "# Create a vector for storing results\n",
        "s_n <- vector(\"numeric\", 25)\n",
        "\n",
        "# write a for-loop to store the results in s_n\n",
        "for(i in 1:25) {\n",
        "  x <- i\n",
        "  s_n[i] <- compute_s_n(x)\n",
        "}\n",
        "s_n"
      ],
      "outputs": [
        {
          "output_type": "display_data",
          "data": {
            "text/html": [
              "<ol class=list-inline>\n",
              "\t<li>1</li>\n",
              "\t<li>5</li>\n",
              "\t<li>14</li>\n",
              "\t<li>30</li>\n",
              "\t<li>55</li>\n",
              "\t<li>91</li>\n",
              "\t<li>140</li>\n",
              "\t<li>204</li>\n",
              "\t<li>285</li>\n",
              "\t<li>385</li>\n",
              "\t<li>506</li>\n",
              "\t<li>650</li>\n",
              "\t<li>819</li>\n",
              "\t<li>1015</li>\n",
              "\t<li>1240</li>\n",
              "\t<li>1496</li>\n",
              "\t<li>1785</li>\n",
              "\t<li>2109</li>\n",
              "\t<li>2470</li>\n",
              "\t<li>2870</li>\n",
              "\t<li>3311</li>\n",
              "\t<li>3795</li>\n",
              "\t<li>4324</li>\n",
              "\t<li>4900</li>\n",
              "\t<li>5525</li>\n",
              "</ol>\n"
            ],
            "text/markdown": [
              "1. 1\n",
              "2. 5\n",
              "3. 14\n",
              "4. 30\n",
              "5. 55\n",
              "6. 91\n",
              "7. 140\n",
              "8. 204\n",
              "9. 285\n",
              "10. 385\n",
              "11. 506\n",
              "12. 650\n",
              "13. 819\n",
              "14. 1015\n",
              "15. 1240\n",
              "16. 1496\n",
              "17. 1785\n",
              "18. 2109\n",
              "19. 2470\n",
              "20. 2870\n",
              "21. 3311\n",
              "22. 3795\n",
              "23. 4324\n",
              "24. 4900\n",
              "25. 5525\n",
              "\n\n"
            ],
            "text/latex": [
              "\\begin{enumerate*}\n",
              "\\item 1\n",
              "\\item 5\n",
              "\\item 14\n",
              "\\item 30\n",
              "\\item 55\n",
              "\\item 91\n",
              "\\item 140\n",
              "\\item 204\n",
              "\\item 285\n",
              "\\item 385\n",
              "\\item 506\n",
              "\\item 650\n",
              "\\item 819\n",
              "\\item 1015\n",
              "\\item 1240\n",
              "\\item 1496\n",
              "\\item 1785\n",
              "\\item 2109\n",
              "\\item 2470\n",
              "\\item 2870\n",
              "\\item 3311\n",
              "\\item 3795\n",
              "\\item 4324\n",
              "\\item 4900\n",
              "\\item 5525\n",
              "\\end{enumerate*}\n"
            ],
            "text/plain": [
              " [1]    1    5   14   30   55   91  140  204  285  385  506  650  819 1015 1240\n",
              "[16] 1496 1785 2109 2470 2870 3311 3795 4324 4900 5525"
            ]
          },
          "metadata": {}
        }
      ],
      "execution_count": 125,
      "metadata": {
        "collapsed": false,
        "outputHidden": false,
        "inputHidden": false
      }
    },
    {
      "cell_type": "markdown",
      "source": [
        "---\n",
        "\n",
        "### Basic Plots\n",
        "\n**plot()**"
      ],
      "metadata": {}
    },
    {
      "cell_type": "code",
      "source": [
        "population_in_millions <- murders$population/10^6\n",
        "total_gun_murders <- murders$total\n",
        "plot(population_in_millions, total_gun_murders)"
      ],
      "outputs": [
        {
          "output_type": "display_data",
          "data": {
            "text/plain": [
              "plot without title"
            ],
            "image/png": "[encoded data removed]"
          },
          "metadata": {}
        }
      ],
      "execution_count": 105,
      "metadata": {
        "collapsed": false,
        "outputHidden": false,
        "inputHidden": false,
        "outputExpanded": true
      }
    },
    {
      "cell_type": "code",
      "source": [
        "# Transform population using the log10 transformation and save to object log10_population\n",
        "log10_population <- log10(murders$population)\n",
        "\n",
        "# Transform total gun murders using log10 transformation and save to object log10_total_gun_murders\n",
        "log10_total_gun_murders <- log10(murders$total)\n",
        "# Create a scatterplot with the log scale transformed population and murders \n",
        "plot(log10_population, log10_total_gun_murders)"
      ],
      "outputs": [
        {
          "output_type": "display_data",
          "data": {
            "text/plain": [
              "plot without title"
            ],
            "image/png": "[encoded data removed]"
          },
          "metadata": {}
        }
      ],
      "execution_count": 109,
      "metadata": {
        "collapsed": false,
        "outputHidden": false,
        "inputHidden": false,
        "outputExpanded": true
      }
    },
    {
      "cell_type": "markdown",
      "source": [
        "Histograms\n",
        "\n**hist()**"
      ],
      "metadata": {}
    },
    {
      "cell_type": "code",
      "source": [
        "# Store the population in millions and save to population_in_millions \n",
        "population_in_millions <- murders$population/10^6\n",
        "\n\n",
        "# Create a histogram of this variable\n",
        "hist(population_in_millions)"
      ],
      "outputs": [
        {
          "output_type": "display_data",
          "data": {
            "text/plain": [
              "Plot with title \"Histogram of population_in_millions\""
            ],
            "image/png": "[encoded data removed]"
          },
          "metadata": {}
        }
      ],
      "execution_count": 110,
      "metadata": {
        "collapsed": false,
        "outputHidden": false,
        "inputHidden": false,
        "outputExpanded": true
      }
    },
    {
      "cell_type": "markdown",
      "source": [
        "Boxplots\n",
        "\n**boxplot()**"
      ],
      "metadata": {}
    },
    {
      "cell_type": "code",
      "source": [
        "boxplot(population~region, data = murders)"
      ],
      "outputs": [
        {
          "output_type": "display_data",
          "data": {
            "text/plain": [
              "plot without title"
            ],
            "image/png": "[encoded data removed]"
          },
          "metadata": {}
        }
      ],
      "execution_count": 111,
      "metadata": {
        "collapsed": false,
        "outputHidden": false,
        "inputHidden": false,
        "outputExpanded": true
      }
    }
  ],
  "metadata": {
    "kernel_info": {
      "name": "ir"
    },
    "language_info": {
      "name": "R",
      "codemirror_mode": "r",
      "pygments_lexer": "r",
      "mimetype": "text/x-r-source",
      "file_extension": ".r",
      "version": "3.5.1"
    },
    "kernelspec": {
      "name": "ir",
      "language": "R",
      "display_name": "R"
    },
    "nteract": {
      "version": "0.11.7"
    }
  },
  "nbformat": 4,
  "nbformat_minor": 4
}