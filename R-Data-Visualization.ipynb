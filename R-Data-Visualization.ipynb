{
  "cells": [
    {
      "cell_type": "markdown",
      "source": [
        "# Data Science - Professional Cerificate Program - Havard University"
      ],
      "metadata": {}
    },
    {
      "cell_type": "markdown",
      "source": [
        "## Data Science: Visualization"
      ],
      "metadata": {
        "collapsed": false,
        "outputHidden": false,
        "inputHidden": false
      }
    },
    {
      "cell_type": "markdown",
      "source": [
        "### Brief preface\n",
        "\n",
        "**A picture is worth a thousand words**\n",
        "\n",
        "Data visualization provides a powerful way to communicate a data driven finding. In some cases, the visualization is so convincing that no follow up analysis is required.\n",
        "\n",
        "An example: [Battling Infectious Diseases in the 20th Century: The Impact of Vaccines](http://graphics.wsj.com/infectious-diseases-and-vaccines/)\n",
        "\n",
        "> **The greatest value of a picture\n",
        "is when it forces us to notice what we never expected to see - John Tukey**\n",
        "\n",
        "Exploratory data analysis is perhaps the most important part of data analysis,\n",
        "yet it is often overlooked. Data visualization is also now pervasive and philanthropic\n",
        "in educational organizations.\n",
        "\n",
        "One example comes from GAPminder and the talks, \"New Insights on Poverty\"\n",
        "and \"The Best Stats You&#39;ve Ever Seen\", Hans Roslings forced us to notice the unexpected with a series of plots\n",
        "related to world health and economics. In his videos, he used animated graphs to show us how the world was changing,\n",
        "and how old narratives are no longer true.\n",
        "\n",
        "[New Insights on Poverty](https://www.ted.com/talks/hans_rosling_reveals_new_insights_on_poverty)\n",
        "\n",
        "[The Best Stats You&#39;ve Ever Seen](https://www.ted.com/talks/hans_rosling_shows_the_best_stats_you_ve_ever_seen)\n",
        "\n",
        "[Let my dataset change your mindset](https://www.gapminder.org/videos/ted-us-state-department/)\n",
        "\n",
        "It is also important to note that mistakes, biases, systematic errors,\n",
        "and other unexpected problems often lead to data\n",
        "that should be handled with care. Failure to discover these problems often leads to flawed analyzes\n",
        "and false discoveries.\n",
        "\n",
        "The fact that it can be hard or impossible to notice an error just\n",
        "from the reporter results makes data visualization particularly important."
      ],
      "metadata": {}
    },
    {
      "cell_type": "markdown",
      "source": [
        "Section 1\n",
        "\n",
        "- understand the importance of data visualization for communicating data-driven findings.\n",
        "\n",
        "- be able to use distributions to summarize data.\n",
        "\n",
        "- be able to use the average and the standard deviation to understand the normal distribution.\n",
        "\n",
        "- be able to assess how well a normal distribution fits the data using a quantile-quantile plot.\n",
        "\n- be able to interpret data from a boxplot."
      ],
      "metadata": {}
    },
    {
      "cell_type": "markdown",
      "source": [
        "### Distributions\n",
        "\n",
        "A distribution is a basic summary of data values. An average score number and occasionally the standard deviation can form a distribution.\n",
        "\n",
        "So, for example, you might read a report stating that scores at this high school\n",
        "were 680 plus or minus 50.\n",
        "\n",
        "**680 ± 50** (The first is the average score, the last the standard deviation)\n",
        "\n",
        "It turns out that in some cases, these two numbers\n",
        "are pretty much all we need to understand the data. Data visualization techniques will help us determine when this two-number summary is appropriate. These same techniques will serve as alternatives for when these two numbers are not enough.\n",
        "\n",
        "The most basic statistical summary of a list of objects or numbers\n",
        "is its **distribution**.\n",
        "\n",
        "Once a vector has been summarized as a distribution,\n",
        "there are several data visualization techniques to effectively relay\n",
        "this information."
      ],
      "metadata": {}
    },
    {
      "cell_type": "markdown",
      "source": [
        "### Data Types\n",
        "\n",
        "Categorial\n",
        "(Variables defined by a small number of groups: Sex(male, female), Regions(North, South)\n",
        "- Ordinals (Can be ordered in a semantic way: Spiciness(mild, medium, hot))\n",
        "- Non-Ordinals\n",
        "\n",
        "Numericals\n",
        "- Discrete (Have to be round numbers)\n",
        "- Continuous (Can have any value)"
      ],
      "metadata": {}
    },
    {
      "cell_type": "code",
      "source": [
        "install.packages(\"dslabs\")"
      ],
      "outputs": [
        {
          "output_type": "stream",
          "name": "stderr",
          "text": [
            "Installing package into 'C:/Users/Robin/Documents/R/win-library/3.5'\n",
            "(as 'lib' is unspecified)\n",
            "also installing the dependencies 'glue', 'magrittr', 'stringi', 'colorspace', 'assertthat', 'fansi', 'utf8', 'stringr', 'labeling', 'munsell', 'RColorBrewer', 'cli', 'pillar', 'gtable', 'lazyeval', 'plyr', 'reshape2', 'rlang', 'scales', 'tibble', 'viridisLite', 'ggplot2'\n",
            "\n"
          ]
        },
        {
          "output_type": "stream",
          "name": "stdout",
          "text": [
            "\n",
            "  There is a binary version available but the source version is later:\n",
            "        binary source needs_compilation\n",
            "stringi  1.1.7  1.2.4              TRUE\n",
            "\n",
            "  Binaries will be installed\n",
            "package 'glue' successfully unpacked and MD5 sums checked\n",
            "package 'magrittr' successfully unpacked and MD5 sums checked\n",
            "package 'stringi' successfully unpacked and MD5 sums checked\n",
            "package 'colorspace' successfully unpacked and MD5 sums checked\n",
            "package 'assertthat' successfully unpacked and MD5 sums checked\n",
            "package 'fansi' successfully unpacked and MD5 sums checked\n",
            "package 'utf8' successfully unpacked and MD5 sums checked\n",
            "package 'stringr' successfully unpacked and MD5 sums checked\n",
            "package 'labeling' successfully unpacked and MD5 sums checked\n",
            "package 'munsell' successfully unpacked and MD5 sums checked\n",
            "package 'RColorBrewer' successfully unpacked and MD5 sums checked\n",
            "package 'cli' successfully unpacked and MD5 sums checked\n",
            "package 'pillar' successfully unpacked and MD5 sums checked\n",
            "package 'gtable' successfully unpacked and MD5 sums checked\n",
            "package 'lazyeval' successfully unpacked and MD5 sums checked\n",
            "package 'plyr' successfully unpacked and MD5 sums checked\n",
            "package 'reshape2' successfully unpacked and MD5 sums checked\n",
            "package 'rlang' successfully unpacked and MD5 sums checked\n",
            "package 'scales' successfully unpacked and MD5 sums checked\n",
            "package 'tibble' successfully unpacked and MD5 sums checked\n",
            "package 'viridisLite' successfully unpacked and MD5 sums checked\n",
            "package 'ggplot2' successfully unpacked and MD5 sums checked\n",
            "package 'dslabs' successfully unpacked and MD5 sums checked\n",
            "\n",
            "The downloaded binary packages are in\n",
            "\tC:\\Users\\Robin\\AppData\\Local\\Temp\\Rtmpiim9mt\\downloaded_packages\n"
          ]
        }
      ],
      "execution_count": 3,
      "metadata": {
        "collapsed": false,
        "outputHidden": true,
        "inputHidden": false
      }
    },
    {
      "cell_type": "code",
      "source": [
        "library(dslabs)"
      ],
      "outputs": [],
      "execution_count": 4,
      "metadata": {
        "collapsed": false,
        "outputHidden": false,
        "inputHidden": false
      }
    },
    {
      "cell_type": "markdown",
      "source": [
        "#### Data Type Semantics"
      ],
      "metadata": {}
    },
    {
      "cell_type": "markdown",
      "source": [
        "The heights$height vector could be considered a categorial with categories like low, average, high, but,\n",
        "\nit is more effective to consider the heights$height vector to be numerical given the number of unique values we observe and the fact that if we keep collecting data even more will be observed."
      ],
      "metadata": {}
    },
    {
      "cell_type": "code",
      "source": [
        "data(heights)\n",
        "str(heights)"
      ],
      "outputs": [
        {
          "output_type": "stream",
          "name": "stdout",
          "text": [
            "'data.frame':\t1050 obs. of  2 variables:\n",
            " $ sex   : Factor w/ 2 levels \"Female\",\"Male\": 2 2 2 2 2 1 1 1 1 2 ...\n",
            " $ height: num  75 70 68 74 61 65 66 62 66 67 ...\n"
          ]
        }
      ],
      "execution_count": 6,
      "metadata": {
        "collapsed": false,
        "outputHidden": false,
        "inputHidden": false
      }
    },
    {
      "cell_type": "code",
      "source": [
        "tab <- table(heights$height)\n",
        "sum(tab == 1) # unique values we observe"
      ],
      "outputs": [
        {
          "output_type": "display_data",
          "data": {
            "text/html": [
              "63"
            ],
            "text/markdown": [
              "63"
            ],
            "text/latex": [
              "63"
            ],
            "text/plain": [
              "[1] 63"
            ]
          },
          "metadata": {}
        }
      ],
      "execution_count": 7,
      "metadata": {
        "collapsed": false,
        "outputHidden": false,
        "inputHidden": false
      }
    }
  ],
  "metadata": {
    "kernel_info": {
      "name": "ir"
    },
    "language_info": {
      "name": "R",
      "codemirror_mode": "r",
      "pygments_lexer": "r",
      "mimetype": "text/x-r-source",
      "file_extension": ".r",
      "version": "3.5.1"
    },
    "kernelspec": {
      "name": "ir",
      "language": "R",
      "display_name": "R"
    },
    "nteract": {
      "version": "0.11.9"
    }
  },
  "nbformat": 4,
  "nbformat_minor": 4
}