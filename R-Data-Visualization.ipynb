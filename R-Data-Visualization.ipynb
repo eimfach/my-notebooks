{
  "cells": [
    {
      "cell_type": "markdown",
      "source": [
        "# Data Science - Professional Cerificate Program - Havard University"
      ],
      "metadata": {}
    },
    {
      "cell_type": "code",
      "source": [
        "## Data Science: Visualization"
      ],
      "outputs": [],
      "execution_count": null,
      "metadata": {
        "collapsed": false,
        "outputHidden": false,
        "inputHidden": false
      }
    },
    {
      "cell_type": "markdown",
      "source": [
        "(Insert preface)"
      ],
      "metadata": {}
    },
    {
      "cell_type": "markdown",
      "source": [
        "### Data Types\n",
        "\n",
        "Categorial\n",
        "(Variables defined by a small number of groups: Sex(male, female), Regions(North, South)\n",
        "- Ordinals (Can be ordered in a semantic way Spiciness(mild, medium, hot))\n",
        "- Non-Ordinals\n",
        "\n",
        "Numericals\n",
        "- Discrete (Have to be round numbers)\n",
        "- Continuous (Can have any value)"
      ],
      "metadata": {}
    }
  ],
  "metadata": {
    "kernel_info": {
      "name": "node_nteract"
    },
    "language_info": {
      "name": "javascript",
      "version": "8.9.3",
      "mimetype": "application/javascript",
      "file_extension": ".js"
    },
    "kernelspec": {
      "name": "node_nteract",
      "language": "javascript",
      "display_name": "Node.js (nteract)"
    },
    "nteract": {
      "version": "0.11.9"
    }
  },
  "nbformat": 4,
  "nbformat_minor": 4
}