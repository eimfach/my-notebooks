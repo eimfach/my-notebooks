{
  "cells": [
    {
      "cell_type": "markdown",
      "source": [
        "# Data Science - Professional Cerificate Program - Havard University"
      ],
      "metadata": {}
    },
    {
      "cell_type": "markdown",
      "source": [
        "## Data Science: Visualization"
      ],
      "metadata": {
        "collapsed": false,
        "outputHidden": false,
        "inputHidden": false
      }
    },
    {
      "cell_type": "markdown",
      "source": [
        "### Brief preface\n",
        "\n",
        "**A picture is worth a thousand words**\n",
        "\n",
        "Data visualization provides a powerful way to communicate a data driven finding. In some cases, the visualization is so convincing that no follow up analysis is required.\n",
        "\n",
        "An example: [Battling Infectious Diseases in the 20th Century: The Impact of Vaccines](http://graphics.wsj.com/infectious-diseases-and-vaccines/)\n",
        "\n",
        "> **The greatest value of a picture\n",
        "is when it forces us to notice what we never expected to see - John Tukey**\n",
        "\n",
        "Exploratory data analysis is perhaps the most important part of data analysis,\n",
        "yet it is often overlooked. Data visualization is also now pervasive and philanthropic\n",
        "in educational organizations.\n",
        "\n",
        "One example comes from GAPminder and the talks, \"New Insights on Poverty\"\n",
        "and \"The Best Stats You&#39;ve Ever Seen\", Hans Roslings forced us to notice the unexpected with a series of plots\n",
        "related to world health and economics. In his videos, he used animated graphs to show us how the world was changing,\n",
        "and how old narratives are no longer true.\n",
        "\n",
        "[New Insights on Poverty](https://www.ted.com/talks/hans_rosling_reveals_new_insights_on_poverty)\n",
        "\n",
        "[The Best Stats You&#39;ve Ever Seen](https://www.ted.com/talks/hans_rosling_shows_the_best_stats_you_ve_ever_seen)\n",
        "\n",
        "[Let my dataset change your mindset](https://www.gapminder.org/videos/ted-us-state-department/)\n",
        "\n",
        "It is also important to note that mistakes, biases, systematic errors,\n",
        "and other unexpected problems often lead to data\n",
        "that should be handled with care. Failure to discover these problems often leads to flawed analyzes\n",
        "and false discoveries.\n",
        "\n",
        "The fact that it can be hard or impossible to notice an error just\n",
        "from the reporter results makes data visualization particularly important."
      ],
      "metadata": {}
    },
    {
      "cell_type": "markdown",
      "source": [
        "### Section 1 - Overview\n",
        "\n",
        "- understand the importance of data visualization for communicating data-driven findings.\n",
        "\n",
        "- be able to use distributions to summarize data.\n",
        "\n",
        "- be able to use the average and the standard deviation to understand the normal distribution.\n",
        "\n",
        "- be able to assess how well a normal distribution fits the data using a quantile-quantile plot.\n",
        "\n- be able to interpret data from a boxplot."
      ],
      "metadata": {}
    },
    {
      "cell_type": "markdown",
      "source": [
        "#### Section 1.1 Introduction to Data Visualization"
      ],
      "metadata": {}
    },
    {
      "cell_type": "markdown",
      "source": [
        "### Distributions\n",
        "\n",
        "A distribution is a basic summary of data values. An average score number and occasionally the standard deviation can form a distribution.\n",
        "\n",
        "So, for example, you might read a report stating that scores at this high school\n",
        "were 680 plus or minus 50.\n",
        "\n",
        "**680 ± 50** (The first is the average score, the last the standard deviation)\n",
        "\n",
        "It turns out that in some cases, these two numbers\n",
        "are pretty much all we need to understand the data. Data visualization techniques will help us determine when this two-number summary is appropriate. These same techniques will serve as alternatives for when these two numbers are not enough.\n",
        "\n",
        "The most basic statistical summary of a list of objects or numbers\n",
        "is its **distribution**.\n",
        "\n",
        "Once a vector has been summarized as a distribution,\n",
        "there are several data visualization techniques to effectively relay\n",
        "this information."
      ],
      "metadata": {}
    },
    {
      "cell_type": "code",
      "source": [
        "install.packages(\"dslabs\")"
      ],
      "outputs": [
        {
          "output_type": "stream",
          "name": "stderr",
          "text": [
            "Installing package into 'C:/Users/Robin/Documents/R/win-library/3.5'\n",
            "(as 'lib' is unspecified)\n",
            "also installing the dependencies 'glue', 'magrittr', 'stringi', 'colorspace', 'assertthat', 'fansi', 'utf8', 'stringr', 'labeling', 'munsell', 'RColorBrewer', 'cli', 'pillar', 'gtable', 'lazyeval', 'plyr', 'reshape2', 'rlang', 'scales', 'tibble', 'viridisLite', 'ggplot2'\n",
            "\n"
          ]
        },
        {
          "output_type": "stream",
          "name": "stdout",
          "text": [
            "\n",
            "  There is a binary version available but the source version is later:\n",
            "        binary source needs_compilation\n",
            "stringi  1.1.7  1.2.4              TRUE\n",
            "\n",
            "  Binaries will be installed\n",
            "package 'glue' successfully unpacked and MD5 sums checked\n",
            "package 'magrittr' successfully unpacked and MD5 sums checked\n",
            "package 'stringi' successfully unpacked and MD5 sums checked\n",
            "package 'colorspace' successfully unpacked and MD5 sums checked\n",
            "package 'assertthat' successfully unpacked and MD5 sums checked\n",
            "package 'fansi' successfully unpacked and MD5 sums checked\n",
            "package 'utf8' successfully unpacked and MD5 sums checked\n",
            "package 'stringr' successfully unpacked and MD5 sums checked\n",
            "package 'labeling' successfully unpacked and MD5 sums checked\n",
            "package 'munsell' successfully unpacked and MD5 sums checked\n",
            "package 'RColorBrewer' successfully unpacked and MD5 sums checked\n",
            "package 'cli' successfully unpacked and MD5 sums checked\n",
            "package 'pillar' successfully unpacked and MD5 sums checked\n",
            "package 'gtable' successfully unpacked and MD5 sums checked\n",
            "package 'lazyeval' successfully unpacked and MD5 sums checked\n",
            "package 'plyr' successfully unpacked and MD5 sums checked\n",
            "package 'reshape2' successfully unpacked and MD5 sums checked\n",
            "package 'rlang' successfully unpacked and MD5 sums checked\n",
            "package 'scales' successfully unpacked and MD5 sums checked\n",
            "package 'tibble' successfully unpacked and MD5 sums checked\n",
            "package 'viridisLite' successfully unpacked and MD5 sums checked\n",
            "package 'ggplot2' successfully unpacked and MD5 sums checked\n",
            "package 'dslabs' successfully unpacked and MD5 sums checked\n",
            "\n",
            "The downloaded binary packages are in\n",
            "\tC:\\Users\\Robin\\AppData\\Local\\Temp\\Rtmpiim9mt\\downloaded_packages\n"
          ]
        }
      ],
      "execution_count": 3,
      "metadata": {
        "collapsed": false,
        "outputHidden": true,
        "inputHidden": false
      }
    },
    {
      "cell_type": "code",
      "source": [
        "library(dslabs)"
      ],
      "outputs": [],
      "execution_count": 4,
      "metadata": {
        "collapsed": false,
        "outputHidden": false,
        "inputHidden": false
      }
    },
    {
      "cell_type": "markdown",
      "source": [
        "### Data Types\n",
        "\n",
        "Categorial\n",
        "(Variables defined by a small number of groups: Sex(male, female), Regions(North, South)\n",
        "- Ordinals (Can be ordered in a semantic way: Spiciness(mild, medium, hot))\n",
        "- Non-Ordinals\n",
        "\n",
        "Numericals\n",
        "- Discrete (Have to be round numbers)\n",
        "- Continuous (Can have any value)"
      ],
      "metadata": {}
    },
    {
      "cell_type": "markdown",
      "source": [
        "#### Data Type Semantics"
      ],
      "metadata": {}
    },
    {
      "cell_type": "markdown",
      "source": [
        "The heights$height vector could be considered a **categorial** with categories like small, average, tall,\n",
        "\n",
        "but,\n",
        "\nit is more effective to consider the heights$height vector to be **numerical** given the number of unique values we observe and the fact that if we keep collecting data even more will be observed."
      ],
      "metadata": {}
    },
    {
      "cell_type": "code",
      "source": [
        "data(heights)\n",
        "str(heights)"
      ],
      "outputs": [
        {
          "output_type": "stream",
          "name": "stdout",
          "text": [
            "'data.frame':\t1050 obs. of  2 variables:\n",
            " $ sex   : Factor w/ 2 levels \"Female\",\"Male\": 2 2 2 2 2 1 1 1 1 2 ...\n",
            " $ height: num  75 70 68 74 61 65 66 62 66 67 ...\n"
          ]
        }
      ],
      "execution_count": 6,
      "metadata": {
        "collapsed": false,
        "outputHidden": false,
        "inputHidden": false
      }
    },
    {
      "cell_type": "code",
      "source": [
        "tab <- table(heights$height)\n",
        "sum(tab == 1) # unique values we observe"
      ],
      "outputs": [
        {
          "output_type": "display_data",
          "data": {
            "text/html": [
              "63"
            ],
            "text/markdown": [
              "63"
            ],
            "text/latex": [
              "63"
            ],
            "text/plain": [
              "[1] 63"
            ]
          },
          "metadata": {}
        }
      ],
      "execution_count": 7,
      "metadata": {
        "collapsed": false,
        "outputHidden": false,
        "inputHidden": false
      }
    },
    {
      "cell_type": "markdown",
      "source": [
        "#### Section 1.2 - Introduction to Distributions"
      ],
      "metadata": {}
    },
    {
      "cell_type": "markdown",
      "source": [
        "**Describe Heights to ET**\n",
        "\n",
        "A first artificial problem:\n",
        "\n",
        "Pretend that we have to describe the heights of our classmates\n",
        "to ET, an extraterrestrial that has never seen humans.\n",
        "\n",
        "As a first step, we need to collect data.\n",
        "To do this, we asked students to report their heights in inches.\n",
        "We asked them to provide sex information because we\n",
        "know there are two different groups of heights, males and females.\n",
        "\n",
        "One way to convey the heights to ET is to simply\n",
        "send him the list of 924 heights. But there are much more effective ways to convey this information, and understanding the concepts of distributions will help.\n",
        "\n",
        "Again: The most basic statistical summary of a list of objects or numbers\n",
        "is its distribution.\n",
        "\n",
        "**The simplest way to think of a distribution\n",
        "is as a compact description of a list with many elements.** For example: With categorical data, the distribution simply describes the proportions of each unique category. The sex represented in the heights data set can be summarized by the proportions of each of the two categories, female and male. This two category frequency table is the simplest form\n",
        "of a distribution we can form.\n",
        "\n",
        "When the data is numerical, the task is much more challenging.\n",
        "\n",
        "Why ? In general, when data is not categorical, reporting the frequency of each unique entry is not an effective summary since most entries are unique.\n",
        "\n",
        "For example, while several students reported a height of 68 inches,\n",
        "only one student reported a height of 68.503937007874 inches.\n",
        "And only one student reported a height of 68.8976377952756 inches.\n",
        "We assume that they converted from 174 centimeters and 175 centimeters\n",
        "to inches respectively.\n",
        "\n",
        "Statistics textbooks teach us that a more useful way\n",
        "to define a distribution for numerical data\n",
        "is to define a function that reports the proportion of the data\n",
        "below a value A for all possible values of A. **This function is called a cumulative distribution function or CDF.**\n",
        "\n",
        "In fact, we can report the proportion of values between any two heights,\n",
        "say a and b, by computing f of b, and then subtracting f of a.\n",
        "This means that if we send this plot to ET,\n",
        "he will have all the information needed to construct the entire list.\n",
        "\n",
        "<small>Final note: Because CDFs can be determined mathematically,\n",
        "as opposed to using data as we do here, the word empirical\n",
        "is added to distinguish, and we use the term empirical CDF or ECDF.</small>\n",
        "\n",
        "Although the CDF provides all the information we need and it is widely discussed in statistics textbooks, the plot is actually not very popular in practice.\n",
        "\n",
        "The main reason is that it does not easily convey characteristics of interest, such as,\n",
        "at what value is the distribution centered, is the distribution symmetric, what range contains 95% of the data.\n",
        "\n",
        "We can decipher all this from the plot, but it's not that easy.\n",
        "\n",
        "Histograms are much preferred because they greatly\n",
        "facilitate answering such questions. Histograms sacrifice just a bit of information to produce plots that are much easier to interpret.\n",
        "\nThe simplest way to make a histogram is to divide a span of our data into non-overlapping bins of the same size. Then for each bin, we count the number of values that fall in that interval. The histogram plots these counts as bars with the base of the bar the interval."
      ],
      "metadata": {}
    },
    {
      "cell_type": "code",
      "source": [
        "head(heights)"
      ],
      "outputs": [
        {
          "output_type": "display_data",
          "data": {
            "text/html": [
              "<table>\n",
              "<thead><tr><th scope=col>sex</th><th scope=col>height</th></tr></thead>\n",
              "<tbody>\n",
              "\t<tr><td>Male  </td><td>75    </td></tr>\n",
              "\t<tr><td>Male  </td><td>70    </td></tr>\n",
              "\t<tr><td>Male  </td><td>68    </td></tr>\n",
              "\t<tr><td>Male  </td><td>74    </td></tr>\n",
              "\t<tr><td>Male  </td><td>61    </td></tr>\n",
              "\t<tr><td>Female</td><td>65    </td></tr>\n",
              "</tbody>\n",
              "</table>\n"
            ],
            "text/markdown": [
              "\n",
              "sex | height | \n",
              "|---|---|---|---|---|---|\n",
              "| Male   | 75     | \n",
              "| Male   | 70     | \n",
              "| Male   | 68     | \n",
              "| Male   | 74     | \n",
              "| Male   | 61     | \n",
              "| Female | 65     | \n",
              "\n\n"
            ],
            "text/latex": [
              "\\begin{tabular}{r|ll}\n",
              " sex & height\\\\\n",
              "\\hline\n",
              "\t Male   & 75    \\\\\n",
              "\t Male   & 70    \\\\\n",
              "\t Male   & 68    \\\\\n",
              "\t Male   & 74    \\\\\n",
              "\t Male   & 61    \\\\\n",
              "\t Female & 65    \\\\\n",
              "\\end{tabular}\n"
            ],
            "text/plain": [
              "  sex    height\n",
              "1 Male   75    \n",
              "2 Male   70    \n",
              "3 Male   68    \n",
              "4 Male   74    \n",
              "5 Male   61    \n",
              "6 Female 65    "
            ]
          },
          "metadata": {}
        }
      ],
      "execution_count": 8,
      "metadata": {
        "collapsed": false,
        "outputHidden": false,
        "inputHidden": false
      }
    },
    {
      "cell_type": "markdown",
      "source": [
        "**Smooth Density Plots**"
      ],
      "metadata": {}
    }
  ],
  "metadata": {
    "kernel_info": {
      "name": "ir"
    },
    "language_info": {
      "name": "R",
      "codemirror_mode": "r",
      "pygments_lexer": "r",
      "mimetype": "text/x-r-source",
      "file_extension": ".r",
      "version": "3.5.1"
    },
    "kernelspec": {
      "name": "ir",
      "language": "R",
      "display_name": "R"
    },
    "nteract": {
      "version": "0.11.9"
    }
  },
  "nbformat": 4,
  "nbformat_minor": 4
}