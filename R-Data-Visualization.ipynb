{
  "cells": [
    {
      "cell_type": "markdown",
      "source": [
        "# (Draft) Data Science - Professional Cerificate Program - Havard University"
      ],
      "metadata": {}
    },
    {
      "cell_type": "markdown",
      "source": [
        "## Data Science: Visualization"
      ],
      "metadata": {
        "collapsed": false,
        "outputHidden": false,
        "inputHidden": false
      }
    },
    {
      "cell_type": "markdown",
      "source": [
        "### Brief preface\n",
        "\n",
        "**A picture is worth a thousand words**\n",
        "\n",
        "Data visualization provides a powerful way to communicate a data driven finding. In some cases, the visualization is so convincing that no follow up analysis is required.\n",
        "\n",
        "An example: [Battling Infectious Diseases in the 20th Century: The Impact of Vaccines](http://graphics.wsj.com/infectious-diseases-and-vaccines/)\n",
        "\n",
        "> **The greatest value of a picture\n",
        "is when it forces us to notice what we never expected to see - John Tukey**\n",
        "\n",
        "Exploratory data analysis is perhaps the most important part of data analysis,\n",
        "yet it is often overlooked. Data visualization is also now pervasive and philanthropic\n",
        "in educational organizations.\n",
        "\n",
        "One example comes from GAPminder and the talks, \"New Insights on Poverty\"\n",
        "and \"The Best Stats You&#39;ve Ever Seen\", Hans Roslings forced us to notice the unexpected with a series of plots\n",
        "related to world health and economics. In his videos, he used animated graphs to show us how the world was changing,\n",
        "and how old narratives are no longer true.\n",
        "\n",
        "[New Insights on Poverty](https://www.ted.com/talks/hans_rosling_reveals_new_insights_on_poverty)\n",
        "\n",
        "[The Best Stats You&#39;ve Ever Seen](https://www.ted.com/talks/hans_rosling_shows_the_best_stats_you_ve_ever_seen)\n",
        "\n",
        "[Let my dataset change your mindset](https://www.gapminder.org/videos/ted-us-state-department/)\n",
        "\n",
        "It is also important to note that mistakes, biases, systematic errors,\n",
        "and other unexpected problems often lead to data\n",
        "that should be handled with care. Failure to discover these problems often leads to flawed analyzes\n",
        "and false discoveries.\n",
        "\n",
        "The fact that it can be hard or impossible to notice an error just\n",
        "from the reporter results makes data visualization particularly important."
      ],
      "metadata": {}
    },
    {
      "cell_type": "markdown",
      "source": [
        "### Section 1 - Overview\n",
        "\n",
        "- understand the importance of data visualization for communicating data-driven findings.\n",
        "\n",
        "- be able to use distributions to summarize data.\n",
        "\n",
        "- be able to use the average and the standard deviation to understand the normal distribution.\n",
        "\n",
        "- be able to assess how well a normal distribution fits the data using a quantile-quantile plot.\n",
        "\n- be able to interpret data from a boxplot."
      ],
      "metadata": {}
    },
    {
      "cell_type": "markdown",
      "source": [
        "#### Section 1.1 Introduction to Data Visualization"
      ],
      "metadata": {}
    },
    {
      "cell_type": "markdown",
      "source": [
        "### Distributions\n",
        "\n",
        "A distribution is a basic summary of data values. An average score number and occasionally the standard deviation can form a distribution.\n",
        "\n",
        "So, for example, you might read a report stating that scores at this high school\n",
        "were 680 plus or minus 50.\n",
        "\n",
        "**680 ± 50** (The first is the average score, the last the standard deviation)\n",
        "\n",
        "It turns out that in some cases, these two numbers\n",
        "are pretty much all we need to understand the data. Data visualization techniques will help us determine when this two-number summary is appropriate. These same techniques will serve as alternatives for when these two numbers are not enough.\n",
        "\n",
        "The most basic statistical summary of a list of objects or numbers\n",
        "is its **distribution**.\n",
        "\n",
        "Once a vector has been summarized as a distribution,\n",
        "there are several data visualization techniques to effectively relay\n",
        "this information."
      ],
      "metadata": {}
    },
    {
      "cell_type": "code",
      "source": [
        "install.packages(\"dslabs\")"
      ],
      "outputs": [],
      "execution_count": null,
      "metadata": {
        "collapsed": false,
        "outputHidden": false,
        "inputHidden": false
      }
    },
    {
      "cell_type": "code",
      "source": [
        "library(dslabs)"
      ],
      "outputs": [],
      "execution_count": null,
      "metadata": {
        "collapsed": false,
        "outputHidden": false,
        "inputHidden": false
      }
    },
    {
      "cell_type": "markdown",
      "source": [
        "### Data Types\n",
        "\n",
        "Categorial\n",
        "(Variables defined by a small number of groups: Sex(male, female), Regions(North, South)\n",
        "- Ordinals (Can be ordered in a semantic way: Spiciness(mild, medium, hot))\n",
        "- Non-Ordinals\n",
        "\n",
        "Numericals\n",
        "- Discrete (Have to be round numbers)\n",
        "- Continuous (Can have any value)"
      ],
      "metadata": {}
    },
    {
      "cell_type": "markdown",
      "source": [
        "#### Data Type Semantics"
      ],
      "metadata": {}
    },
    {
      "cell_type": "markdown",
      "source": [
        "The heights$height vector could be considered a **categorial** with categories like small, average, tall,\n",
        "\n",
        "but,\n",
        "\nit is more effective to consider the heights$height vector to be **numerical** given the number of unique values we observe and the fact that if we keep collecting data even more will be observed."
      ],
      "metadata": {}
    },
    {
      "cell_type": "code",
      "source": [
        "data(heights)\n",
        "str(heights)"
      ],
      "outputs": [
        {
          "output_type": "stream",
          "name": "stdout",
          "text": [
            "'data.frame':\t1050 obs. of  2 variables:\n",
            " $ sex   : Factor w/ 2 levels \"Female\",\"Male\": 2 2 2 2 2 1 1 1 1 2 ...\n",
            " $ height: num  75 70 68 74 61 65 66 62 66 67 ...\n"
          ]
        }
      ],
      "execution_count": 6,
      "metadata": {
        "collapsed": false,
        "outputHidden": false,
        "inputHidden": false
      }
    },
    {
      "cell_type": "code",
      "source": [
        "tab <- table(heights$height)\n",
        "sum(tab == 1) # unique values we observe"
      ],
      "outputs": [
        {
          "output_type": "display_data",
          "data": {
            "text/html": [
              "63"
            ],
            "text/markdown": [
              "63"
            ],
            "text/latex": [
              "63"
            ],
            "text/plain": [
              "[1] 63"
            ]
          },
          "metadata": {}
        }
      ],
      "execution_count": 7,
      "metadata": {
        "collapsed": false,
        "outputHidden": false,
        "inputHidden": false
      }
    },
    {
      "cell_type": "markdown",
      "source": [
        "#### Section 1.2 - Introduction to Distributions"
      ],
      "metadata": {}
    },
    {
      "cell_type": "markdown",
      "source": [
        "**Describe Heights to ET**\n",
        "\n",
        "A first artificial problem:\n",
        "\n",
        "Pretend that we have to describe the heights of our classmates\n",
        "to ET, an extraterrestrial that has never seen humans.\n",
        "\n",
        "As a first step, we need to collect data.\n",
        "To do this, we asked students to report their heights in inches.\n",
        "We asked them to provide sex information because we\n",
        "know there are two different groups of heights, males and females.\n",
        "\n",
        "One way to convey the heights to ET is to simply\n",
        "send him the list of 924 heights. But there are much more effective ways to convey this information, and understanding the concepts of distributions will help.\n",
        "\n",
        "Again: The most basic statistical summary of a list of objects or numbers\n",
        "is its distribution.\n",
        "\n\n"
      ],
      "metadata": {}
    },
    {
      "cell_type": "markdown",
      "source": [
        "**The simplest way to think of a distribution\n",
        "is as a compact description of a list with many elements.** For example: With categorical data, the distribution simply describes the proportions of each unique category. The sex represented in the heights data set can be summarized by the proportions of each of the two categories, female and male. This two category frequency table is the simplest form\n",
        "of a distribution we can form.\n"
      ],
      "metadata": {}
    },
    {
      "cell_type": "code",
      "source": [
        "one_percent = length(heights$sex)\n",
        "male_percentage = length(which(heights$sex == 'Male')) / length(heights$sex) * 100\n",
        "female_percantage = length(which(heights$sex == 'Female')) / length(heights$sex) * 100\n",
        "print('Distribution: Male/Female %')\n",
        "round(male_percentage)\n",
        "round(female_percantage)"
      ],
      "outputs": [
        {
          "output_type": "stream",
          "name": "stdout",
          "text": [
            "[1] \"Distribution: Male/Female %\"\n"
          ]
        },
        {
          "output_type": "display_data",
          "data": {
            "text/html": [
              "77"
            ],
            "text/markdown": [
              "77"
            ],
            "text/latex": [
              "77"
            ],
            "text/plain": [
              "[1] 77"
            ]
          },
          "metadata": {}
        },
        {
          "output_type": "display_data",
          "data": {
            "text/html": [
              "23"
            ],
            "text/markdown": [
              "23"
            ],
            "text/latex": [
              "23"
            ],
            "text/plain": [
              "[1] 23"
            ]
          },
          "metadata": {}
        }
      ],
      "execution_count": 38,
      "metadata": {
        "collapsed": false,
        "outputHidden": false,
        "inputHidden": false
      }
    },
    {
      "cell_type": "markdown",
      "source": [
        "When the data is numerical, the task is much more challenging.\n",
        "\n",
        "Why ? In general, when data is not categorical, reporting the frequency of each unique entry is not an effective summary since most entries are unique.\n",
        "\n",
        "For example, while several students reported a height of 68 inches,\n",
        "only one student reported a height of 68.503937007874 inches.\n",
        "And only one student reported a height of 68.8976377952756 inches.\n",
        "We assume that they converted from 174 centimeters and 175 centimeters\n",
        "to inches respectively.\n",
        "\n",
        "Statistics textbooks teach us that a more useful way\n",
        "to define a distribution for numerical data\n",
        "is to define a function that reports the proportion of the data\n",
        "below a value A for all possible values of A. **This function is called a cumulative distribution function or CDF.**\n",
        "\n",
        "In fact, we can report the proportion of values between any two heights,\n",
        "say a and b, by computing f of b, and then subtracting f of a.\n",
        "This means that if we send this plot to ET,\n",
        "he will have all the information needed to construct the entire list.\n",
        "\n",
        "<small>Final note: Because CDFs can be determined mathematically,\n",
        "as opposed to using data as we do here, the word empirical\n",
        "is added to distinguish, and we use the term empirical CDF or ECDF.</small>"
      ],
      "metadata": {}
    },
    {
      "cell_type": "markdown",
      "source": [
        "(ADD EXAMPLE CDF PLOT)"
      ],
      "metadata": {}
    },
    {
      "cell_type": "markdown",
      "source": [
        "Although the CDF provides all the information we need and it is widely discussed in statistics textbooks, the plot is actually not very popular in practice.\n",
        "\n",
        "The main reason is that it does not easily convey characteristics of interest, such as,\n",
        "at what value is the distribution centered, is the distribution symmetric, what range contains 95% of the data.\n",
        "\n",
        "We can decipher all this from the plot, but it's not that easy.\n",
        "\n",
        "Histograms are much preferred because they greatly\n",
        "facilitate answering such questions. Histograms sacrifice just a bit of information to produce plots that are much easier to interpret.\n",
        "\nThe simplest way to make a histogram is to divide a span of our data into non-overlapping bins of the same size. Then for each bin, we count the number of values that fall in that interval. The histogram plots these counts as bars with the base of the bar the interval."
      ],
      "metadata": {}
    },
    {
      "cell_type": "code",
      "source": [
        "head(heights)"
      ],
      "outputs": [
        {
          "output_type": "display_data",
          "data": {
            "text/html": [
              "<table>\n",
              "<thead><tr><th scope=col>sex</th><th scope=col>height</th></tr></thead>\n",
              "<tbody>\n",
              "\t<tr><td>Male  </td><td>75    </td></tr>\n",
              "\t<tr><td>Male  </td><td>70    </td></tr>\n",
              "\t<tr><td>Male  </td><td>68    </td></tr>\n",
              "\t<tr><td>Male  </td><td>74    </td></tr>\n",
              "\t<tr><td>Male  </td><td>61    </td></tr>\n",
              "\t<tr><td>Female</td><td>65    </td></tr>\n",
              "</tbody>\n",
              "</table>\n"
            ],
            "text/markdown": [
              "\n",
              "sex | height | \n",
              "|---|---|---|---|---|---|\n",
              "| Male   | 75     | \n",
              "| Male   | 70     | \n",
              "| Male   | 68     | \n",
              "| Male   | 74     | \n",
              "| Male   | 61     | \n",
              "| Female | 65     | \n",
              "\n\n"
            ],
            "text/latex": [
              "\\begin{tabular}{r|ll}\n",
              " sex & height\\\\\n",
              "\\hline\n",
              "\t Male   & 75    \\\\\n",
              "\t Male   & 70    \\\\\n",
              "\t Male   & 68    \\\\\n",
              "\t Male   & 74    \\\\\n",
              "\t Male   & 61    \\\\\n",
              "\t Female & 65    \\\\\n",
              "\\end{tabular}\n"
            ],
            "text/plain": [
              "  sex    height\n",
              "1 Male   75    \n",
              "2 Male   70    \n",
              "3 Male   68    \n",
              "4 Male   74    \n",
              "5 Male   61    \n",
              "6 Female 65    "
            ]
          },
          "metadata": {}
        }
      ],
      "execution_count": 8,
      "metadata": {
        "collapsed": false,
        "outputHidden": false,
        "inputHidden": false
      }
    },
    {
      "cell_type": "markdown",
      "source": [
        "**Smooth Density Plots**\n",
        "\n",
        "Smooth density plots are similar to histograms,\n",
        "but are aesthetically more appealing.\n",
        "\n",
        "Heuristic explanation\n",
        "\n",
        "The main new concept to understand\n",
        "is that we assume that our list of observed values of observed heights\n",
        "comes from a much, much larger list of unobserved values.\n",
        "\n",
        "So in the case of male heights, you can imagine\n",
        "our lists of students heights comes from a hypothetical list containing\n",
        "all the heights of all the male students in all the world measured\n",
        "very precisely.\n",
        "\n",
        "Because we're assuming that we have (supposed) a million values measured very precisely,\n",
        "we can make a histogram with very, very small bins.\n",
        "This is going to help us understand what smooth densities are.\n",
        "The assumption is that if we do this, consecutive bins will be similar.\n",
        "This is what we mean by smooth. To make the curve not depend on the hypothetical size\n",
        "of the hypothetical list, we compute the curve on the frequency scale\n",
        "rather than the count scale.\n",
        "\n",
        "Now back to reality.\n",
        "\n",
        "With our example, we don't have millions of measurements.\n",
        "Instead, we have 708 and we can't make a histogram with very, very small bins.\n",
        "So how can we estimate this hypothetical smooth curve\n",
        "that we would see if we would see all the measurements?"
      ],
      "metadata": {}
    },
    {
      "cell_type": "markdown",
      "source": [
        "So what we're going to do is we're going to start\n",
        "by making a histogram with our data, compute frequencies rather than counts,\n",
        "and using the bin size appropriate for our data,\n",
        "so the histogram looks like this."
      ],
      "metadata": {}
    },
    {
      "cell_type": "markdown",
      "source": [
        "(ADD EXAMPLE)"
      ],
      "metadata": {}
    },
    {
      "cell_type": "code",
      "source": [
        "hist(heights$height) # unfinished example"
      ],
      "outputs": [
        {
          "output_type": "display_data",
          "data": {
            "text/plain": [
              "Plot with title \"Histogram of heights$height\""
            ],
            "image/png": "[encoded data removed]"
          },
          "metadata": {}
        }
      ],
      "execution_count": 11,
      "metadata": {
        "collapsed": false,
        "outputHidden": false,
        "inputHidden": false,
        "outputExpanded": true
      }
    },
    {
      "cell_type": "markdown",
      "source": [
        "To smooth the histogram what we're going to do\n",
        "is we're going to start by keeping the heights of the histogram bar.\n",
        "And now we draw a smooth curve that goes through the top\n",
        "of these histograms bars."
      ],
      "metadata": {}
    },
    {
      "cell_type": "markdown",
      "source": [
        "We can actually control the smoothness of the curve that\n",
        "defines a smooth density through an option in the function, the GG plot\n",
        "option that computes the smooth density."
      ],
      "metadata": {}
    },
    {
      "cell_type": "markdown",
      "source": [
        "**Understanding the units of the y-axis**\n",
        "\n",
        "We point out that interpreting the y-axis of a smooth density plot is not straightforward.\n",
        "\n",
        "It is scaled so that the area under the density curve adds up to 1.\n",
        "So if you imagine, you form a bin with a base that is 1 unit long.\n",
        "The y-axis value tells us the proportion of values in that bin.\n",
        "\n",
        "But this is only true if the bin is of size 1.\n",
        "\n",
        "For other size intervals, the best way to determine the proportion of data\n",
        "in that interval is by computing the proportion of the total area contained\n",
        "in that interval."
      ],
      "metadata": {}
    },
    {
      "cell_type": "markdown",
      "source": [
        "(ADD SMOOTH DENSITY PLOT EXAMPLE)"
      ],
      "metadata": {}
    },
    {
      "cell_type": "markdown",
      "source": [
        "We should select a degree of smoothness that we\n",
        "can defend as being representative of the underlying data.\n",
        "In the case of height, we really do have reason\n",
        "to believe that there are a proportion of people\n",
        "with similar heights should be about the same."
      ],
      "metadata": {}
    },
    {
      "cell_type": "markdown",
      "source": [
        "Always keep in mind that while the histogram is an assumption\n",
        "free summary, the smooth density is based on assumptions and choices\n",
        "that you make as a data analyst."
      ],
      "metadata": {}
    },
    {
      "cell_type": "markdown",
      "source": [
        "### Normal Distribution\n",
        "(Also known as 'the bell curve' and 'Gaussian distribution')\n",
        "\n",
        "It is one of the most famous mathematical concepts in history. A reason for this is that approximately normal distributions occur in many situations.\n",
        "\nExamples include, gambling winnings, heights, weights, blood pressure, standardized test scores, and experimental measurement error."
      ],
      "metadata": {}
    },
    {
      "cell_type": "markdown",
      "source": [
        "(ADD FURTHER EXPLANATION)"
      ],
      "metadata": {}
    },
    {
      "cell_type": "code",
      "source": [
        "index <- heights$sex == \"Male\"\n",
        "x <- heights$height[index]\n",
        "\n",
        "#average <- sum(x) / length(x)\n",
        "average <- mean(x)\n",
        "#standard_deviation <- sqrt(sum(x-average)^2 / length(x))\n",
        "standard_deviation <- sd(x)\n",
        "\nc(Average = average, SD=standard_deviation)"
      ],
      "outputs": [
        {
          "output_type": "display_data",
          "data": {
            "text/html": [
              "<dl class=dl-horizontal>\n",
              "\t<dt>Average</dt>\n",
              "\t\t<dd>69.3147549414356</dd>\n",
              "\t<dt>SD</dt>\n",
              "\t\t<dd>3.6110236746673</dd>\n",
              "</dl>\n"
            ],
            "text/markdown": [
              "Average\n",
              ":   69.3147549414356SD\n",
              ":   3.6110236746673\n",
              "\n"
            ],
            "text/latex": [
              "\\begin{description*}\n",
              "\\item[Average] 69.3147549414356\n",
              "\\item[SD] 3.6110236746673\n",
              "\\end{description*}\n"
            ],
            "text/plain": [
              "  Average        SD \n",
              "69.314755  3.611024 "
            ]
          },
          "metadata": {}
        }
      ],
      "execution_count": 43,
      "metadata": {
        "collapsed": false,
        "outputHidden": false,
        "inputHidden": false
      }
    },
    {
      "cell_type": "markdown",
      "source": [
        "You can think of this as the average distance\n",
        "between the values and their average."
      ],
      "metadata": {}
    },
    {
      "cell_type": "markdown",
      "source": [
        "### Standard Units\n",
        "\n",
        "For data that is approximately normal, it\n",
        "is convenient to think in terms of standard units.\n",
        "The standard unit of value tells us how many standard deviations away\n",
        "from the average this value is.\n",
        "\n",
        "z = (x-average)/standard_deviation\n",
        "\n",
        "To understand why standard units are useful,\n",
        "notice that if we convert normally distributed data into standard units, we can quickly know if for example, a person is about average height, that would mean z equals 0.\n",
        "\n",
        "A person that is tall would be z equals 2.\n",
        "\n",
        "A person that is short would be z equals negative 2.\n",
        "\n",
        "And extremely rare occurrences, say a 7 footer or something like that, would have a z bigger than 3.\n",
        "\n",
        "Note that it does not matter what the original units are.\n",
        "These rules apply to any data that is approximately normal."
      ],
      "metadata": {}
    },
    {
      "cell_type": "markdown",
      "source": [
        "In R, we can quickly obtain standard units using the function _scale_."
      ],
      "metadata": {}
    },
    {
      "cell_type": "code",
      "source": [
        "head(scale(x))"
      ],
      "outputs": [
        {
          "output_type": "display_data",
          "data": {
            "text/html": [
              "<table>\n",
              "<tbody>\n",
              "\t<tr><td> 1.5744137</td></tr>\n",
              "\t<tr><td> 0.1897648</td></tr>\n",
              "\t<tr><td>-0.3640948</td></tr>\n",
              "\t<tr><td> 1.2974839</td></tr>\n",
              "\t<tr><td>-2.3026033</td></tr>\n",
              "\t<tr><td>-0.6410246</td></tr>\n",
              "</tbody>\n",
              "</table>\n"
            ],
            "text/markdown": [
              "\n",
              "|  1.5744137 | \n",
              "|  0.1897648 | \n",
              "| -0.3640948 | \n",
              "|  1.2974839 | \n",
              "| -2.3026033 | \n",
              "| -0.6410246 | \n",
              "\n\n"
            ],
            "text/latex": [
              "\\begin{tabular}{l}\n",
              "\t  1.5744137\\\\\n",
              "\t  0.1897648\\\\\n",
              "\t -0.3640948\\\\\n",
              "\t  1.2974839\\\\\n",
              "\t -2.3026033\\\\\n",
              "\t -0.6410246\\\\\n",
              "\\end{tabular}\n"
            ],
            "text/plain": [
              "     [,1]      \n",
              "[1,]  1.5744137\n",
              "[2,]  0.1897648\n",
              "[3,] -0.3640948\n",
              "[4,]  1.2974839\n",
              "[5,] -2.3026033\n",
              "[6,] -0.6410246"
            ]
          },
          "metadata": {}
        }
      ],
      "execution_count": 45,
      "metadata": {
        "collapsed": false,
        "outputHidden": false,
        "inputHidden": false
      }
    },
    {
      "cell_type": "markdown",
      "source": [
        "To see how many men are within two standard deviations from the average, now that we were already converted to standard units, **all we have to do is count the number of z's that are less than 2 and bigger than negative 2, and then divide by the total**."
      ],
      "metadata": {}
    },
    {
      "cell_type": "code",
      "source": [
        "z = (x-average)/standard_deviation\n",
        "mean(abs(z) < 2)"
      ],
      "outputs": [
        {
          "output_type": "display_data",
          "data": {
            "text/html": [
              "0.949507389162562"
            ],
            "text/markdown": [
              "0.949507389162562"
            ],
            "text/latex": [
              "0.949507389162562"
            ],
            "text/plain": [
              "[1] 0.9495074"
            ]
          },
          "metadata": {}
        }
      ],
      "execution_count": 47,
      "metadata": {}
    },
    {
      "cell_type": "markdown",
      "source": [
        "If we can assume that the data is approximately normal,\n",
        "at least for this interval, we can predict the proportion\n",
        "without actually looking at the data.\n",
        "We simply know that 95% of the data for normally\n",
        "distributed data is between negative 2 and 2."
      ],
      "metadata": {}
    },
    {
      "cell_type": "markdown",
      "source": [
        "Now to further confirm that in fact the approximation is a good one, we need to look at other intervals.\n",
        "And for this, we will use quantile plots."
      ],
      "metadata": {}
    }
  ],
  "metadata": {
    "kernel_info": {
      "name": "ir"
    },
    "language_info": {
      "name": "R",
      "codemirror_mode": "r",
      "pygments_lexer": "r",
      "mimetype": "text/x-r-source",
      "file_extension": ".r",
      "version": "3.5.1"
    },
    "kernelspec": {
      "name": "ir",
      "language": "R",
      "display_name": "R"
    },
    "nteract": {
      "version": "0.11.9"
    }
  },
  "nbformat": 4,
  "nbformat_minor": 4
}