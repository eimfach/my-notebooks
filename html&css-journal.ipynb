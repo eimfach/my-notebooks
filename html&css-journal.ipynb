{
  "cells": [
    {
      "cell_type": "markdown",
      "source": [
        "<div style=\"background-color: red; padding-left: 20px; border-left: 3px solid #E5E5E5; background-color: rgba(245,245,245,0.9);\">\n",
        "    <h1>HTML & CSS Journal</h1>\n",
        "</div"
      ],
      "metadata": {
        "nteract": {
          "transient": {
            "deleting": false
          }
        }
      }
    },
    {
      "cell_type": "markdown",
      "source": [
        "### Useful documentation\n",
        "\n",
        "- [MDN Styling web forms](https://developer.mozilla.org/en-US/docs/Learn/Forms/Styling_web_forms)\n",
        "- [Flexbox and Truncated Text](https://css-tricks.com/flexbox-truncated-text/)\n",
        "- [Easy CSS Animation Using @keyframes](https://webdesignerwall.com/tutorials/easy-css-animation-using-keyframes)\n",
        "- [Delay animation iterations](https://css-tricks.com/css-keyframe-animation-delay-iterations/)"
      ],
      "metadata": {
        "nteract": {
          "transient": {
            "deleting": false
          }
        }
      }
    },
    {
      "cell_type": "markdown",
      "source": [
        "### CSS Libs\n",
        "\n",
        "- [Animate.css](https://daneden.github.io/animate.css/)"
      ],
      "metadata": {
        "nteract": {
          "transient": {
            "deleting": false
          }
        }
      }
    },
    {
      "cell_type": "markdown",
      "source": [
        "## Fancy stuff\n",
        "\n",
        "- [Slide In (as you scroll down) Boxes](https://css-tricks.com/slide-in-as-you-scroll-down-boxes/)"
      ],
      "metadata": {
        "nteract": {
          "transient": {
            "deleting": false
          }
        }
      }
    }
  ],
  "metadata": {
    "kernel_info": {
      "name": "python3"
    },
    "language_info": {
      "name": "python3"
    },
    "kernelspec": {
      "argv": [
        "/usr/local/opt/python/bin/python3.7",
        "-m",
        "ipykernel_launcher",
        "-f",
        "{connection_file}"
      ],
      "display_name": "Python 3",
      "language": "python",
      "name": "python3"
    },
    "nteract": {
      "version": "0.22.0"
    }
  },
  "nbformat": 4,
  "nbformat_minor": 0
}