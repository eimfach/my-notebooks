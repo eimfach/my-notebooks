{
  "cells": [
    {
      "cell_type": "markdown",
      "source": [
        "# My Pyton Library Testing Book"
      ],
      "metadata": {
        "nteract": {
          "transient": {
            "deleting": false
          }
        }
      }
    },
    {
      "cell_type": "code",
      "source": [
        "import mistune"
      ],
      "outputs": [],
      "execution_count": 7,
      "metadata": {
        "collapsed": false,
        "jupyter": {
          "source_hidden": false,
          "outputs_hidden": false
        },
        "nteract": {
          "transient": {
            "deleting": false
          }
        },
        "execution": {
          "iopub.status.busy": "2020-03-10T10:09:58.426Z",
          "iopub.execute_input": "2020-03-10T10:09:58.433Z",
          "iopub.status.idle": "2020-03-10T10:09:58.443Z",
          "shell.execute_reply": "2020-03-10T10:09:58.451Z"
        }
      }
    },
    {
      "cell_type": "code",
      "source": [
        "mistune.markdown('''abc abc''')"
      ],
      "outputs": [
        {
          "output_type": "execute_result",
          "execution_count": 11,
          "data": {
            "text/plain": [
              "'<p>abc abc</p>\\n'"
            ]
          },
          "metadata": {}
        }
      ],
      "execution_count": 11,
      "metadata": {
        "collapsed": false,
        "jupyter": {
          "source_hidden": false,
          "outputs_hidden": false
        },
        "nteract": {
          "transient": {
            "deleting": false
          }
        },
        "execution": {
          "iopub.status.busy": "2020-03-10T10:03:50.547Z",
          "iopub.execute_input": "2020-03-10T10:03:50.552Z",
          "iopub.status.idle": "2020-03-10T10:03:50.564Z",
          "shell.execute_reply": "2020-03-10T10:03:50.571Z"
        }
      }
    },
    {
      "cell_type": "code",
      "source": [
        "mistune.markdown('`test`')"
      ],
      "outputs": [
        {
          "output_type": "execute_result",
          "execution_count": 13,
          "data": {
            "text/plain": [
              "'<p><code>test</code></p>\\n'"
            ]
          },
          "metadata": {}
        }
      ],
      "execution_count": 13,
      "metadata": {
        "collapsed": false,
        "jupyter": {
          "source_hidden": false,
          "outputs_hidden": false
        },
        "nteract": {
          "transient": {
            "deleting": false
          }
        },
        "execution": {
          "iopub.status.busy": "2020-03-10T10:04:50.469Z",
          "iopub.execute_input": "2020-03-10T10:04:50.474Z",
          "iopub.status.idle": "2020-03-10T10:04:50.480Z",
          "shell.execute_reply": "2020-03-10T10:04:50.490Z"
        }
      }
    },
    {
      "cell_type": "code",
      "source": [
        "mistune.markdown('```test```')"
      ],
      "outputs": [
        {
          "output_type": "execute_result",
          "execution_count": 14,
          "data": {
            "text/plain": [
              "'<p><code>test</code></p>\\n'"
            ]
          },
          "metadata": {}
        }
      ],
      "execution_count": 14,
      "metadata": {
        "collapsed": false,
        "jupyter": {
          "source_hidden": false,
          "outputs_hidden": false
        },
        "nteract": {
          "transient": {
            "deleting": false
          }
        },
        "execution": {
          "iopub.status.busy": "2020-03-10T10:05:03.996Z",
          "iopub.execute_input": "2020-03-10T10:05:04.000Z",
          "iopub.status.idle": "2020-03-10T10:05:04.010Z",
          "shell.execute_reply": "2020-03-10T10:05:04.025Z"
        }
      }
    },
    {
      "cell_type": "code",
      "source": [
        "mistune.markdown('- a \\n\\n - a')"
      ],
      "outputs": [
        {
          "output_type": "execute_result",
          "execution_count": 9,
          "data": {
            "text/plain": [
              "'<ul>\\n<li><p>a</p>\\n<ul>\\n<li>a</li>\\n</ul>\\n</li>\\n</ul>\\n'"
            ]
          },
          "metadata": {}
        }
      ],
      "execution_count": 9,
      "metadata": {
        "collapsed": false,
        "jupyter": {
          "source_hidden": false,
          "outputs_hidden": false
        },
        "nteract": {
          "transient": {
            "deleting": false
          }
        },
        "execution": {
          "iopub.status.busy": "2020-03-10T10:15:03.666Z",
          "iopub.execute_input": "2020-03-10T10:15:03.672Z",
          "iopub.status.idle": "2020-03-10T10:15:03.694Z",
          "shell.execute_reply": "2020-03-10T10:15:03.699Z"
        }
      }
    },
    {
      "cell_type": "code",
      "source": [
        "import markdown"
      ],
      "outputs": [
        {
          "output_type": "error",
          "ename": "ModuleNotFoundError",
          "evalue": "No module named 'markdown'",
          "traceback": [
            "\u001b[0;31m---------------------------------------------------------------------------\u001b[0m",
            "\u001b[0;31mModuleNotFoundError\u001b[0m                       Traceback (most recent call last)",
            "\u001b[0;32m<ipython-input-8-eabb16ae5fea>\u001b[0m in \u001b[0;36m<module>\u001b[0;34m\u001b[0m\n\u001b[0;32m----> 1\u001b[0;31m \u001b[0;32mimport\u001b[0m \u001b[0mmarkdown\u001b[0m\u001b[0;34m\u001b[0m\u001b[0;34m\u001b[0m\u001b[0m\n\u001b[0m",
            "\u001b[0;31mModuleNotFoundError\u001b[0m: No module named 'markdown'"
          ]
        }
      ],
      "execution_count": 8,
      "metadata": {
        "collapsed": false,
        "jupyter": {
          "source_hidden": false,
          "outputs_hidden": false
        },
        "nteract": {
          "transient": {
            "deleting": false
          }
        },
        "execution": {
          "iopub.status.busy": "2020-03-10T10:14:12.000Z",
          "iopub.execute_input": "2020-03-10T10:14:12.041Z",
          "iopub.status.idle": "2020-03-10T10:14:12.055Z",
          "shell.execute_reply": "2020-03-10T10:14:12.063Z"
        }
      }
    }
  ],
  "metadata": {
    "kernel_info": {
      "name": "python3"
    },
    "language_info": {
      "name": "python",
      "version": "3.7.5",
      "mimetype": "text/x-python",
      "codemirror_mode": {
        "name": "ipython",
        "version": 3
      },
      "pygments_lexer": "ipython3",
      "nbconvert_exporter": "python",
      "file_extension": ".py"
    },
    "kernelspec": {
      "argv": [
        "/usr/local/opt/python/bin/python3.7",
        "-m",
        "ipykernel_launcher",
        "-f",
        "{connection_file}"
      ],
      "display_name": "Python 3",
      "language": "python",
      "name": "python3"
    },
    "nteract": {
      "version": "0.22.0"
    }
  },
  "nbformat": 4,
  "nbformat_minor": 0
}